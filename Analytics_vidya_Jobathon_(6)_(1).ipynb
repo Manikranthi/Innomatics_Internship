{
  "nbformat": 4,
  "nbformat_minor": 0,
  "metadata": {
    "accelerator": "GPU",
    "colab": {
      "name": "Analytics_vidya_Jobathon (6) (1).ipynb",
      "provenance": [],
      "collapsed_sections": [],
      "include_colab_link": true
    },
    "kernelspec": {
      "display_name": "Python 3",
      "name": "python3"
    }
  },
  "cells": [
    {
      "cell_type": "markdown",
      "metadata": {
        "id": "view-in-github",
        "colab_type": "text"
      },
      "source": [
        "<a href=\"https://colab.research.google.com/github/Manikranthi/Innomatics_Internship/blob/main/Analytics_vidya_Jobathon_(6)_(1).ipynb\" target=\"_parent\"><img src=\"https://colab.research.google.com/assets/colab-badge.svg\" alt=\"Open In Colab\"/></a>"
      ]
    },
    {
      "cell_type": "code",
      "metadata": {
        "id": "_IuCKuhlCHxo",
        "colab": {
          "base_uri": "https://localhost:8080/"
        },
        "outputId": "f3b5c123-518d-4fa8-dbb8-c0f9271237c9"
      },
      "source": [
        "from google.colab import drive\n",
        "drive.mount('/content/drive')"
      ],
      "execution_count": 70,
      "outputs": [
        {
          "output_type": "stream",
          "text": [
            "Drive already mounted at /content/drive; to attempt to forcibly remount, call drive.mount(\"/content/drive\", force_remount=True).\n"
          ],
          "name": "stdout"
        }
      ]
    },
    {
      "cell_type": "code",
      "metadata": {
        "id": "1JKN7z4rqEko"
      },
      "source": [
        "#Importing all the libraries\r\n",
        "\r\n",
        "import numpy as np\r\n",
        "import pandas as pd\r\n",
        "import matplotlib.pyplot as plt\r\n",
        "import seaborn as sns\r\n",
        "from sklearn.model_selection import train_test_split\r\n",
        "from sklearn.preprocessing import StandardScaler"
      ],
      "execution_count": 71,
      "outputs": []
    },
    {
      "cell_type": "code",
      "metadata": {
        "id": "_TwhSanOqxgn",
        "colab": {
          "base_uri": "https://localhost:8080/",
          "height": 456
        },
        "outputId": "ccdecd11-7823-4c40-f26f-3af93e8f1f8b"
      },
      "source": [
        "train=pd.read_csv('/content/drive/MyDrive/batch45/train_Df64byy.csv')\r\n",
        "train"
      ],
      "execution_count": 76,
      "outputs": [
        {
          "output_type": "execute_result",
          "data": {
            "text/html": [
              "<div>\n",
              "<style scoped>\n",
              "    .dataframe tbody tr th:only-of-type {\n",
              "        vertical-align: middle;\n",
              "    }\n",
              "\n",
              "    .dataframe tbody tr th {\n",
              "        vertical-align: top;\n",
              "    }\n",
              "\n",
              "    .dataframe thead th {\n",
              "        text-align: right;\n",
              "    }\n",
              "</style>\n",
              "<table border=\"1\" class=\"dataframe\">\n",
              "  <thead>\n",
              "    <tr style=\"text-align: right;\">\n",
              "      <th></th>\n",
              "      <th>ID</th>\n",
              "      <th>City_Code</th>\n",
              "      <th>Region_Code</th>\n",
              "      <th>Accomodation_Type</th>\n",
              "      <th>Reco_Insurance_Type</th>\n",
              "      <th>Upper_Age</th>\n",
              "      <th>Lower_Age</th>\n",
              "      <th>Is_Spouse</th>\n",
              "      <th>Health Indicator</th>\n",
              "      <th>Holding_Policy_Duration</th>\n",
              "      <th>Holding_Policy_Type</th>\n",
              "      <th>Reco_Policy_Cat</th>\n",
              "      <th>Reco_Policy_Premium</th>\n",
              "      <th>Response</th>\n",
              "    </tr>\n",
              "  </thead>\n",
              "  <tbody>\n",
              "    <tr>\n",
              "      <th>0</th>\n",
              "      <td>1</td>\n",
              "      <td>C3</td>\n",
              "      <td>3213</td>\n",
              "      <td>Rented</td>\n",
              "      <td>Individual</td>\n",
              "      <td>36</td>\n",
              "      <td>36</td>\n",
              "      <td>No</td>\n",
              "      <td>X1</td>\n",
              "      <td>14+</td>\n",
              "      <td>3.0</td>\n",
              "      <td>22</td>\n",
              "      <td>11628.0</td>\n",
              "      <td>0</td>\n",
              "    </tr>\n",
              "    <tr>\n",
              "      <th>1</th>\n",
              "      <td>2</td>\n",
              "      <td>C5</td>\n",
              "      <td>1117</td>\n",
              "      <td>Owned</td>\n",
              "      <td>Joint</td>\n",
              "      <td>75</td>\n",
              "      <td>22</td>\n",
              "      <td>No</td>\n",
              "      <td>X2</td>\n",
              "      <td>NaN</td>\n",
              "      <td>NaN</td>\n",
              "      <td>22</td>\n",
              "      <td>30510.0</td>\n",
              "      <td>0</td>\n",
              "    </tr>\n",
              "    <tr>\n",
              "      <th>2</th>\n",
              "      <td>3</td>\n",
              "      <td>C5</td>\n",
              "      <td>3732</td>\n",
              "      <td>Owned</td>\n",
              "      <td>Individual</td>\n",
              "      <td>32</td>\n",
              "      <td>32</td>\n",
              "      <td>No</td>\n",
              "      <td>NaN</td>\n",
              "      <td>1.0</td>\n",
              "      <td>1.0</td>\n",
              "      <td>19</td>\n",
              "      <td>7450.0</td>\n",
              "      <td>1</td>\n",
              "    </tr>\n",
              "    <tr>\n",
              "      <th>3</th>\n",
              "      <td>4</td>\n",
              "      <td>C24</td>\n",
              "      <td>4378</td>\n",
              "      <td>Owned</td>\n",
              "      <td>Joint</td>\n",
              "      <td>52</td>\n",
              "      <td>48</td>\n",
              "      <td>No</td>\n",
              "      <td>X1</td>\n",
              "      <td>14+</td>\n",
              "      <td>3.0</td>\n",
              "      <td>19</td>\n",
              "      <td>17780.0</td>\n",
              "      <td>0</td>\n",
              "    </tr>\n",
              "    <tr>\n",
              "      <th>4</th>\n",
              "      <td>5</td>\n",
              "      <td>C8</td>\n",
              "      <td>2190</td>\n",
              "      <td>Rented</td>\n",
              "      <td>Individual</td>\n",
              "      <td>44</td>\n",
              "      <td>44</td>\n",
              "      <td>No</td>\n",
              "      <td>X2</td>\n",
              "      <td>3.0</td>\n",
              "      <td>1.0</td>\n",
              "      <td>16</td>\n",
              "      <td>10404.0</td>\n",
              "      <td>0</td>\n",
              "    </tr>\n",
              "    <tr>\n",
              "      <th>...</th>\n",
              "      <td>...</td>\n",
              "      <td>...</td>\n",
              "      <td>...</td>\n",
              "      <td>...</td>\n",
              "      <td>...</td>\n",
              "      <td>...</td>\n",
              "      <td>...</td>\n",
              "      <td>...</td>\n",
              "      <td>...</td>\n",
              "      <td>...</td>\n",
              "      <td>...</td>\n",
              "      <td>...</td>\n",
              "      <td>...</td>\n",
              "      <td>...</td>\n",
              "    </tr>\n",
              "    <tr>\n",
              "      <th>50877</th>\n",
              "      <td>50878</td>\n",
              "      <td>C4</td>\n",
              "      <td>845</td>\n",
              "      <td>Rented</td>\n",
              "      <td>Individual</td>\n",
              "      <td>22</td>\n",
              "      <td>22</td>\n",
              "      <td>No</td>\n",
              "      <td>X3</td>\n",
              "      <td>NaN</td>\n",
              "      <td>NaN</td>\n",
              "      <td>18</td>\n",
              "      <td>7704.0</td>\n",
              "      <td>0</td>\n",
              "    </tr>\n",
              "    <tr>\n",
              "      <th>50878</th>\n",
              "      <td>50879</td>\n",
              "      <td>C5</td>\n",
              "      <td>4188</td>\n",
              "      <td>Rented</td>\n",
              "      <td>Individual</td>\n",
              "      <td>27</td>\n",
              "      <td>27</td>\n",
              "      <td>No</td>\n",
              "      <td>X3</td>\n",
              "      <td>7.0</td>\n",
              "      <td>3.0</td>\n",
              "      <td>4</td>\n",
              "      <td>5408.0</td>\n",
              "      <td>0</td>\n",
              "    </tr>\n",
              "    <tr>\n",
              "      <th>50879</th>\n",
              "      <td>50880</td>\n",
              "      <td>C1</td>\n",
              "      <td>442</td>\n",
              "      <td>Rented</td>\n",
              "      <td>Individual</td>\n",
              "      <td>63</td>\n",
              "      <td>63</td>\n",
              "      <td>No</td>\n",
              "      <td>X2</td>\n",
              "      <td>14+</td>\n",
              "      <td>1.0</td>\n",
              "      <td>12</td>\n",
              "      <td>11374.0</td>\n",
              "      <td>0</td>\n",
              "    </tr>\n",
              "    <tr>\n",
              "      <th>50880</th>\n",
              "      <td>50881</td>\n",
              "      <td>C1</td>\n",
              "      <td>4</td>\n",
              "      <td>Owned</td>\n",
              "      <td>Joint</td>\n",
              "      <td>71</td>\n",
              "      <td>49</td>\n",
              "      <td>No</td>\n",
              "      <td>X2</td>\n",
              "      <td>2.0</td>\n",
              "      <td>2.0</td>\n",
              "      <td>16</td>\n",
              "      <td>28179.2</td>\n",
              "      <td>1</td>\n",
              "    </tr>\n",
              "    <tr>\n",
              "      <th>50881</th>\n",
              "      <td>50882</td>\n",
              "      <td>C3</td>\n",
              "      <td>3866</td>\n",
              "      <td>Rented</td>\n",
              "      <td>Individual</td>\n",
              "      <td>24</td>\n",
              "      <td>24</td>\n",
              "      <td>No</td>\n",
              "      <td>X3</td>\n",
              "      <td>2.0</td>\n",
              "      <td>3.0</td>\n",
              "      <td>18</td>\n",
              "      <td>11424.0</td>\n",
              "      <td>0</td>\n",
              "    </tr>\n",
              "  </tbody>\n",
              "</table>\n",
              "<p>50882 rows × 14 columns</p>\n",
              "</div>"
            ],
            "text/plain": [
              "          ID City_Code  ...  Reco_Policy_Premium Response\n",
              "0          1        C3  ...              11628.0        0\n",
              "1          2        C5  ...              30510.0        0\n",
              "2          3        C5  ...               7450.0        1\n",
              "3          4       C24  ...              17780.0        0\n",
              "4          5        C8  ...              10404.0        0\n",
              "...      ...       ...  ...                  ...      ...\n",
              "50877  50878        C4  ...               7704.0        0\n",
              "50878  50879        C5  ...               5408.0        0\n",
              "50879  50880        C1  ...              11374.0        0\n",
              "50880  50881        C1  ...              28179.2        1\n",
              "50881  50882        C3  ...              11424.0        0\n",
              "\n",
              "[50882 rows x 14 columns]"
            ]
          },
          "metadata": {
            "tags": []
          },
          "execution_count": 76
        }
      ]
    },
    {
      "cell_type": "code",
      "metadata": {
        "id": "MsBedumJq8Ij"
      },
      "source": [
        "test=pd.read_csv('/content/drive/MyDrive/batch45/test_YCcRUnU.csv')\r\n",
        "test\r\n",
        "id_list=list(test['ID'])\r\n",
        "test=test.drop('ID',axis=1)"
      ],
      "execution_count": 157,
      "outputs": []
    },
    {
      "cell_type": "code",
      "metadata": {
        "id": "LvLuBHftrGkM"
      },
      "source": [
        "train=train.drop('ID',axis=1)\r\n"
      ],
      "execution_count": null,
      "outputs": []
    },
    {
      "cell_type": "code",
      "metadata": {
        "id": "De4w3jThrO_K",
        "colab": {
          "base_uri": "https://localhost:8080/",
          "height": 456
        },
        "outputId": "9e643708-13c6-49d7-9473-bdfa2c773c6c"
      },
      "source": [
        "train"
      ],
      "execution_count": 75,
      "outputs": [
        {
          "output_type": "execute_result",
          "data": {
            "text/html": [
              "<div>\n",
              "<style scoped>\n",
              "    .dataframe tbody tr th:only-of-type {\n",
              "        vertical-align: middle;\n",
              "    }\n",
              "\n",
              "    .dataframe tbody tr th {\n",
              "        vertical-align: top;\n",
              "    }\n",
              "\n",
              "    .dataframe thead th {\n",
              "        text-align: right;\n",
              "    }\n",
              "</style>\n",
              "<table border=\"1\" class=\"dataframe\">\n",
              "  <thead>\n",
              "    <tr style=\"text-align: right;\">\n",
              "      <th></th>\n",
              "      <th>City_Code</th>\n",
              "      <th>Region_Code</th>\n",
              "      <th>Accomodation_Type</th>\n",
              "      <th>Reco_Insurance_Type</th>\n",
              "      <th>Upper_Age</th>\n",
              "      <th>Lower_Age</th>\n",
              "      <th>Is_Spouse</th>\n",
              "      <th>Health Indicator</th>\n",
              "      <th>Holding_Policy_Duration</th>\n",
              "      <th>Holding_Policy_Type</th>\n",
              "      <th>Reco_Policy_Cat</th>\n",
              "      <th>Reco_Policy_Premium</th>\n",
              "      <th>Response</th>\n",
              "    </tr>\n",
              "  </thead>\n",
              "  <tbody>\n",
              "    <tr>\n",
              "      <th>0</th>\n",
              "      <td>C3</td>\n",
              "      <td>3213</td>\n",
              "      <td>Rented</td>\n",
              "      <td>Individual</td>\n",
              "      <td>36</td>\n",
              "      <td>36</td>\n",
              "      <td>No</td>\n",
              "      <td>X1</td>\n",
              "      <td>14+</td>\n",
              "      <td>3.0</td>\n",
              "      <td>22</td>\n",
              "      <td>11628.0</td>\n",
              "      <td>0</td>\n",
              "    </tr>\n",
              "    <tr>\n",
              "      <th>1</th>\n",
              "      <td>C5</td>\n",
              "      <td>1117</td>\n",
              "      <td>Owned</td>\n",
              "      <td>Joint</td>\n",
              "      <td>75</td>\n",
              "      <td>22</td>\n",
              "      <td>No</td>\n",
              "      <td>X2</td>\n",
              "      <td>NaN</td>\n",
              "      <td>NaN</td>\n",
              "      <td>22</td>\n",
              "      <td>30510.0</td>\n",
              "      <td>0</td>\n",
              "    </tr>\n",
              "    <tr>\n",
              "      <th>2</th>\n",
              "      <td>C5</td>\n",
              "      <td>3732</td>\n",
              "      <td>Owned</td>\n",
              "      <td>Individual</td>\n",
              "      <td>32</td>\n",
              "      <td>32</td>\n",
              "      <td>No</td>\n",
              "      <td>NaN</td>\n",
              "      <td>1.0</td>\n",
              "      <td>1.0</td>\n",
              "      <td>19</td>\n",
              "      <td>7450.0</td>\n",
              "      <td>1</td>\n",
              "    </tr>\n",
              "    <tr>\n",
              "      <th>3</th>\n",
              "      <td>C24</td>\n",
              "      <td>4378</td>\n",
              "      <td>Owned</td>\n",
              "      <td>Joint</td>\n",
              "      <td>52</td>\n",
              "      <td>48</td>\n",
              "      <td>No</td>\n",
              "      <td>X1</td>\n",
              "      <td>14+</td>\n",
              "      <td>3.0</td>\n",
              "      <td>19</td>\n",
              "      <td>17780.0</td>\n",
              "      <td>0</td>\n",
              "    </tr>\n",
              "    <tr>\n",
              "      <th>4</th>\n",
              "      <td>C8</td>\n",
              "      <td>2190</td>\n",
              "      <td>Rented</td>\n",
              "      <td>Individual</td>\n",
              "      <td>44</td>\n",
              "      <td>44</td>\n",
              "      <td>No</td>\n",
              "      <td>X2</td>\n",
              "      <td>3.0</td>\n",
              "      <td>1.0</td>\n",
              "      <td>16</td>\n",
              "      <td>10404.0</td>\n",
              "      <td>0</td>\n",
              "    </tr>\n",
              "    <tr>\n",
              "      <th>...</th>\n",
              "      <td>...</td>\n",
              "      <td>...</td>\n",
              "      <td>...</td>\n",
              "      <td>...</td>\n",
              "      <td>...</td>\n",
              "      <td>...</td>\n",
              "      <td>...</td>\n",
              "      <td>...</td>\n",
              "      <td>...</td>\n",
              "      <td>...</td>\n",
              "      <td>...</td>\n",
              "      <td>...</td>\n",
              "      <td>...</td>\n",
              "    </tr>\n",
              "    <tr>\n",
              "      <th>50877</th>\n",
              "      <td>C4</td>\n",
              "      <td>845</td>\n",
              "      <td>Rented</td>\n",
              "      <td>Individual</td>\n",
              "      <td>22</td>\n",
              "      <td>22</td>\n",
              "      <td>No</td>\n",
              "      <td>X3</td>\n",
              "      <td>NaN</td>\n",
              "      <td>NaN</td>\n",
              "      <td>18</td>\n",
              "      <td>7704.0</td>\n",
              "      <td>0</td>\n",
              "    </tr>\n",
              "    <tr>\n",
              "      <th>50878</th>\n",
              "      <td>C5</td>\n",
              "      <td>4188</td>\n",
              "      <td>Rented</td>\n",
              "      <td>Individual</td>\n",
              "      <td>27</td>\n",
              "      <td>27</td>\n",
              "      <td>No</td>\n",
              "      <td>X3</td>\n",
              "      <td>7.0</td>\n",
              "      <td>3.0</td>\n",
              "      <td>4</td>\n",
              "      <td>5408.0</td>\n",
              "      <td>0</td>\n",
              "    </tr>\n",
              "    <tr>\n",
              "      <th>50879</th>\n",
              "      <td>C1</td>\n",
              "      <td>442</td>\n",
              "      <td>Rented</td>\n",
              "      <td>Individual</td>\n",
              "      <td>63</td>\n",
              "      <td>63</td>\n",
              "      <td>No</td>\n",
              "      <td>X2</td>\n",
              "      <td>14+</td>\n",
              "      <td>1.0</td>\n",
              "      <td>12</td>\n",
              "      <td>11374.0</td>\n",
              "      <td>0</td>\n",
              "    </tr>\n",
              "    <tr>\n",
              "      <th>50880</th>\n",
              "      <td>C1</td>\n",
              "      <td>4</td>\n",
              "      <td>Owned</td>\n",
              "      <td>Joint</td>\n",
              "      <td>71</td>\n",
              "      <td>49</td>\n",
              "      <td>No</td>\n",
              "      <td>X2</td>\n",
              "      <td>2.0</td>\n",
              "      <td>2.0</td>\n",
              "      <td>16</td>\n",
              "      <td>28179.2</td>\n",
              "      <td>1</td>\n",
              "    </tr>\n",
              "    <tr>\n",
              "      <th>50881</th>\n",
              "      <td>C3</td>\n",
              "      <td>3866</td>\n",
              "      <td>Rented</td>\n",
              "      <td>Individual</td>\n",
              "      <td>24</td>\n",
              "      <td>24</td>\n",
              "      <td>No</td>\n",
              "      <td>X3</td>\n",
              "      <td>2.0</td>\n",
              "      <td>3.0</td>\n",
              "      <td>18</td>\n",
              "      <td>11424.0</td>\n",
              "      <td>0</td>\n",
              "    </tr>\n",
              "  </tbody>\n",
              "</table>\n",
              "<p>50882 rows × 13 columns</p>\n",
              "</div>"
            ],
            "text/plain": [
              "      City_Code  Region_Code  ... Reco_Policy_Premium Response\n",
              "0            C3         3213  ...             11628.0        0\n",
              "1            C5         1117  ...             30510.0        0\n",
              "2            C5         3732  ...              7450.0        1\n",
              "3           C24         4378  ...             17780.0        0\n",
              "4            C8         2190  ...             10404.0        0\n",
              "...         ...          ...  ...                 ...      ...\n",
              "50877        C4          845  ...              7704.0        0\n",
              "50878        C5         4188  ...              5408.0        0\n",
              "50879        C1          442  ...             11374.0        0\n",
              "50880        C1            4  ...             28179.2        1\n",
              "50881        C3         3866  ...             11424.0        0\n",
              "\n",
              "[50882 rows x 13 columns]"
            ]
          },
          "metadata": {
            "tags": []
          },
          "execution_count": 75
        }
      ]
    },
    {
      "cell_type": "code",
      "metadata": {
        "id": "V94dQJgkrQ53",
        "colab": {
          "base_uri": "https://localhost:8080/",
          "height": 456
        },
        "outputId": "4825f274-0e59-482f-cb6c-fe87f795519f"
      },
      "source": [
        "test"
      ],
      "execution_count": 158,
      "outputs": [
        {
          "output_type": "execute_result",
          "data": {
            "text/html": [
              "<div>\n",
              "<style scoped>\n",
              "    .dataframe tbody tr th:only-of-type {\n",
              "        vertical-align: middle;\n",
              "    }\n",
              "\n",
              "    .dataframe tbody tr th {\n",
              "        vertical-align: top;\n",
              "    }\n",
              "\n",
              "    .dataframe thead th {\n",
              "        text-align: right;\n",
              "    }\n",
              "</style>\n",
              "<table border=\"1\" class=\"dataframe\">\n",
              "  <thead>\n",
              "    <tr style=\"text-align: right;\">\n",
              "      <th></th>\n",
              "      <th>City_Code</th>\n",
              "      <th>Region_Code</th>\n",
              "      <th>Accomodation_Type</th>\n",
              "      <th>Reco_Insurance_Type</th>\n",
              "      <th>Upper_Age</th>\n",
              "      <th>Lower_Age</th>\n",
              "      <th>Is_Spouse</th>\n",
              "      <th>Health Indicator</th>\n",
              "      <th>Holding_Policy_Duration</th>\n",
              "      <th>Holding_Policy_Type</th>\n",
              "      <th>Reco_Policy_Cat</th>\n",
              "      <th>Reco_Policy_Premium</th>\n",
              "    </tr>\n",
              "  </thead>\n",
              "  <tbody>\n",
              "    <tr>\n",
              "      <th>0</th>\n",
              "      <td>C1</td>\n",
              "      <td>156</td>\n",
              "      <td>Owned</td>\n",
              "      <td>Individual</td>\n",
              "      <td>30</td>\n",
              "      <td>30</td>\n",
              "      <td>No</td>\n",
              "      <td>NaN</td>\n",
              "      <td>6.0</td>\n",
              "      <td>3.0</td>\n",
              "      <td>5</td>\n",
              "      <td>11934.0</td>\n",
              "    </tr>\n",
              "    <tr>\n",
              "      <th>1</th>\n",
              "      <td>C4</td>\n",
              "      <td>7</td>\n",
              "      <td>Owned</td>\n",
              "      <td>Joint</td>\n",
              "      <td>69</td>\n",
              "      <td>68</td>\n",
              "      <td>Yes</td>\n",
              "      <td>X1</td>\n",
              "      <td>3.0</td>\n",
              "      <td>3.0</td>\n",
              "      <td>18</td>\n",
              "      <td>32204.8</td>\n",
              "    </tr>\n",
              "    <tr>\n",
              "      <th>2</th>\n",
              "      <td>C1</td>\n",
              "      <td>564</td>\n",
              "      <td>Rented</td>\n",
              "      <td>Individual</td>\n",
              "      <td>28</td>\n",
              "      <td>28</td>\n",
              "      <td>No</td>\n",
              "      <td>X3</td>\n",
              "      <td>2.0</td>\n",
              "      <td>4.0</td>\n",
              "      <td>17</td>\n",
              "      <td>9240.0</td>\n",
              "    </tr>\n",
              "    <tr>\n",
              "      <th>3</th>\n",
              "      <td>C3</td>\n",
              "      <td>1177</td>\n",
              "      <td>Rented</td>\n",
              "      <td>Individual</td>\n",
              "      <td>23</td>\n",
              "      <td>23</td>\n",
              "      <td>No</td>\n",
              "      <td>X3</td>\n",
              "      <td>3.0</td>\n",
              "      <td>3.0</td>\n",
              "      <td>18</td>\n",
              "      <td>9086.0</td>\n",
              "    </tr>\n",
              "    <tr>\n",
              "      <th>4</th>\n",
              "      <td>C1</td>\n",
              "      <td>951</td>\n",
              "      <td>Owned</td>\n",
              "      <td>Individual</td>\n",
              "      <td>75</td>\n",
              "      <td>75</td>\n",
              "      <td>No</td>\n",
              "      <td>X3</td>\n",
              "      <td>NaN</td>\n",
              "      <td>NaN</td>\n",
              "      <td>5</td>\n",
              "      <td>22534.0</td>\n",
              "    </tr>\n",
              "    <tr>\n",
              "      <th>...</th>\n",
              "      <td>...</td>\n",
              "      <td>...</td>\n",
              "      <td>...</td>\n",
              "      <td>...</td>\n",
              "      <td>...</td>\n",
              "      <td>...</td>\n",
              "      <td>...</td>\n",
              "      <td>...</td>\n",
              "      <td>...</td>\n",
              "      <td>...</td>\n",
              "      <td>...</td>\n",
              "      <td>...</td>\n",
              "    </tr>\n",
              "    <tr>\n",
              "      <th>21800</th>\n",
              "      <td>C3</td>\n",
              "      <td>1044</td>\n",
              "      <td>Owned</td>\n",
              "      <td>Individual</td>\n",
              "      <td>45</td>\n",
              "      <td>45</td>\n",
              "      <td>No</td>\n",
              "      <td>X1</td>\n",
              "      <td>4.0</td>\n",
              "      <td>1.0</td>\n",
              "      <td>18</td>\n",
              "      <td>15884.0</td>\n",
              "    </tr>\n",
              "    <tr>\n",
              "      <th>21801</th>\n",
              "      <td>C4</td>\n",
              "      <td>266</td>\n",
              "      <td>Owned</td>\n",
              "      <td>Individual</td>\n",
              "      <td>59</td>\n",
              "      <td>59</td>\n",
              "      <td>No</td>\n",
              "      <td>X5</td>\n",
              "      <td>6.0</td>\n",
              "      <td>3.0</td>\n",
              "      <td>18</td>\n",
              "      <td>21390.0</td>\n",
              "    </tr>\n",
              "    <tr>\n",
              "      <th>21802</th>\n",
              "      <td>C12</td>\n",
              "      <td>2470</td>\n",
              "      <td>Owned</td>\n",
              "      <td>Individual</td>\n",
              "      <td>74</td>\n",
              "      <td>74</td>\n",
              "      <td>No</td>\n",
              "      <td>X3</td>\n",
              "      <td>NaN</td>\n",
              "      <td>NaN</td>\n",
              "      <td>1</td>\n",
              "      <td>17836.0</td>\n",
              "    </tr>\n",
              "    <tr>\n",
              "      <th>21803</th>\n",
              "      <td>C10</td>\n",
              "      <td>1676</td>\n",
              "      <td>Rented</td>\n",
              "      <td>Individual</td>\n",
              "      <td>25</td>\n",
              "      <td>25</td>\n",
              "      <td>No</td>\n",
              "      <td>X4</td>\n",
              "      <td>3.0</td>\n",
              "      <td>1.0</td>\n",
              "      <td>19</td>\n",
              "      <td>11568.0</td>\n",
              "    </tr>\n",
              "    <tr>\n",
              "      <th>21804</th>\n",
              "      <td>C2</td>\n",
              "      <td>3617</td>\n",
              "      <td>Owned</td>\n",
              "      <td>Individual</td>\n",
              "      <td>73</td>\n",
              "      <td>73</td>\n",
              "      <td>No</td>\n",
              "      <td>X2</td>\n",
              "      <td>14+</td>\n",
              "      <td>2.0</td>\n",
              "      <td>3</td>\n",
              "      <td>23040.0</td>\n",
              "    </tr>\n",
              "  </tbody>\n",
              "</table>\n",
              "<p>21805 rows × 12 columns</p>\n",
              "</div>"
            ],
            "text/plain": [
              "      City_Code  Region_Code  ... Reco_Policy_Cat Reco_Policy_Premium\n",
              "0            C1          156  ...               5             11934.0\n",
              "1            C4            7  ...              18             32204.8\n",
              "2            C1          564  ...              17              9240.0\n",
              "3            C3         1177  ...              18              9086.0\n",
              "4            C1          951  ...               5             22534.0\n",
              "...         ...          ...  ...             ...                 ...\n",
              "21800        C3         1044  ...              18             15884.0\n",
              "21801        C4          266  ...              18             21390.0\n",
              "21802       C12         2470  ...               1             17836.0\n",
              "21803       C10         1676  ...              19             11568.0\n",
              "21804        C2         3617  ...               3             23040.0\n",
              "\n",
              "[21805 rows x 12 columns]"
            ]
          },
          "metadata": {
            "tags": []
          },
          "execution_count": 158
        }
      ]
    },
    {
      "cell_type": "code",
      "metadata": {
        "id": "VvAKBQicrSTC",
        "colab": {
          "base_uri": "https://localhost:8080/"
        },
        "outputId": "e9649aca-25d6-4f94-d111-8832b4e067fd"
      },
      "source": [
        "train.shape"
      ],
      "execution_count": null,
      "outputs": [
        {
          "output_type": "execute_result",
          "data": {
            "text/plain": [
              "(50882, 13)"
            ]
          },
          "metadata": {
            "tags": []
          },
          "execution_count": 8
        }
      ]
    },
    {
      "cell_type": "code",
      "metadata": {
        "id": "7yt-p6K2smvw",
        "colab": {
          "base_uri": "https://localhost:8080/"
        },
        "outputId": "c8c18a8d-b2b0-4cee-86fe-8b36dfa93b6d"
      },
      "source": [
        "train.info()"
      ],
      "execution_count": null,
      "outputs": [
        {
          "output_type": "stream",
          "text": [
            "<class 'pandas.core.frame.DataFrame'>\n",
            "RangeIndex: 50882 entries, 0 to 50881\n",
            "Data columns (total 13 columns):\n",
            " #   Column                   Non-Null Count  Dtype  \n",
            "---  ------                   --------------  -----  \n",
            " 0   City_Code                50882 non-null  object \n",
            " 1   Region_Code              50882 non-null  int64  \n",
            " 2   Accomodation_Type        50882 non-null  object \n",
            " 3   Reco_Insurance_Type      50882 non-null  object \n",
            " 4   Upper_Age                50882 non-null  int64  \n",
            " 5   Lower_Age                50882 non-null  int64  \n",
            " 6   Is_Spouse                50882 non-null  object \n",
            " 7   Health Indicator         39191 non-null  object \n",
            " 8   Holding_Policy_Duration  30631 non-null  object \n",
            " 9   Holding_Policy_Type      30631 non-null  float64\n",
            " 10  Reco_Policy_Cat          50882 non-null  int64  \n",
            " 11  Reco_Policy_Premium      50882 non-null  float64\n",
            " 12  Response                 50882 non-null  int64  \n",
            "dtypes: float64(2), int64(5), object(6)\n",
            "memory usage: 5.0+ MB\n"
          ],
          "name": "stdout"
        }
      ]
    },
    {
      "cell_type": "code",
      "metadata": {
        "id": "cSYV18BZspfh",
        "colab": {
          "base_uri": "https://localhost:8080/"
        },
        "outputId": "7ea0f957-d017-4aa5-ca83-cf03bffd2f87"
      },
      "source": [
        "((train.isnull().sum())/len(train))*100"
      ],
      "execution_count": null,
      "outputs": [
        {
          "output_type": "execute_result",
          "data": {
            "text/plain": [
              "City_Code                   0.000000\n",
              "Region_Code                 0.000000\n",
              "Accomodation_Type           0.000000\n",
              "Reco_Insurance_Type         0.000000\n",
              "Upper_Age                   0.000000\n",
              "Lower_Age                   0.000000\n",
              "Is_Spouse                   0.000000\n",
              "Health Indicator           22.976691\n",
              "Holding_Policy_Duration    39.799929\n",
              "Holding_Policy_Type        39.799929\n",
              "Reco_Policy_Cat             0.000000\n",
              "Reco_Policy_Premium         0.000000\n",
              "Response                    0.000000\n",
              "dtype: float64"
            ]
          },
          "metadata": {
            "tags": []
          },
          "execution_count": 10
        }
      ]
    },
    {
      "cell_type": "code",
      "metadata": {
        "id": "cz8b98v7s1Yz",
        "colab": {
          "base_uri": "https://localhost:8080/",
          "height": 441
        },
        "outputId": "3a446243-8e9e-4fd3-843f-eafc065d32d7"
      },
      "source": [
        "train"
      ],
      "execution_count": null,
      "outputs": [
        {
          "output_type": "execute_result",
          "data": {
            "text/html": [
              "<div>\n",
              "<style scoped>\n",
              "    .dataframe tbody tr th:only-of-type {\n",
              "        vertical-align: middle;\n",
              "    }\n",
              "\n",
              "    .dataframe tbody tr th {\n",
              "        vertical-align: top;\n",
              "    }\n",
              "\n",
              "    .dataframe thead th {\n",
              "        text-align: right;\n",
              "    }\n",
              "</style>\n",
              "<table border=\"1\" class=\"dataframe\">\n",
              "  <thead>\n",
              "    <tr style=\"text-align: right;\">\n",
              "      <th></th>\n",
              "      <th>City_Code</th>\n",
              "      <th>Region_Code</th>\n",
              "      <th>Accomodation_Type</th>\n",
              "      <th>Reco_Insurance_Type</th>\n",
              "      <th>Upper_Age</th>\n",
              "      <th>Lower_Age</th>\n",
              "      <th>Is_Spouse</th>\n",
              "      <th>Health Indicator</th>\n",
              "      <th>Holding_Policy_Duration</th>\n",
              "      <th>Holding_Policy_Type</th>\n",
              "      <th>Reco_Policy_Cat</th>\n",
              "      <th>Reco_Policy_Premium</th>\n",
              "      <th>Response</th>\n",
              "    </tr>\n",
              "  </thead>\n",
              "  <tbody>\n",
              "    <tr>\n",
              "      <th>0</th>\n",
              "      <td>C3</td>\n",
              "      <td>3213</td>\n",
              "      <td>Rented</td>\n",
              "      <td>Individual</td>\n",
              "      <td>36</td>\n",
              "      <td>36</td>\n",
              "      <td>No</td>\n",
              "      <td>X1</td>\n",
              "      <td>14+</td>\n",
              "      <td>3.0</td>\n",
              "      <td>22</td>\n",
              "      <td>11628.0</td>\n",
              "      <td>0</td>\n",
              "    </tr>\n",
              "    <tr>\n",
              "      <th>1</th>\n",
              "      <td>C5</td>\n",
              "      <td>1117</td>\n",
              "      <td>Owned</td>\n",
              "      <td>Joint</td>\n",
              "      <td>75</td>\n",
              "      <td>22</td>\n",
              "      <td>No</td>\n",
              "      <td>X2</td>\n",
              "      <td>NaN</td>\n",
              "      <td>NaN</td>\n",
              "      <td>22</td>\n",
              "      <td>30510.0</td>\n",
              "      <td>0</td>\n",
              "    </tr>\n",
              "    <tr>\n",
              "      <th>2</th>\n",
              "      <td>C5</td>\n",
              "      <td>3732</td>\n",
              "      <td>Owned</td>\n",
              "      <td>Individual</td>\n",
              "      <td>32</td>\n",
              "      <td>32</td>\n",
              "      <td>No</td>\n",
              "      <td>NaN</td>\n",
              "      <td>1.0</td>\n",
              "      <td>1.0</td>\n",
              "      <td>19</td>\n",
              "      <td>7450.0</td>\n",
              "      <td>1</td>\n",
              "    </tr>\n",
              "    <tr>\n",
              "      <th>3</th>\n",
              "      <td>C24</td>\n",
              "      <td>4378</td>\n",
              "      <td>Owned</td>\n",
              "      <td>Joint</td>\n",
              "      <td>52</td>\n",
              "      <td>48</td>\n",
              "      <td>No</td>\n",
              "      <td>X1</td>\n",
              "      <td>14+</td>\n",
              "      <td>3.0</td>\n",
              "      <td>19</td>\n",
              "      <td>17780.0</td>\n",
              "      <td>0</td>\n",
              "    </tr>\n",
              "    <tr>\n",
              "      <th>4</th>\n",
              "      <td>C8</td>\n",
              "      <td>2190</td>\n",
              "      <td>Rented</td>\n",
              "      <td>Individual</td>\n",
              "      <td>44</td>\n",
              "      <td>44</td>\n",
              "      <td>No</td>\n",
              "      <td>X2</td>\n",
              "      <td>3.0</td>\n",
              "      <td>1.0</td>\n",
              "      <td>16</td>\n",
              "      <td>10404.0</td>\n",
              "      <td>0</td>\n",
              "    </tr>\n",
              "    <tr>\n",
              "      <th>...</th>\n",
              "      <td>...</td>\n",
              "      <td>...</td>\n",
              "      <td>...</td>\n",
              "      <td>...</td>\n",
              "      <td>...</td>\n",
              "      <td>...</td>\n",
              "      <td>...</td>\n",
              "      <td>...</td>\n",
              "      <td>...</td>\n",
              "      <td>...</td>\n",
              "      <td>...</td>\n",
              "      <td>...</td>\n",
              "      <td>...</td>\n",
              "    </tr>\n",
              "    <tr>\n",
              "      <th>50877</th>\n",
              "      <td>C4</td>\n",
              "      <td>845</td>\n",
              "      <td>Rented</td>\n",
              "      <td>Individual</td>\n",
              "      <td>22</td>\n",
              "      <td>22</td>\n",
              "      <td>No</td>\n",
              "      <td>X3</td>\n",
              "      <td>NaN</td>\n",
              "      <td>NaN</td>\n",
              "      <td>18</td>\n",
              "      <td>7704.0</td>\n",
              "      <td>0</td>\n",
              "    </tr>\n",
              "    <tr>\n",
              "      <th>50878</th>\n",
              "      <td>C5</td>\n",
              "      <td>4188</td>\n",
              "      <td>Rented</td>\n",
              "      <td>Individual</td>\n",
              "      <td>27</td>\n",
              "      <td>27</td>\n",
              "      <td>No</td>\n",
              "      <td>X3</td>\n",
              "      <td>7.0</td>\n",
              "      <td>3.0</td>\n",
              "      <td>4</td>\n",
              "      <td>5408.0</td>\n",
              "      <td>0</td>\n",
              "    </tr>\n",
              "    <tr>\n",
              "      <th>50879</th>\n",
              "      <td>C1</td>\n",
              "      <td>442</td>\n",
              "      <td>Rented</td>\n",
              "      <td>Individual</td>\n",
              "      <td>63</td>\n",
              "      <td>63</td>\n",
              "      <td>No</td>\n",
              "      <td>X2</td>\n",
              "      <td>14+</td>\n",
              "      <td>1.0</td>\n",
              "      <td>12</td>\n",
              "      <td>11374.0</td>\n",
              "      <td>0</td>\n",
              "    </tr>\n",
              "    <tr>\n",
              "      <th>50880</th>\n",
              "      <td>C1</td>\n",
              "      <td>4</td>\n",
              "      <td>Owned</td>\n",
              "      <td>Joint</td>\n",
              "      <td>71</td>\n",
              "      <td>49</td>\n",
              "      <td>No</td>\n",
              "      <td>X2</td>\n",
              "      <td>2.0</td>\n",
              "      <td>2.0</td>\n",
              "      <td>16</td>\n",
              "      <td>28179.2</td>\n",
              "      <td>1</td>\n",
              "    </tr>\n",
              "    <tr>\n",
              "      <th>50881</th>\n",
              "      <td>C3</td>\n",
              "      <td>3866</td>\n",
              "      <td>Rented</td>\n",
              "      <td>Individual</td>\n",
              "      <td>24</td>\n",
              "      <td>24</td>\n",
              "      <td>No</td>\n",
              "      <td>X3</td>\n",
              "      <td>2.0</td>\n",
              "      <td>3.0</td>\n",
              "      <td>18</td>\n",
              "      <td>11424.0</td>\n",
              "      <td>0</td>\n",
              "    </tr>\n",
              "  </tbody>\n",
              "</table>\n",
              "<p>50882 rows × 13 columns</p>\n",
              "</div>"
            ],
            "text/plain": [
              "      City_Code  Region_Code  ... Reco_Policy_Premium Response\n",
              "0            C3         3213  ...             11628.0        0\n",
              "1            C5         1117  ...             30510.0        0\n",
              "2            C5         3732  ...              7450.0        1\n",
              "3           C24         4378  ...             17780.0        0\n",
              "4            C8         2190  ...             10404.0        0\n",
              "...         ...          ...  ...                 ...      ...\n",
              "50877        C4          845  ...              7704.0        0\n",
              "50878        C5         4188  ...              5408.0        0\n",
              "50879        C1          442  ...             11374.0        0\n",
              "50880        C1            4  ...             28179.2        1\n",
              "50881        C3         3866  ...             11424.0        0\n",
              "\n",
              "[50882 rows x 13 columns]"
            ]
          },
          "metadata": {
            "tags": []
          },
          "execution_count": 11
        }
      ]
    },
    {
      "cell_type": "code",
      "metadata": {
        "id": "qNR5PnywvVfW",
        "colab": {
          "base_uri": "https://localhost:8080/",
          "height": 333
        },
        "outputId": "4d8ba2fd-a10a-41a2-8655-c8f4db524f83"
      },
      "source": [
        "sns.countplot(train.Response)\r\n",
        "plt.show()"
      ],
      "execution_count": null,
      "outputs": [
        {
          "output_type": "stream",
          "text": [
            "/usr/local/lib/python3.7/dist-packages/seaborn/_decorators.py:43: FutureWarning: Pass the following variable as a keyword arg: x. From version 0.12, the only valid positional argument will be `data`, and passing other arguments without an explicit keyword will result in an error or misinterpretation.\n",
            "  FutureWarning\n"
          ],
          "name": "stderr"
        },
        {
          "output_type": "display_data",
          "data": {
            "image/png": "[encoded data removed]",
            "text/plain": [
              "<Figure size 432x288 with 1 Axes>"
            ]
          },
          "metadata": {
            "tags": [],
            "needs_background": "light"
          }
        }
      ]
    },
    {
      "cell_type": "code",
      "metadata": {
        "id": "MS4qQyB8cmKa",
        "colab": {
          "base_uri": "https://localhost:8080/"
        },
        "outputId": "6cb8f2b5-364f-4e5d-cf7d-e6fa44f6646d"
      },
      "source": [
        "((train.Response.value_counts())/len(train))*100"
      ],
      "execution_count": null,
      "outputs": [
        {
          "output_type": "execute_result",
          "data": {
            "text/plain": [
              "0    76.005267\n",
              "1    23.994733\n",
              "Name: Response, dtype: float64"
            ]
          },
          "metadata": {
            "tags": []
          },
          "execution_count": 13
        }
      ]
    },
    {
      "cell_type": "markdown",
      "metadata": {
        "id": "NlORvJkjxToG"
      },
      "source": [
        "## Observations:\r\n",
        "\r\n",
        "- The dataset is highly imbalanced."
      ]
    },
    {
      "cell_type": "code",
      "metadata": {
        "id": "wOLsQ3FEDV6M",
        "colab": {
          "base_uri": "https://localhost:8080/",
          "height": 286
        },
        "outputId": "d3160f05-49f9-4409-afcb-02c7670b460d"
      },
      "source": [
        "train.describe()"
      ],
      "execution_count": null,
      "outputs": [
        {
          "output_type": "execute_result",
          "data": {
            "text/html": [
              "<div>\n",
              "<style scoped>\n",
              "    .dataframe tbody tr th:only-of-type {\n",
              "        vertical-align: middle;\n",
              "    }\n",
              "\n",
              "    .dataframe tbody tr th {\n",
              "        vertical-align: top;\n",
              "    }\n",
              "\n",
              "    .dataframe thead th {\n",
              "        text-align: right;\n",
              "    }\n",
              "</style>\n",
              "<table border=\"1\" class=\"dataframe\">\n",
              "  <thead>\n",
              "    <tr style=\"text-align: right;\">\n",
              "      <th></th>\n",
              "      <th>Region_Code</th>\n",
              "      <th>Upper_Age</th>\n",
              "      <th>Lower_Age</th>\n",
              "      <th>Holding_Policy_Type</th>\n",
              "      <th>Reco_Policy_Cat</th>\n",
              "      <th>Reco_Policy_Premium</th>\n",
              "      <th>Response</th>\n",
              "    </tr>\n",
              "  </thead>\n",
              "  <tbody>\n",
              "    <tr>\n",
              "      <th>count</th>\n",
              "      <td>50882.000000</td>\n",
              "      <td>50882.000000</td>\n",
              "      <td>50882.000000</td>\n",
              "      <td>30631.000000</td>\n",
              "      <td>50882.000000</td>\n",
              "      <td>50882.000000</td>\n",
              "      <td>50882.000000</td>\n",
              "    </tr>\n",
              "    <tr>\n",
              "      <th>mean</th>\n",
              "      <td>1732.788707</td>\n",
              "      <td>44.856275</td>\n",
              "      <td>42.738866</td>\n",
              "      <td>2.439228</td>\n",
              "      <td>15.115188</td>\n",
              "      <td>14183.950069</td>\n",
              "      <td>0.239947</td>\n",
              "    </tr>\n",
              "    <tr>\n",
              "      <th>std</th>\n",
              "      <td>1424.081652</td>\n",
              "      <td>17.310271</td>\n",
              "      <td>17.319375</td>\n",
              "      <td>1.025923</td>\n",
              "      <td>6.340663</td>\n",
              "      <td>6590.074873</td>\n",
              "      <td>0.427055</td>\n",
              "    </tr>\n",
              "    <tr>\n",
              "      <th>min</th>\n",
              "      <td>1.000000</td>\n",
              "      <td>18.000000</td>\n",
              "      <td>16.000000</td>\n",
              "      <td>1.000000</td>\n",
              "      <td>1.000000</td>\n",
              "      <td>2280.000000</td>\n",
              "      <td>0.000000</td>\n",
              "    </tr>\n",
              "    <tr>\n",
              "      <th>25%</th>\n",
              "      <td>523.000000</td>\n",
              "      <td>28.000000</td>\n",
              "      <td>27.000000</td>\n",
              "      <td>1.000000</td>\n",
              "      <td>12.000000</td>\n",
              "      <td>9248.000000</td>\n",
              "      <td>0.000000</td>\n",
              "    </tr>\n",
              "    <tr>\n",
              "      <th>50%</th>\n",
              "      <td>1391.000000</td>\n",
              "      <td>44.000000</td>\n",
              "      <td>40.000000</td>\n",
              "      <td>3.000000</td>\n",
              "      <td>17.000000</td>\n",
              "      <td>13178.000000</td>\n",
              "      <td>0.000000</td>\n",
              "    </tr>\n",
              "    <tr>\n",
              "      <th>75%</th>\n",
              "      <td>2667.000000</td>\n",
              "      <td>59.000000</td>\n",
              "      <td>57.000000</td>\n",
              "      <td>3.000000</td>\n",
              "      <td>20.000000</td>\n",
              "      <td>18096.000000</td>\n",
              "      <td>0.000000</td>\n",
              "    </tr>\n",
              "    <tr>\n",
              "      <th>max</th>\n",
              "      <td>6194.000000</td>\n",
              "      <td>75.000000</td>\n",
              "      <td>75.000000</td>\n",
              "      <td>4.000000</td>\n",
              "      <td>22.000000</td>\n",
              "      <td>43350.400000</td>\n",
              "      <td>1.000000</td>\n",
              "    </tr>\n",
              "  </tbody>\n",
              "</table>\n",
              "</div>"
            ],
            "text/plain": [
              "        Region_Code     Upper_Age  ...  Reco_Policy_Premium      Response\n",
              "count  50882.000000  50882.000000  ...         50882.000000  50882.000000\n",
              "mean    1732.788707     44.856275  ...         14183.950069      0.239947\n",
              "std     1424.081652     17.310271  ...          6590.074873      0.427055\n",
              "min        1.000000     18.000000  ...          2280.000000      0.000000\n",
              "25%      523.000000     28.000000  ...          9248.000000      0.000000\n",
              "50%     1391.000000     44.000000  ...         13178.000000      0.000000\n",
              "75%     2667.000000     59.000000  ...         18096.000000      0.000000\n",
              "max     6194.000000     75.000000  ...         43350.400000      1.000000\n",
              "\n",
              "[8 rows x 7 columns]"
            ]
          },
          "metadata": {
            "tags": []
          },
          "execution_count": 14
        }
      ]
    },
    {
      "cell_type": "markdown",
      "metadata": {
        "id": "B34hX1T5xe9G"
      },
      "source": [
        "## City_Code"
      ]
    },
    {
      "cell_type": "code",
      "metadata": {
        "id": "_odlPkJQxQuE",
        "colab": {
          "base_uri": "https://localhost:8080/",
          "height": 344
        },
        "outputId": "2a47bcc1-34ec-4be6-ce2a-7a6ceab4ec2c"
      },
      "source": [
        "plt.figure(figsize=(10,5))\r\n",
        "g=sns.countplot(x=train.City_Code,hue=train.Response)\r\n",
        "g.set_xticklabels(g.get_xticklabels(),rotation=90)\r\n",
        "plt.show()"
      ],
      "execution_count": null,
      "outputs": [
        {
          "output_type": "display_data",
          "data": {
            "image/png": "[encoded data removed]",
            "text/plain": [
              "<Figure size 720x360 with 1 Axes>"
            ]
          },
          "metadata": {
            "tags": [],
            "needs_background": "light"
          }
        }
      ]
    },
    {
      "cell_type": "markdown",
      "metadata": {
        "id": "WpxuYWrCf0gp"
      },
      "source": [
        "## Observations:\r\n",
        "\r\n",
        "- We can see that Cities C1,C2,C3,C4 have more people who reject the insurance offer.\r\n",
        "\r\n",
        "- Out of them C1 has the highest rate of rejection of the offer followed by C2"
      ]
    },
    {
      "cell_type": "code",
      "metadata": {
        "id": "2n5g-onQxuqP",
        "colab": {
          "base_uri": "https://localhost:8080/",
          "height": 297
        },
        "outputId": "681b7638-fb51-4eb4-c216-8d916867e13f"
      },
      "source": [
        "sns.countplot(x=train.Accomodation_Type,hue=train.Response)"
      ],
      "execution_count": null,
      "outputs": [
        {
          "output_type": "execute_result",
          "data": {
            "text/plain": [
              "<matplotlib.axes._subplots.AxesSubplot at 0x7feec561f210>"
            ]
          },
          "metadata": {
            "tags": []
          },
          "execution_count": 16
        },
        {
          "output_type": "display_data",
          "data": {
            "image/png": "[encoded data removed]",
            "text/plain": [
              "<Figure size 432x288 with 1 Axes>"
            ]
          },
          "metadata": {
            "tags": [],
            "needs_background": "light"
          }
        }
      ]
    },
    {
      "cell_type": "code",
      "metadata": {
        "id": "rnrwrbXxhSPM",
        "colab": {
          "base_uri": "https://localhost:8080/",
          "height": 137
        },
        "outputId": "11585f93-4b3d-4be9-cb0f-65b285cfccfb"
      },
      "source": [
        "train.groupby(by='Accomodation_Type').sum()"
      ],
      "execution_count": null,
      "outputs": [
        {
          "output_type": "execute_result",
          "data": {
            "text/html": [
              "<div>\n",
              "<style scoped>\n",
              "    .dataframe tbody tr th:only-of-type {\n",
              "        vertical-align: middle;\n",
              "    }\n",
              "\n",
              "    .dataframe tbody tr th {\n",
              "        vertical-align: top;\n",
              "    }\n",
              "\n",
              "    .dataframe thead th {\n",
              "        text-align: right;\n",
              "    }\n",
              "</style>\n",
              "<table border=\"1\" class=\"dataframe\">\n",
              "  <thead>\n",
              "    <tr style=\"text-align: right;\">\n",
              "      <th></th>\n",
              "      <th>Region_Code</th>\n",
              "      <th>Upper_Age</th>\n",
              "      <th>Lower_Age</th>\n",
              "      <th>Holding_Policy_Type</th>\n",
              "      <th>Reco_Policy_Cat</th>\n",
              "      <th>Reco_Policy_Premium</th>\n",
              "      <th>Response</th>\n",
              "    </tr>\n",
              "    <tr>\n",
              "      <th>Accomodation_Type</th>\n",
              "      <th></th>\n",
              "      <th></th>\n",
              "      <th></th>\n",
              "      <th></th>\n",
              "      <th></th>\n",
              "      <th></th>\n",
              "      <th></th>\n",
              "    </tr>\n",
              "  </thead>\n",
              "  <tbody>\n",
              "    <tr>\n",
              "      <th>Owned</th>\n",
              "      <td>48104930</td>\n",
              "      <td>1437456</td>\n",
              "      <td>1356564</td>\n",
              "      <td>48274.0</td>\n",
              "      <td>426025</td>\n",
              "      <td>4.549348e+08</td>\n",
              "      <td>6763</td>\n",
              "    </tr>\n",
              "    <tr>\n",
              "      <th>Rented</th>\n",
              "      <td>40062825</td>\n",
              "      <td>844921</td>\n",
              "      <td>818075</td>\n",
              "      <td>26442.0</td>\n",
              "      <td>343066</td>\n",
              "      <td>2.667730e+08</td>\n",
              "      <td>5446</td>\n",
              "    </tr>\n",
              "  </tbody>\n",
              "</table>\n",
              "</div>"
            ],
            "text/plain": [
              "                   Region_Code  Upper_Age  ...  Reco_Policy_Premium  Response\n",
              "Accomodation_Type                          ...                               \n",
              "Owned                 48104930    1437456  ...         4.549348e+08      6763\n",
              "Rented                40062825     844921  ...         2.667730e+08      5446\n",
              "\n",
              "[2 rows x 7 columns]"
            ]
          },
          "metadata": {
            "tags": []
          },
          "execution_count": 17
        }
      ]
    },
    {
      "cell_type": "markdown",
      "metadata": {
        "id": "4Bwvu7wBhBn2"
      },
      "source": [
        "## Observations:\r\n",
        "\r\n",
        "- We can see that the people who have their own houses are more likely to reject the insurance offer compared to those staying in an rented house.\r\n",
        "\r\n",
        "- The people who stay in owned house have a slight advantage of accepting the loan compared to the those in rented house."
      ]
    },
    {
      "cell_type": "code",
      "metadata": {
        "id": "hpuxf1Zvgx4a",
        "colab": {
          "base_uri": "https://localhost:8080/",
          "height": 297
        },
        "outputId": "73825c8a-1e70-4ee6-ce7e-718a223c1161"
      },
      "source": [
        "sns.countplot(x=train.Reco_Insurance_Type,hue=train.Response)"
      ],
      "execution_count": null,
      "outputs": [
        {
          "output_type": "execute_result",
          "data": {
            "text/plain": [
              "<matplotlib.axes._subplots.AxesSubplot at 0x7feec4f78090>"
            ]
          },
          "metadata": {
            "tags": []
          },
          "execution_count": 18
        },
        {
          "output_type": "display_data",
          "data": {
            "image/png": "[encoded data removed]",
            "text/plain": [
              "<Figure size 432x288 with 1 Axes>"
            ]
          },
          "metadata": {
            "tags": [],
            "needs_background": "light"
          }
        }
      ]
    },
    {
      "cell_type": "markdown",
      "metadata": {
        "id": "Fk0QKJM-K8g-"
      },
      "source": [
        "##Feature Transformations"
      ]
    },
    {
      "cell_type": "code",
      "metadata": {
        "id": "04b4k-ych7CX"
      },
      "source": [
        "l1=[]\r\n",
        "for i in train['City_Code']:\r\n",
        "  l1.append(int(i.lstrip('C')))\r\n",
        "train['City_Code']=l1"
      ],
      "execution_count": 79,
      "outputs": []
    },
    {
      "cell_type": "code",
      "metadata": {
        "id": "Pq0ilUgGj3oM",
        "colab": {
          "base_uri": "https://localhost:8080/",
          "height": 456
        },
        "outputId": "e4fcd4aa-2ac9-455f-bd02-b4fab934cc61"
      },
      "source": [
        "train"
      ],
      "execution_count": 11,
      "outputs": [
        {
          "output_type": "execute_result",
          "data": {
            "text/html": [
              "<div>\n",
              "<style scoped>\n",
              "    .dataframe tbody tr th:only-of-type {\n",
              "        vertical-align: middle;\n",
              "    }\n",
              "\n",
              "    .dataframe tbody tr th {\n",
              "        vertical-align: top;\n",
              "    }\n",
              "\n",
              "    .dataframe thead th {\n",
              "        text-align: right;\n",
              "    }\n",
              "</style>\n",
              "<table border=\"1\" class=\"dataframe\">\n",
              "  <thead>\n",
              "    <tr style=\"text-align: right;\">\n",
              "      <th></th>\n",
              "      <th>City_Code</th>\n",
              "      <th>Region_Code</th>\n",
              "      <th>Accomodation_Type</th>\n",
              "      <th>Reco_Insurance_Type</th>\n",
              "      <th>Upper_Age</th>\n",
              "      <th>Lower_Age</th>\n",
              "      <th>Is_Spouse</th>\n",
              "      <th>Health Indicator</th>\n",
              "      <th>Holding_Policy_Duration</th>\n",
              "      <th>Holding_Policy_Type</th>\n",
              "      <th>Reco_Policy_Cat</th>\n",
              "      <th>Reco_Policy_Premium</th>\n",
              "      <th>Response</th>\n",
              "    </tr>\n",
              "  </thead>\n",
              "  <tbody>\n",
              "    <tr>\n",
              "      <th>0</th>\n",
              "      <td>3</td>\n",
              "      <td>3213</td>\n",
              "      <td>Rented</td>\n",
              "      <td>Individual</td>\n",
              "      <td>36</td>\n",
              "      <td>36</td>\n",
              "      <td>No</td>\n",
              "      <td>X1</td>\n",
              "      <td>14+</td>\n",
              "      <td>3.0</td>\n",
              "      <td>22</td>\n",
              "      <td>11628.0</td>\n",
              "      <td>0</td>\n",
              "    </tr>\n",
              "    <tr>\n",
              "      <th>1</th>\n",
              "      <td>5</td>\n",
              "      <td>1117</td>\n",
              "      <td>Owned</td>\n",
              "      <td>Joint</td>\n",
              "      <td>75</td>\n",
              "      <td>22</td>\n",
              "      <td>No</td>\n",
              "      <td>X2</td>\n",
              "      <td>NaN</td>\n",
              "      <td>NaN</td>\n",
              "      <td>22</td>\n",
              "      <td>30510.0</td>\n",
              "      <td>0</td>\n",
              "    </tr>\n",
              "    <tr>\n",
              "      <th>2</th>\n",
              "      <td>5</td>\n",
              "      <td>3732</td>\n",
              "      <td>Owned</td>\n",
              "      <td>Individual</td>\n",
              "      <td>32</td>\n",
              "      <td>32</td>\n",
              "      <td>No</td>\n",
              "      <td>NaN</td>\n",
              "      <td>1.0</td>\n",
              "      <td>1.0</td>\n",
              "      <td>19</td>\n",
              "      <td>7450.0</td>\n",
              "      <td>1</td>\n",
              "    </tr>\n",
              "    <tr>\n",
              "      <th>3</th>\n",
              "      <td>24</td>\n",
              "      <td>4378</td>\n",
              "      <td>Owned</td>\n",
              "      <td>Joint</td>\n",
              "      <td>52</td>\n",
              "      <td>48</td>\n",
              "      <td>No</td>\n",
              "      <td>X1</td>\n",
              "      <td>14+</td>\n",
              "      <td>3.0</td>\n",
              "      <td>19</td>\n",
              "      <td>17780.0</td>\n",
              "      <td>0</td>\n",
              "    </tr>\n",
              "    <tr>\n",
              "      <th>4</th>\n",
              "      <td>8</td>\n",
              "      <td>2190</td>\n",
              "      <td>Rented</td>\n",
              "      <td>Individual</td>\n",
              "      <td>44</td>\n",
              "      <td>44</td>\n",
              "      <td>No</td>\n",
              "      <td>X2</td>\n",
              "      <td>3.0</td>\n",
              "      <td>1.0</td>\n",
              "      <td>16</td>\n",
              "      <td>10404.0</td>\n",
              "      <td>0</td>\n",
              "    </tr>\n",
              "    <tr>\n",
              "      <th>...</th>\n",
              "      <td>...</td>\n",
              "      <td>...</td>\n",
              "      <td>...</td>\n",
              "      <td>...</td>\n",
              "      <td>...</td>\n",
              "      <td>...</td>\n",
              "      <td>...</td>\n",
              "      <td>...</td>\n",
              "      <td>...</td>\n",
              "      <td>...</td>\n",
              "      <td>...</td>\n",
              "      <td>...</td>\n",
              "      <td>...</td>\n",
              "    </tr>\n",
              "    <tr>\n",
              "      <th>50877</th>\n",
              "      <td>4</td>\n",
              "      <td>845</td>\n",
              "      <td>Rented</td>\n",
              "      <td>Individual</td>\n",
              "      <td>22</td>\n",
              "      <td>22</td>\n",
              "      <td>No</td>\n",
              "      <td>X3</td>\n",
              "      <td>NaN</td>\n",
              "      <td>NaN</td>\n",
              "      <td>18</td>\n",
              "      <td>7704.0</td>\n",
              "      <td>0</td>\n",
              "    </tr>\n",
              "    <tr>\n",
              "      <th>50878</th>\n",
              "      <td>5</td>\n",
              "      <td>4188</td>\n",
              "      <td>Rented</td>\n",
              "      <td>Individual</td>\n",
              "      <td>27</td>\n",
              "      <td>27</td>\n",
              "      <td>No</td>\n",
              "      <td>X3</td>\n",
              "      <td>7.0</td>\n",
              "      <td>3.0</td>\n",
              "      <td>4</td>\n",
              "      <td>5408.0</td>\n",
              "      <td>0</td>\n",
              "    </tr>\n",
              "    <tr>\n",
              "      <th>50879</th>\n",
              "      <td>1</td>\n",
              "      <td>442</td>\n",
              "      <td>Rented</td>\n",
              "      <td>Individual</td>\n",
              "      <td>63</td>\n",
              "      <td>63</td>\n",
              "      <td>No</td>\n",
              "      <td>X2</td>\n",
              "      <td>14+</td>\n",
              "      <td>1.0</td>\n",
              "      <td>12</td>\n",
              "      <td>11374.0</td>\n",
              "      <td>0</td>\n",
              "    </tr>\n",
              "    <tr>\n",
              "      <th>50880</th>\n",
              "      <td>1</td>\n",
              "      <td>4</td>\n",
              "      <td>Owned</td>\n",
              "      <td>Joint</td>\n",
              "      <td>71</td>\n",
              "      <td>49</td>\n",
              "      <td>No</td>\n",
              "      <td>X2</td>\n",
              "      <td>2.0</td>\n",
              "      <td>2.0</td>\n",
              "      <td>16</td>\n",
              "      <td>28179.2</td>\n",
              "      <td>1</td>\n",
              "    </tr>\n",
              "    <tr>\n",
              "      <th>50881</th>\n",
              "      <td>3</td>\n",
              "      <td>3866</td>\n",
              "      <td>Rented</td>\n",
              "      <td>Individual</td>\n",
              "      <td>24</td>\n",
              "      <td>24</td>\n",
              "      <td>No</td>\n",
              "      <td>X3</td>\n",
              "      <td>2.0</td>\n",
              "      <td>3.0</td>\n",
              "      <td>18</td>\n",
              "      <td>11424.0</td>\n",
              "      <td>0</td>\n",
              "    </tr>\n",
              "  </tbody>\n",
              "</table>\n",
              "<p>50882 rows × 13 columns</p>\n",
              "</div>"
            ],
            "text/plain": [
              "       City_Code  Region_Code  ... Reco_Policy_Premium Response\n",
              "0              3         3213  ...             11628.0        0\n",
              "1              5         1117  ...             30510.0        0\n",
              "2              5         3732  ...              7450.0        1\n",
              "3             24         4378  ...             17780.0        0\n",
              "4              8         2190  ...             10404.0        0\n",
              "...          ...          ...  ...                 ...      ...\n",
              "50877          4          845  ...              7704.0        0\n",
              "50878          5         4188  ...              5408.0        0\n",
              "50879          1          442  ...             11374.0        0\n",
              "50880          1            4  ...             28179.2        1\n",
              "50881          3         3866  ...             11424.0        0\n",
              "\n",
              "[50882 rows x 13 columns]"
            ]
          },
          "metadata": {
            "tags": []
          },
          "execution_count": 11
        }
      ]
    },
    {
      "cell_type": "code",
      "metadata": {
        "id": "vfPtVfjOxYx6",
        "colab": {
          "base_uri": "https://localhost:8080/"
        },
        "outputId": "5739626d-07d6-4cdf-9a8e-cf2a5a4b2ade"
      },
      "source": [
        "train.columns"
      ],
      "execution_count": null,
      "outputs": [
        {
          "output_type": "execute_result",
          "data": {
            "text/plain": [
              "Index(['City_Code', 'Region_Code', 'Accomodation_Type', 'Reco_Insurance_Type',\n",
              "       'Upper_Age', 'Lower_Age', 'Is_Spouse', 'Health Indicator',\n",
              "       'Holding_Policy_Duration', 'Holding_Policy_Type', 'Reco_Policy_Cat',\n",
              "       'Reco_Policy_Premium', 'Response'],\n",
              "      dtype='object')"
            ]
          },
          "metadata": {
            "tags": []
          },
          "execution_count": 21
        }
      ]
    },
    {
      "cell_type": "code",
      "metadata": {
        "id": "upcuS6U3gjOx"
      },
      "source": [
        "train['Accomodation_Type']=train['Accomodation_Type'].map({'Rented':1,'Owned':2})"
      ],
      "execution_count": 80,
      "outputs": []
    },
    {
      "cell_type": "code",
      "metadata": {
        "id": "P0LEMrPSrTyV"
      },
      "source": [
        "train['Reco_Insurance_Type']=train['Reco_Insurance_Type'].map({'Induvidual':1,'Joint':2})"
      ],
      "execution_count": 81,
      "outputs": []
    },
    {
      "cell_type": "code",
      "metadata": {
        "id": "f8aCGDbrwz2T"
      },
      "source": [
        "train['Is_Spouse']=train['Is_Spouse'].map({'Yes':1,'No':0})"
      ],
      "execution_count": 82,
      "outputs": []
    },
    {
      "cell_type": "code",
      "metadata": {
        "id": "sxQPGj2uyKpY"
      },
      "source": [
        "l3=[]\r\n",
        "for i in train['Health Indicator']:\r\n",
        "  if type(i)==float:\r\n",
        "    l3.append(i)\r\n",
        "  else:\r\n",
        "    l3.append(int(i.lstrip('X')))\r\n",
        "train['Health Indicator']=l3"
      ],
      "execution_count": 85,
      "outputs": []
    },
    {
      "cell_type": "code",
      "metadata": {
        "id": "afj8CRnz10m3"
      },
      "source": [
        "l4=[]\r\n",
        "for i in train['Holding_Policy_Duration']:\r\n",
        "  if type(i)==float:\r\n",
        "    l4.append(i)\r\n",
        "  elif(i=='14+'):\r\n",
        "    l4.append(15.0)\r\n",
        "  else:\r\n",
        "    l4.append(float(i))\r\n",
        "train['Holding_Policy_Duration']=l4\r\n"
      ],
      "execution_count": 86,
      "outputs": []
    },
    {
      "cell_type": "code",
      "metadata": {
        "id": "emMi6tqK6LSv"
      },
      "source": [
        "df=train.drop('Response',axis=1)"
      ],
      "execution_count": 87,
      "outputs": []
    },
    {
      "cell_type": "code",
      "metadata": {
        "id": "KwWsKaZvokxM"
      },
      "source": [
        "sc=StandardScaler()"
      ],
      "execution_count": 88,
      "outputs": []
    },
    {
      "cell_type": "code",
      "metadata": {
        "id": "Nj49sKcnpf7C"
      },
      "source": [
        "df_scaled=sc.fit_transform(df)"
      ],
      "execution_count": 89,
      "outputs": []
    },
    {
      "cell_type": "code",
      "metadata": {
        "id": "2bHZUMnq7l_v"
      },
      "source": [
        "Y=train['Response']"
      ],
      "execution_count": 90,
      "outputs": []
    },
    {
      "cell_type": "code",
      "metadata": {
        "id": "y2-hLGa7uTZr"
      },
      "source": [
        "from sklearn.impute import KNNImputer"
      ],
      "execution_count": 91,
      "outputs": []
    },
    {
      "cell_type": "code",
      "metadata": {
        "id": "YAcvujqEtfPH"
      },
      "source": [
        "knn_imputer = KNNImputer()"
      ],
      "execution_count": 92,
      "outputs": []
    },
    {
      "cell_type": "code",
      "metadata": {
        "id": "qblpBmJtv-Dg"
      },
      "source": [
        "df_scal = knn_imputer.fit_transform(df_scaled)"
      ],
      "execution_count": 93,
      "outputs": []
    },
    {
      "cell_type": "code",
      "metadata": {
        "id": "dxmNTZYOwKOw",
        "colab": {
          "base_uri": "https://localhost:8080/"
        },
        "outputId": "5c6fdd31-cdaa-4650-a916-220e2ba611df"
      },
      "source": [
        "df_scal"
      ],
      "execution_count": 24,
      "outputs": [
        {
          "output_type": "execute_result",
          "data": {
            "text/plain": [
              "array([[-0.65186279,  1.03942484, -1.10404602, ...,  0.54661115,\n",
              "         1.08582966, -0.38785222],\n",
              "       [-0.39822795, -0.43241534,  0.90575934, ...,  0.35166155,\n",
              "         1.08582966,  2.47739376],\n",
              "       [-0.39822795,  1.40387381,  0.90575934, ..., -1.40288481,\n",
              "         0.61268834, -1.02184214],\n",
              "       ...,\n",
              "       [-0.90549764, -0.90640968, -1.10404602, ..., -1.40288481,\n",
              "        -0.49130806, -0.42639541],\n",
              "       [-0.90549764, -1.21397933,  0.90575934, ..., -0.42813683,\n",
              "         0.13954703,  2.1237069 ],\n",
              "       [-0.65186279,  1.49797047, -1.10404602, ...,  0.54661115,\n",
              "         0.45497457, -0.41880817]])"
            ]
          },
          "metadata": {
            "tags": []
          },
          "execution_count": 24
        }
      ]
    },
    {
      "cell_type": "code",
      "metadata": {
        "id": "zqAdT64eEADA"
      },
      "source": [
        "df_scal=pd.DataFrame(df_scal)"
      ],
      "execution_count": 94,
      "outputs": []
    },
    {
      "cell_type": "code",
      "metadata": {
        "id": "rqObXaUOEIqu",
        "colab": {
          "base_uri": "https://localhost:8080/",
          "height": 419
        },
        "outputId": "16fe0fff-59e7-4229-a412-782906f2d044"
      },
      "source": [
        "df_scal"
      ],
      "execution_count": 95,
      "outputs": [
        {
          "output_type": "execute_result",
          "data": {
            "text/html": [
              "<div>\n",
              "<style scoped>\n",
              "    .dataframe tbody tr th:only-of-type {\n",
              "        vertical-align: middle;\n",
              "    }\n",
              "\n",
              "    .dataframe tbody tr th {\n",
              "        vertical-align: top;\n",
              "    }\n",
              "\n",
              "    .dataframe thead th {\n",
              "        text-align: right;\n",
              "    }\n",
              "</style>\n",
              "<table border=\"1\" class=\"dataframe\">\n",
              "  <thead>\n",
              "    <tr style=\"text-align: right;\">\n",
              "      <th></th>\n",
              "      <th>0</th>\n",
              "      <th>1</th>\n",
              "      <th>2</th>\n",
              "      <th>3</th>\n",
              "      <th>4</th>\n",
              "      <th>5</th>\n",
              "      <th>6</th>\n",
              "      <th>7</th>\n",
              "      <th>8</th>\n",
              "      <th>9</th>\n",
              "      <th>10</th>\n",
              "      <th>11</th>\n",
              "    </tr>\n",
              "  </thead>\n",
              "  <tbody>\n",
              "    <tr>\n",
              "      <th>0</th>\n",
              "      <td>-0.651863</td>\n",
              "      <td>1.039425</td>\n",
              "      <td>-1.104046</td>\n",
              "      <td>0.0</td>\n",
              "      <td>-0.511625</td>\n",
              "      <td>-0.389098</td>\n",
              "      <td>-0.445367</td>\n",
              "      <td>-0.999910</td>\n",
              "      <td>1.858309</td>\n",
              "      <td>0.546611</td>\n",
              "      <td>1.085830</td>\n",
              "      <td>-0.387852</td>\n",
              "    </tr>\n",
              "    <tr>\n",
              "      <th>1</th>\n",
              "      <td>-0.398228</td>\n",
              "      <td>-0.432415</td>\n",
              "      <td>0.905759</td>\n",
              "      <td>0.0</td>\n",
              "      <td>1.741395</td>\n",
              "      <td>-1.197449</td>\n",
              "      <td>-0.445367</td>\n",
              "      <td>-0.307784</td>\n",
              "      <td>-0.032943</td>\n",
              "      <td>0.351662</td>\n",
              "      <td>1.085830</td>\n",
              "      <td>2.477394</td>\n",
              "    </tr>\n",
              "    <tr>\n",
              "      <th>2</th>\n",
              "      <td>-0.398228</td>\n",
              "      <td>1.403874</td>\n",
              "      <td>0.905759</td>\n",
              "      <td>0.0</td>\n",
              "      <td>-0.742704</td>\n",
              "      <td>-0.620055</td>\n",
              "      <td>-0.445367</td>\n",
              "      <td>-0.169359</td>\n",
              "      <td>-1.083639</td>\n",
              "      <td>-1.402885</td>\n",
              "      <td>0.612688</td>\n",
              "      <td>-1.021842</td>\n",
              "    </tr>\n",
              "    <tr>\n",
              "      <th>3</th>\n",
              "      <td>2.011303</td>\n",
              "      <td>1.857504</td>\n",
              "      <td>0.905759</td>\n",
              "      <td>0.0</td>\n",
              "      <td>0.412691</td>\n",
              "      <td>0.303775</td>\n",
              "      <td>-0.445367</td>\n",
              "      <td>-0.999910</td>\n",
              "      <td>1.858309</td>\n",
              "      <td>0.546611</td>\n",
              "      <td>0.612688</td>\n",
              "      <td>0.545682</td>\n",
              "    </tr>\n",
              "    <tr>\n",
              "      <th>4</th>\n",
              "      <td>-0.017776</td>\n",
              "      <td>0.321060</td>\n",
              "      <td>-1.104046</td>\n",
              "      <td>0.0</td>\n",
              "      <td>-0.049467</td>\n",
              "      <td>0.072817</td>\n",
              "      <td>-0.445367</td>\n",
              "      <td>-0.307784</td>\n",
              "      <td>-0.663361</td>\n",
              "      <td>-1.402885</td>\n",
              "      <td>0.139547</td>\n",
              "      <td>-0.573588</td>\n",
              "    </tr>\n",
              "    <tr>\n",
              "      <th>...</th>\n",
              "      <td>...</td>\n",
              "      <td>...</td>\n",
              "      <td>...</td>\n",
              "      <td>...</td>\n",
              "      <td>...</td>\n",
              "      <td>...</td>\n",
              "      <td>...</td>\n",
              "      <td>...</td>\n",
              "      <td>...</td>\n",
              "      <td>...</td>\n",
              "      <td>...</td>\n",
              "      <td>...</td>\n",
              "    </tr>\n",
              "    <tr>\n",
              "      <th>50877</th>\n",
              "      <td>-0.525045</td>\n",
              "      <td>-0.623418</td>\n",
              "      <td>-1.104046</td>\n",
              "      <td>0.0</td>\n",
              "      <td>-1.320401</td>\n",
              "      <td>-1.197449</td>\n",
              "      <td>-0.445367</td>\n",
              "      <td>0.384342</td>\n",
              "      <td>-0.747416</td>\n",
              "      <td>0.546611</td>\n",
              "      <td>0.454975</td>\n",
              "      <td>-0.983299</td>\n",
              "    </tr>\n",
              "    <tr>\n",
              "      <th>50878</th>\n",
              "      <td>-0.398228</td>\n",
              "      <td>1.724083</td>\n",
              "      <td>-1.104046</td>\n",
              "      <td>0.0</td>\n",
              "      <td>-1.031552</td>\n",
              "      <td>-0.908752</td>\n",
              "      <td>-0.445367</td>\n",
              "      <td>0.384342</td>\n",
              "      <td>0.177196</td>\n",
              "      <td>0.546611</td>\n",
              "      <td>-1.753018</td>\n",
              "      <td>-1.331705</td>\n",
              "    </tr>\n",
              "    <tr>\n",
              "      <th>50879</th>\n",
              "      <td>-0.905498</td>\n",
              "      <td>-0.906410</td>\n",
              "      <td>-1.104046</td>\n",
              "      <td>0.0</td>\n",
              "      <td>1.048158</td>\n",
              "      <td>1.169865</td>\n",
              "      <td>-0.445367</td>\n",
              "      <td>-0.307784</td>\n",
              "      <td>1.858309</td>\n",
              "      <td>-1.402885</td>\n",
              "      <td>-0.491308</td>\n",
              "      <td>-0.426395</td>\n",
              "    </tr>\n",
              "    <tr>\n",
              "      <th>50880</th>\n",
              "      <td>-0.905498</td>\n",
              "      <td>-1.213979</td>\n",
              "      <td>0.905759</td>\n",
              "      <td>0.0</td>\n",
              "      <td>1.510316</td>\n",
              "      <td>0.361514</td>\n",
              "      <td>-0.445367</td>\n",
              "      <td>-0.307784</td>\n",
              "      <td>-0.873500</td>\n",
              "      <td>-0.428137</td>\n",
              "      <td>0.139547</td>\n",
              "      <td>2.123707</td>\n",
              "    </tr>\n",
              "    <tr>\n",
              "      <th>50881</th>\n",
              "      <td>-0.651863</td>\n",
              "      <td>1.497970</td>\n",
              "      <td>-1.104046</td>\n",
              "      <td>0.0</td>\n",
              "      <td>-1.204862</td>\n",
              "      <td>-1.081970</td>\n",
              "      <td>-0.445367</td>\n",
              "      <td>0.384342</td>\n",
              "      <td>-0.873500</td>\n",
              "      <td>0.546611</td>\n",
              "      <td>0.454975</td>\n",
              "      <td>-0.418808</td>\n",
              "    </tr>\n",
              "  </tbody>\n",
              "</table>\n",
              "<p>50882 rows × 12 columns</p>\n",
              "</div>"
            ],
            "text/plain": [
              "             0         1         2   ...        9         10        11\n",
              "0     -0.651863  1.039425 -1.104046  ...  0.546611  1.085830 -0.387852\n",
              "1     -0.398228 -0.432415  0.905759  ...  0.351662  1.085830  2.477394\n",
              "2     -0.398228  1.403874  0.905759  ... -1.402885  0.612688 -1.021842\n",
              "3      2.011303  1.857504  0.905759  ...  0.546611  0.612688  0.545682\n",
              "4     -0.017776  0.321060 -1.104046  ... -1.402885  0.139547 -0.573588\n",
              "...         ...       ...       ...  ...       ...       ...       ...\n",
              "50877 -0.525045 -0.623418 -1.104046  ...  0.546611  0.454975 -0.983299\n",
              "50878 -0.398228  1.724083 -1.104046  ...  0.546611 -1.753018 -1.331705\n",
              "50879 -0.905498 -0.906410 -1.104046  ... -1.402885 -0.491308 -0.426395\n",
              "50880 -0.905498 -1.213979  0.905759  ... -0.428137  0.139547  2.123707\n",
              "50881 -0.651863  1.497970 -1.104046  ...  0.546611  0.454975 -0.418808\n",
              "\n",
              "[50882 rows x 12 columns]"
            ]
          },
          "metadata": {
            "tags": []
          },
          "execution_count": 95
        }
      ]
    },
    {
      "cell_type": "code",
      "metadata": {
        "id": "su8GQJxVERqZ",
        "colab": {
          "base_uri": "https://localhost:8080/",
          "height": 350
        },
        "outputId": "05176997-2bd0-4c6c-d5d7-d53f85e81fed"
      },
      "source": [
        "sns.boxplot(df_scal[0])"
      ],
      "execution_count": 27,
      "outputs": [
        {
          "output_type": "stream",
          "text": [
            "/usr/local/lib/python3.7/dist-packages/seaborn/_decorators.py:43: FutureWarning: Pass the following variable as a keyword arg: x. From version 0.12, the only valid positional argument will be `data`, and passing other arguments without an explicit keyword will result in an error or misinterpretation.\n",
            "  FutureWarning\n"
          ],
          "name": "stderr"
        },
        {
          "output_type": "execute_result",
          "data": {
            "text/plain": [
              "<matplotlib.axes._subplots.AxesSubplot at 0x7fda56030310>"
            ]
          },
          "metadata": {
            "tags": []
          },
          "execution_count": 27
        },
        {
          "output_type": "display_data",
          "data": {
            "image/png": "[encoded data removed]",
            "text/plain": [
              "<Figure size 432x288 with 1 Axes>"
            ]
          },
          "metadata": {
            "tags": [],
            "needs_background": "light"
          }
        }
      ]
    },
    {
      "cell_type": "code",
      "metadata": {
        "id": "h6FmmjHR5Q05"
      },
      "source": [
        "from sklearn.ensemble import RandomForestClassifier\r\n",
        "from sklearn.tree import DecisionTreeClassifier\r\n",
        "from sklearn.metrics import accuracy_score,roc_auc_score\r\n",
        "from xgboost import XGBClassifier"
      ],
      "execution_count": 96,
      "outputs": []
    },
    {
      "cell_type": "code",
      "metadata": {
        "id": "6SynF52B5oZQ"
      },
      "source": [
        "rf=RandomForestClassifier()"
      ],
      "execution_count": 97,
      "outputs": []
    },
    {
      "cell_type": "code",
      "metadata": {
        "id": "clzhd6dg5vVf"
      },
      "source": [
        "X_train,X_test,Y_train,Y_test=train_test_split(df_scal,Y,random_state=100)"
      ],
      "execution_count": 98,
      "outputs": []
    },
    {
      "cell_type": "code",
      "metadata": {
        "id": "qz2NRIHY78T0"
      },
      "source": [
        "raf=rf.fit(X_train,Y_train)"
      ],
      "execution_count": 99,
      "outputs": []
    },
    {
      "cell_type": "code",
      "metadata": {
        "id": "TFfWT3cM8SCM"
      },
      "source": [
        "Y_pred=raf.predict(X_test)"
      ],
      "execution_count": 100,
      "outputs": []
    },
    {
      "cell_type": "code",
      "metadata": {
        "id": "kcy3Y3VS7_9T",
        "colab": {
          "base_uri": "https://localhost:8080/"
        },
        "outputId": "499a86d3-f63f-40be-a6a3-2ebd708dfd30"
      },
      "source": [
        "accuracy_score(Y_test,Y_pred)"
      ],
      "execution_count": 101,
      "outputs": [
        {
          "output_type": "execute_result",
          "data": {
            "text/plain": [
              "0.7527710085685088"
            ]
          },
          "metadata": {
            "tags": []
          },
          "execution_count": 101
        }
      ]
    },
    {
      "cell_type": "code",
      "metadata": {
        "id": "b55ysIBi8o7g"
      },
      "source": [
        "dt=DecisionTreeClassifier()"
      ],
      "execution_count": 102,
      "outputs": []
    },
    {
      "cell_type": "code",
      "metadata": {
        "id": "GWQ9Tnib9YG7"
      },
      "source": [
        "dat=dt.fit(X_train,Y_train)"
      ],
      "execution_count": 103,
      "outputs": []
    },
    {
      "cell_type": "code",
      "metadata": {
        "id": "Ze-7q4Jj-iS9"
      },
      "source": [
        "Y_dt_pred=dat.predict(X_test)"
      ],
      "execution_count": 104,
      "outputs": []
    },
    {
      "cell_type": "code",
      "metadata": {
        "id": "NC_ALB71-sz_",
        "colab": {
          "base_uri": "https://localhost:8080/"
        },
        "outputId": "1950e690-07eb-44aa-e4c4-b68f84737955"
      },
      "source": [
        "accuracy_score(Y_test,Y_dt_pred)"
      ],
      "execution_count": 105,
      "outputs": [
        {
          "output_type": "execute_result",
          "data": {
            "text/plain": [
              "0.66174042921154"
            ]
          },
          "metadata": {
            "tags": []
          },
          "execution_count": 105
        }
      ]
    },
    {
      "cell_type": "code",
      "metadata": {
        "id": "tqw7ZdtoCKX6"
      },
      "source": [
        "xgboost=XGBClassifier()"
      ],
      "execution_count": 106,
      "outputs": []
    },
    {
      "cell_type": "code",
      "metadata": {
        "id": "nu4EVwf-Dc7Q"
      },
      "source": [
        "xgb=xgboost.fit(X_train,Y_train)"
      ],
      "execution_count": 107,
      "outputs": []
    },
    {
      "cell_type": "code",
      "metadata": {
        "id": "UWBQtXXjDc-A"
      },
      "source": [
        "Y_xgb_pred=xgb.predict(X_test)"
      ],
      "execution_count": 108,
      "outputs": []
    },
    {
      "cell_type": "code",
      "metadata": {
        "id": "uFUBi2bRDdCJ",
        "colab": {
          "base_uri": "https://localhost:8080/"
        },
        "outputId": "c8eba176-c009-4917-b9ec-599ad6724faf"
      },
      "source": [
        "accuracy_score(Y_test,Y_xgb_pred)"
      ],
      "execution_count": 109,
      "outputs": [
        {
          "output_type": "execute_result",
          "data": {
            "text/plain": [
              "0.7546576527002594"
            ]
          },
          "metadata": {
            "tags": []
          },
          "execution_count": 109
        }
      ]
    },
    {
      "cell_type": "code",
      "metadata": {
        "id": "ylyQmFFVDdIn"
      },
      "source": [
        "from imblearn.over_sampling import SMOTE"
      ],
      "execution_count": 110,
      "outputs": []
    },
    {
      "cell_type": "code",
      "metadata": {
        "id": "7wJXPmDHq0u2"
      },
      "source": [
        "sm=SMOTE(k_neighbors=10)"
      ],
      "execution_count": 111,
      "outputs": []
    },
    {
      "cell_type": "code",
      "metadata": {
        "id": "8KNgUPcqq-yI",
        "colab": {
          "base_uri": "https://localhost:8080/"
        },
        "outputId": "e034fd08-0d2d-4870-a82b-7ae43771474f"
      },
      "source": [
        "X_res,Y_res=sm.fit_sample(df_scal,Y)"
      ],
      "execution_count": 112,
      "outputs": [
        {
          "output_type": "stream",
          "text": [
            "/usr/local/lib/python3.7/dist-packages/sklearn/utils/deprecation.py:87: FutureWarning: Function safe_indexing is deprecated; safe_indexing is deprecated in version 0.22 and will be removed in version 0.24.\n",
            "  warnings.warn(msg, category=FutureWarning)\n"
          ],
          "name": "stderr"
        }
      ]
    },
    {
      "cell_type": "code",
      "metadata": {
        "id": "TGeQCC10skru",
        "colab": {
          "base_uri": "https://localhost:8080/"
        },
        "outputId": "46c0b26c-1228-4df2-e5a9-2305d239b842"
      },
      "source": [
        "X_res.shape,Y_res.shape"
      ],
      "execution_count": 113,
      "outputs": [
        {
          "output_type": "execute_result",
          "data": {
            "text/plain": [
              "((77346, 12), (77346,))"
            ]
          },
          "metadata": {
            "tags": []
          },
          "execution_count": 113
        }
      ]
    },
    {
      "cell_type": "code",
      "metadata": {
        "id": "lwD9u-Moqc7W"
      },
      "source": [
        "X_train,X_test,Y_train,Y_test=train_test_split(X_res,Y_res,test_size=0.3,random_state=100)"
      ],
      "execution_count": 114,
      "outputs": []
    },
    {
      "cell_type": "code",
      "metadata": {
        "id": "o5tJmFMXqc_c",
        "colab": {
          "base_uri": "https://localhost:8080/"
        },
        "outputId": "26775807-83bc-487f-a325-1d3f3542c0f4"
      },
      "source": [
        "rf1=RandomForestClassifier()\r\n",
        "rf1.fit(X_train,Y_train)"
      ],
      "execution_count": 115,
      "outputs": [
        {
          "output_type": "execute_result",
          "data": {
            "text/plain": [
              "RandomForestClassifier(bootstrap=True, ccp_alpha=0.0, class_weight=None,\n",
              "                       criterion='gini', max_depth=None, max_features='auto',\n",
              "                       max_leaf_nodes=None, max_samples=None,\n",
              "                       min_impurity_decrease=0.0, min_impurity_split=None,\n",
              "                       min_samples_leaf=1, min_samples_split=2,\n",
              "                       min_weight_fraction_leaf=0.0, n_estimators=100,\n",
              "                       n_jobs=None, oob_score=False, random_state=None,\n",
              "                       verbose=0, warm_start=False)"
            ]
          },
          "metadata": {
            "tags": []
          },
          "execution_count": 115
        }
      ]
    },
    {
      "cell_type": "code",
      "metadata": {
        "id": "H1SVe5KTtUxy"
      },
      "source": [
        "Y_rf_pred=rf1.predict(X_test)"
      ],
      "execution_count": 116,
      "outputs": []
    },
    {
      "cell_type": "code",
      "metadata": {
        "id": "b0aJQJmatU0H",
        "colab": {
          "base_uri": "https://localhost:8080/"
        },
        "outputId": "f44c2780-0a49-43b8-8fb7-059f03fdb89c"
      },
      "source": [
        "accuracy_score(Y_test,Y_rf_pred)"
      ],
      "execution_count": 117,
      "outputs": [
        {
          "output_type": "execute_result",
          "data": {
            "text/plain": [
              "0.8386485088777796"
            ]
          },
          "metadata": {
            "tags": []
          },
          "execution_count": 117
        }
      ]
    },
    {
      "cell_type": "code",
      "metadata": {
        "id": "2Y0TfRDDzEWy",
        "colab": {
          "base_uri": "https://localhost:8080/"
        },
        "outputId": "9caaaf57-ab12-4dd4-952b-68a2ce65e078"
      },
      "source": [
        "roc_auc_score(Y_test,Y_rf_pred)"
      ],
      "execution_count": 118,
      "outputs": [
        {
          "output_type": "execute_result",
          "data": {
            "text/plain": [
              "0.8382941344859369"
            ]
          },
          "metadata": {
            "tags": []
          },
          "execution_count": 118
        }
      ]
    },
    {
      "cell_type": "code",
      "metadata": {
        "id": "kFsFtAQTNGgH",
        "colab": {
          "base_uri": "https://localhost:8080/"
        },
        "outputId": "e6d2604b-3e41-45b6-9bab-1abd01a2cf0a"
      },
      "source": [
        "{'n_estimators': 1000,\r\n",
        " 'min_samples_split': 10,\r\n",
        " 'min_samples_leaf': 2,\r\n",
        " 'max_features': 'sqrt',\r\n",
        " 'max_depth': 10,\r\n",
        " 'bootstrap': True}"
      ],
      "execution_count": 119,
      "outputs": [
        {
          "output_type": "execute_result",
          "data": {
            "text/plain": [
              "{'bootstrap': True,\n",
              " 'max_depth': 10,\n",
              " 'max_features': 'sqrt',\n",
              " 'min_samples_leaf': 2,\n",
              " 'min_samples_split': 10,\n",
              " 'n_estimators': 1000}"
            ]
          },
          "metadata": {
            "tags": []
          },
          "execution_count": 119
        }
      ]
    },
    {
      "cell_type": "code",
      "metadata": {
        "id": "S7EH6TjZNKV4",
        "colab": {
          "base_uri": "https://localhost:8080/"
        },
        "outputId": "0cb9f0ea-733a-44bd-e17d-51c6ca783976"
      },
      "source": [
        "rf2=RandomForestClassifier(min_samples_leaf=2,min_samples_split=10,max_features='sqrt',max_depth=10,bootstrap=True)\r\n",
        "rf2.fit(X_train,Y_train)"
      ],
      "execution_count": 120,
      "outputs": [
        {
          "output_type": "execute_result",
          "data": {
            "text/plain": [
              "RandomForestClassifier(bootstrap=True, ccp_alpha=0.0, class_weight=None,\n",
              "                       criterion='gini', max_depth=10, max_features='sqrt',\n",
              "                       max_leaf_nodes=None, max_samples=None,\n",
              "                       min_impurity_decrease=0.0, min_impurity_split=None,\n",
              "                       min_samples_leaf=2, min_samples_split=10,\n",
              "                       min_weight_fraction_leaf=0.0, n_estimators=100,\n",
              "                       n_jobs=None, oob_score=False, random_state=None,\n",
              "                       verbose=0, warm_start=False)"
            ]
          },
          "metadata": {
            "tags": []
          },
          "execution_count": 120
        }
      ]
    },
    {
      "cell_type": "code",
      "metadata": {
        "id": "ApF_fPmFNp76"
      },
      "source": [
        "Y_rf1_pred=rf2.predict(X_test)"
      ],
      "execution_count": 121,
      "outputs": []
    },
    {
      "cell_type": "code",
      "metadata": {
        "id": "sr3zRs_sNu4q",
        "colab": {
          "base_uri": "https://localhost:8080/"
        },
        "outputId": "9bcdb1ca-33f0-4d22-c823-4b17e977bf62"
      },
      "source": [
        "accuracy_score(Y_test,Y_rf1_pred)"
      ],
      "execution_count": 122,
      "outputs": [
        {
          "output_type": "execute_result",
          "data": {
            "text/plain": [
              "0.7226771246336838"
            ]
          },
          "metadata": {
            "tags": []
          },
          "execution_count": 122
        }
      ]
    },
    {
      "cell_type": "code",
      "metadata": {
        "id": "ihpX6WT0zTNu",
        "colab": {
          "base_uri": "https://localhost:8080/"
        },
        "outputId": "6ce17eef-dc38-427a-e66b-5ff7843f6745"
      },
      "source": [
        "roc_auc_score(Y_test,Y_rf1_pred)"
      ],
      "execution_count": 123,
      "outputs": [
        {
          "output_type": "execute_result",
          "data": {
            "text/plain": [
              "0.7227873817680406"
            ]
          },
          "metadata": {
            "tags": []
          },
          "execution_count": 123
        }
      ]
    },
    {
      "cell_type": "code",
      "metadata": {
        "id": "eL84QMOntU4e"
      },
      "source": [
        "dt1=DecisionTreeClassifier()"
      ],
      "execution_count": 124,
      "outputs": []
    },
    {
      "cell_type": "code",
      "metadata": {
        "id": "oeo6Q4bFtU73"
      },
      "source": [
        "dat1=dt1.fit(X_train,Y_train)"
      ],
      "execution_count": 125,
      "outputs": []
    },
    {
      "cell_type": "code",
      "metadata": {
        "id": "muy5eIXPySeL"
      },
      "source": [
        "Y_dt_pred=dat1.predict(X_test)"
      ],
      "execution_count": 126,
      "outputs": []
    },
    {
      "cell_type": "code",
      "metadata": {
        "id": "D76K-xflySg7",
        "colab": {
          "base_uri": "https://localhost:8080/"
        },
        "outputId": "814de8c1-387a-45e1-97fa-ca1846e3320c"
      },
      "source": [
        "accuracy_score(Y_test,Y_dt_pred)"
      ],
      "execution_count": 127,
      "outputs": [
        {
          "output_type": "execute_result",
          "data": {
            "text/plain": [
              "0.7526288570936045"
            ]
          },
          "metadata": {
            "tags": []
          },
          "execution_count": 127
        }
      ]
    },
    {
      "cell_type": "code",
      "metadata": {
        "id": "FqebZdo3z0OZ"
      },
      "source": [
        "xgboost1=XGBClassifier()"
      ],
      "execution_count": 128,
      "outputs": []
    },
    {
      "cell_type": "code",
      "metadata": {
        "id": "GsYJTMzYz0S6"
      },
      "source": [
        "xgboost12=xgboost1.fit(X_train,Y_train)"
      ],
      "execution_count": 129,
      "outputs": []
    },
    {
      "cell_type": "code",
      "metadata": {
        "id": "bSkD3u2kz0V9"
      },
      "source": [
        "xgboost_dt_pred=xgboost12.predict(X_test)"
      ],
      "execution_count": 130,
      "outputs": []
    },
    {
      "cell_type": "code",
      "metadata": {
        "id": "pimiaOWN0NtL",
        "colab": {
          "base_uri": "https://localhost:8080/"
        },
        "outputId": "9ba62498-ef91-42b3-85a8-134c04e561a1"
      },
      "source": [
        "accuracy_score(Y_test,xgboost_dt_pred)"
      ],
      "execution_count": 131,
      "outputs": [
        {
          "output_type": "execute_result",
          "data": {
            "text/plain": [
              "0.7999913807964144"
            ]
          },
          "metadata": {
            "tags": []
          },
          "execution_count": 131
        }
      ]
    },
    {
      "cell_type": "code",
      "metadata": {
        "id": "faF_hZA5zaRr",
        "colab": {
          "base_uri": "https://localhost:8080/"
        },
        "outputId": "243d55d6-baa9-4d16-bea0-3a3403ea9703"
      },
      "source": [
        "roc_auc_score(Y_test,xgboost_dt_pred)"
      ],
      "execution_count": 132,
      "outputs": [
        {
          "output_type": "execute_result",
          "data": {
            "text/plain": [
              "0.7994895162023893"
            ]
          },
          "metadata": {
            "tags": []
          },
          "execution_count": 132
        }
      ]
    },
    {
      "cell_type": "code",
      "metadata": {
        "id": "5V_oTV2WPU9f"
      },
      "source": [
        "from sklearn.model_selection import GridSearchCV,RandomizedSearchCV"
      ],
      "execution_count": 66,
      "outputs": []
    },
    {
      "cell_type": "code",
      "metadata": {
        "id": "I_PkqBHgQWjg"
      },
      "source": [
        "param_tuning = {\r\n",
        "        'learning_rate': [0.01, 0.1],\r\n",
        "        'max_depth': [3, 5, 7, 10],\r\n",
        "        'min_child_weight': [1, 3, 5],\r\n",
        "        'subsample': [0.5, 0.7],\r\n",
        "        'colsample_bytree': [0.5, 0.7],\r\n",
        "        'n_estimators' : [100, 200, 500],\r\n",
        "    }"
      ],
      "execution_count": 67,
      "outputs": []
    },
    {
      "cell_type": "code",
      "metadata": {
        "id": "qgrQY8krQWwC"
      },
      "source": [
        "gsearch=RandomizedSearchCV(xgboost12,param_distributions=param_tuning,cv=10)"
      ],
      "execution_count": 68,
      "outputs": []
    },
    {
      "cell_type": "code",
      "metadata": {
        "id": "7HyBtxhGRBK9",
        "colab": {
          "base_uri": "https://localhost:8080/"
        },
        "outputId": "8df5a98c-0a8c-4477-8626-2faab19cd49c"
      },
      "source": [
        "gsearch.fit(X_train,Y_train)"
      ],
      "execution_count": 69,
      "outputs": [
        {
          "output_type": "execute_result",
          "data": {
            "text/plain": [
              "RandomizedSearchCV(cv=10, error_score=nan,\n",
              "                   estimator=XGBClassifier(base_score=0.5, booster='gbtree',\n",
              "                                           colsample_bylevel=1,\n",
              "                                           colsample_bynode=1,\n",
              "                                           colsample_bytree=1, gamma=0,\n",
              "                                           learning_rate=0.1, max_delta_step=0,\n",
              "                                           max_depth=3, min_child_weight=1,\n",
              "                                           missing=None, n_estimators=100,\n",
              "                                           n_jobs=1, nthread=None,\n",
              "                                           objective='binary:logistic',\n",
              "                                           random_state=0, reg_alpha=0,\n",
              "                                           reg_lambda=1, s...\n",
              "                                           seed=None, silent=None, subsample=1,\n",
              "                                           verbosity=1),\n",
              "                   iid='deprecated', n_iter=10, n_jobs=None,\n",
              "                   param_distributions={'colsample_bytree': [0.5, 0.7],\n",
              "                                        'learning_rate': [0.01, 0.1],\n",
              "                                        'max_depth': [3, 5, 7, 10],\n",
              "                                        'min_child_weight': [1, 3, 5],\n",
              "                                        'n_estimators': [100, 200, 500],\n",
              "                                        'subsample': [0.5, 0.7]},\n",
              "                   pre_dispatch='2*n_jobs', random_state=None, refit=True,\n",
              "                   return_train_score=False, scoring=None, verbose=0)"
            ]
          },
          "metadata": {
            "tags": []
          },
          "execution_count": 69
        }
      ]
    },
    {
      "cell_type": "code",
      "metadata": {
        "id": "sLqEgDJ4uuyR",
        "colab": {
          "base_uri": "https://localhost:8080/"
        },
        "outputId": "514e0609-378b-46de-a59b-f08ea0b87c4f"
      },
      "source": [
        "gsearch.best_params_"
      ],
      "execution_count": null,
      "outputs": [
        {
          "output_type": "execute_result",
          "data": {
            "text/plain": [
              "{'colsample_bytree': 0.5,\n",
              " 'learning_rate': 0.1,\n",
              " 'max_depth': 7,\n",
              " 'min_child_weight': 3,\n",
              " 'n_estimators': 500,\n",
              " 'subsample': 0.7}"
            ]
          },
          "metadata": {
            "tags": []
          },
          "execution_count": 79
        }
      ]
    },
    {
      "cell_type": "code",
      "metadata": {
        "id": "00xQTap0u7H6"
      },
      "source": [
        "xgb_opti=XGBClassifier(max_depth=10,min_child_weight=3,subsample=0.7,colsample_bytree=0.7)"
      ],
      "execution_count": 133,
      "outputs": []
    },
    {
      "cell_type": "code",
      "metadata": {
        "id": "v72AoYEJvT_K",
        "colab": {
          "base_uri": "https://localhost:8080/"
        },
        "outputId": "7aae1a32-14b1-4e0b-a79e-9776bd5f88b4"
      },
      "source": [
        "xgb_opti.fit(X_train,Y_train)"
      ],
      "execution_count": 134,
      "outputs": [
        {
          "output_type": "execute_result",
          "data": {
            "text/plain": [
              "XGBClassifier(base_score=0.5, booster='gbtree', colsample_bylevel=1,\n",
              "              colsample_bynode=1, colsample_bytree=0.7, gamma=0,\n",
              "              learning_rate=0.1, max_delta_step=0, max_depth=10,\n",
              "              min_child_weight=3, missing=None, n_estimators=100, n_jobs=1,\n",
              "              nthread=None, objective='binary:logistic', random_state=0,\n",
              "              reg_alpha=0, reg_lambda=1, scale_pos_weight=1, seed=None,\n",
              "              silent=None, subsample=0.7, verbosity=1)"
            ]
          },
          "metadata": {
            "tags": []
          },
          "execution_count": 134
        }
      ]
    },
    {
      "cell_type": "code",
      "metadata": {
        "id": "LDn0s4vOveKd"
      },
      "source": [
        "opti_pred=xgb_opti.predict(X_test)"
      ],
      "execution_count": 135,
      "outputs": []
    },
    {
      "cell_type": "code",
      "metadata": {
        "id": "SuGyNNORvk7J",
        "colab": {
          "base_uri": "https://localhost:8080/"
        },
        "outputId": "7afd46c2-200e-4479-9791-a0537fea8c8e"
      },
      "source": [
        "accuracy_score(Y_test,opti_pred)"
      ],
      "execution_count": 136,
      "outputs": [
        {
          "output_type": "execute_result",
          "data": {
            "text/plain": [
              "0.8371832442682297"
            ]
          },
          "metadata": {
            "tags": []
          },
          "execution_count": 136
        }
      ]
    },
    {
      "cell_type": "code",
      "metadata": {
        "id": "Nz77h5Jbzn3q",
        "colab": {
          "base_uri": "https://localhost:8080/"
        },
        "outputId": "f3023d42-529f-4ec3-e7ea-c6fc32a06236"
      },
      "source": [
        "roc_auc_score(Y_test,opti_pred)"
      ],
      "execution_count": 137,
      "outputs": [
        {
          "output_type": "execute_result",
          "data": {
            "text/plain": [
              "0.8366578886519577"
            ]
          },
          "metadata": {
            "tags": []
          },
          "execution_count": 137
        }
      ]
    },
    {
      "cell_type": "code",
      "metadata": {
        "id": "JDVRk3Wk-0Io"
      },
      "source": [
        "%tensorflow_version 2.x"
      ],
      "execution_count": null,
      "outputs": []
    },
    {
      "cell_type": "code",
      "metadata": {
        "id": "tSmMFrWxA3_8"
      },
      "source": [
        "import tensorflow as tf\r\n",
        "from tensorflow.keras import layers\r\n",
        "from tensorflow.keras import Sequential"
      ],
      "execution_count": null,
      "outputs": []
    },
    {
      "cell_type": "code",
      "metadata": {
        "id": "7cciWU9eBdLb"
      },
      "source": [
        "def layer_2_nn():\r\n",
        "\r\n",
        "  model=Sequential([\r\n",
        "                    layers.Dense(units=10,activation='relu',input_shape=(12,)),\r\n",
        "                    layers.BatchNormalization(momentum=0.99, epsilon=0.001),\r\n",
        "                    layers.Dense(units=1,activation='sigmoid')\r\n",
        "  ])\r\n",
        "  #Loss and Optimizer\r\n",
        "  loss=tf.keras.losses.categorical_crossentropy #log-loss\r\n",
        "  optimizer=tf.keras.optimizers.Adam(learning_rate=0.01)\r\n",
        "  model.compile(loss=loss,optimizer=optimizer,metrics=['accuracy'])\r\n",
        "  return model"
      ],
      "execution_count": null,
      "outputs": []
    },
    {
      "cell_type": "code",
      "metadata": {
        "id": "AnHsRzo2GCIw",
        "colab": {
          "base_uri": "https://localhost:8080/"
        },
        "outputId": "4970faa3-8f09-49fb-ad4c-39ae0f0a30ca"
      },
      "source": [
        "model_layer=layer_2_nn()\r\n",
        "model_layer.summary()"
      ],
      "execution_count": null,
      "outputs": [
        {
          "output_type": "stream",
          "text": [
            "Model: \"sequential\"\n",
            "_________________________________________________________________\n",
            "Layer (type)                 Output Shape              Param #   \n",
            "=================================================================\n",
            "dense (Dense)                (None, 10)                130       \n",
            "_________________________________________________________________\n",
            "batch_normalization (BatchNo (None, 10)                40        \n",
            "_________________________________________________________________\n",
            "dense_1 (Dense)              (None, 1)                 11        \n",
            "=================================================================\n",
            "Total params: 181\n",
            "Trainable params: 161\n",
            "Non-trainable params: 20\n",
            "_________________________________________________________________\n"
          ],
          "name": "stdout"
        }
      ]
    },
    {
      "cell_type": "code",
      "metadata": {
        "id": "RaQjxqNCGJt5",
        "colab": {
          "base_uri": "https://localhost:8080/"
        },
        "outputId": "a0f1039a-abdc-4bc6-ab78-762ecedb05d5"
      },
      "source": [
        "history=model_layer.fit(x=X_train,y=Y_train,batch_size=300,epochs=100,validation_data=(X_test,Y_test))"
      ],
      "execution_count": null,
      "outputs": [
        {
          "output_type": "stream",
          "text": [
            "Epoch 1/100\n",
            "181/181 [==============================] - 3s 5ms/step - loss: 0.0000e+00 - accuracy: 0.5036 - val_loss: 0.0000e+00 - val_accuracy: 0.5365\n",
            "Epoch 2/100\n",
            "181/181 [==============================] - 1s 4ms/step - loss: 0.0000e+00 - accuracy: 0.5003 - val_loss: 0.0000e+00 - val_accuracy: 0.5242\n",
            "Epoch 3/100\n",
            "181/181 [==============================] - 1s 3ms/step - loss: 0.0000e+00 - accuracy: 0.5028 - val_loss: 0.0000e+00 - val_accuracy: 0.5184\n",
            "Epoch 4/100\n",
            "181/181 [==============================] - 1s 3ms/step - loss: 0.0000e+00 - accuracy: 0.5020 - val_loss: 0.0000e+00 - val_accuracy: 0.5138\n",
            "Epoch 5/100\n",
            "181/181 [==============================] - 1s 3ms/step - loss: 0.0000e+00 - accuracy: 0.4978 - val_loss: 0.0000e+00 - val_accuracy: 0.5064\n",
            "Epoch 6/100\n",
            "181/181 [==============================] - 1s 3ms/step - loss: 0.0000e+00 - accuracy: 0.4993 - val_loss: 0.0000e+00 - val_accuracy: 0.5051\n",
            "Epoch 7/100\n",
            "181/181 [==============================] - 1s 3ms/step - loss: 0.0000e+00 - accuracy: 0.5010 - val_loss: 0.0000e+00 - val_accuracy: 0.5030\n",
            "Epoch 8/100\n",
            "181/181 [==============================] - 1s 4ms/step - loss: 0.0000e+00 - accuracy: 0.4987 - val_loss: 0.0000e+00 - val_accuracy: 0.5023\n",
            "Epoch 9/100\n",
            "181/181 [==============================] - 1s 4ms/step - loss: 0.0000e+00 - accuracy: 0.4973 - val_loss: 0.0000e+00 - val_accuracy: 0.5028\n",
            "Epoch 10/100\n",
            "181/181 [==============================] - 1s 4ms/step - loss: 0.0000e+00 - accuracy: 0.5028 - val_loss: 0.0000e+00 - val_accuracy: 0.5026\n",
            "Epoch 11/100\n",
            "181/181 [==============================] - 1s 3ms/step - loss: 0.0000e+00 - accuracy: 0.4964 - val_loss: 0.0000e+00 - val_accuracy: 0.5029\n",
            "Epoch 12/100\n",
            "181/181 [==============================] - 1s 3ms/step - loss: 0.0000e+00 - accuracy: 0.4965 - val_loss: 0.0000e+00 - val_accuracy: 0.5015\n",
            "Epoch 13/100\n",
            "181/181 [==============================] - 1s 3ms/step - loss: 0.0000e+00 - accuracy: 0.4973 - val_loss: 0.0000e+00 - val_accuracy: 0.5015\n",
            "Epoch 14/100\n",
            "181/181 [==============================] - 1s 3ms/step - loss: 0.0000e+00 - accuracy: 0.5001 - val_loss: 0.0000e+00 - val_accuracy: 0.5019\n",
            "Epoch 15/100\n",
            "181/181 [==============================] - 1s 3ms/step - loss: 0.0000e+00 - accuracy: 0.4978 - val_loss: 0.0000e+00 - val_accuracy: 0.5019\n",
            "Epoch 16/100\n",
            "181/181 [==============================] - 1s 4ms/step - loss: 0.0000e+00 - accuracy: 0.4958 - val_loss: 0.0000e+00 - val_accuracy: 0.5019\n",
            "Epoch 17/100\n",
            "181/181 [==============================] - 1s 4ms/step - loss: 0.0000e+00 - accuracy: 0.4979 - val_loss: 0.0000e+00 - val_accuracy: 0.5018\n",
            "Epoch 18/100\n",
            "181/181 [==============================] - 1s 4ms/step - loss: 0.0000e+00 - accuracy: 0.4981 - val_loss: 0.0000e+00 - val_accuracy: 0.5021\n",
            "Epoch 19/100\n",
            "181/181 [==============================] - 1s 4ms/step - loss: 0.0000e+00 - accuracy: 0.4984 - val_loss: 0.0000e+00 - val_accuracy: 0.5015\n",
            "Epoch 20/100\n",
            "181/181 [==============================] - 1s 4ms/step - loss: 0.0000e+00 - accuracy: 0.5007 - val_loss: 0.0000e+00 - val_accuracy: 0.5017\n",
            "Epoch 21/100\n",
            "181/181 [==============================] - 1s 4ms/step - loss: 0.0000e+00 - accuracy: 0.4976 - val_loss: 0.0000e+00 - val_accuracy: 0.5018\n",
            "Epoch 22/100\n",
            "181/181 [==============================] - 1s 4ms/step - loss: 0.0000e+00 - accuracy: 0.4986 - val_loss: 0.0000e+00 - val_accuracy: 0.5017\n",
            "Epoch 23/100\n",
            "181/181 [==============================] - 1s 4ms/step - loss: 0.0000e+00 - accuracy: 0.5023 - val_loss: 0.0000e+00 - val_accuracy: 0.5015\n",
            "Epoch 24/100\n",
            "181/181 [==============================] - 1s 3ms/step - loss: 0.0000e+00 - accuracy: 0.5009 - val_loss: 0.0000e+00 - val_accuracy: 0.5015\n",
            "Epoch 25/100\n",
            "181/181 [==============================] - 1s 3ms/step - loss: 0.0000e+00 - accuracy: 0.5014 - val_loss: 0.0000e+00 - val_accuracy: 0.5017\n",
            "Epoch 26/100\n",
            "181/181 [==============================] - 1s 3ms/step - loss: 0.0000e+00 - accuracy: 0.4991 - val_loss: 0.0000e+00 - val_accuracy: 0.5016\n",
            "Epoch 27/100\n",
            "181/181 [==============================] - 1s 3ms/step - loss: 0.0000e+00 - accuracy: 0.4980 - val_loss: 0.0000e+00 - val_accuracy: 0.5015\n",
            "Epoch 28/100\n",
            "181/181 [==============================] - 1s 3ms/step - loss: 0.0000e+00 - accuracy: 0.4979 - val_loss: 0.0000e+00 - val_accuracy: 0.5014\n",
            "Epoch 29/100\n",
            "181/181 [==============================] - 1s 3ms/step - loss: 0.0000e+00 - accuracy: 0.4991 - val_loss: 0.0000e+00 - val_accuracy: 0.5017\n",
            "Epoch 30/100\n",
            "181/181 [==============================] - 1s 3ms/step - loss: 0.0000e+00 - accuracy: 0.4990 - val_loss: 0.0000e+00 - val_accuracy: 0.5017\n",
            "Epoch 31/100\n",
            "181/181 [==============================] - 1s 4ms/step - loss: 0.0000e+00 - accuracy: 0.5004 - val_loss: 0.0000e+00 - val_accuracy: 0.5017\n",
            "Epoch 32/100\n",
            "181/181 [==============================] - 1s 4ms/step - loss: 0.0000e+00 - accuracy: 0.4975 - val_loss: 0.0000e+00 - val_accuracy: 0.5015\n",
            "Epoch 33/100\n",
            "181/181 [==============================] - 1s 4ms/step - loss: 0.0000e+00 - accuracy: 0.5012 - val_loss: 0.0000e+00 - val_accuracy: 0.5014\n",
            "Epoch 34/100\n",
            "181/181 [==============================] - 1s 4ms/step - loss: 0.0000e+00 - accuracy: 0.5018 - val_loss: 0.0000e+00 - val_accuracy: 0.5016\n",
            "Epoch 35/100\n",
            "181/181 [==============================] - 1s 3ms/step - loss: 0.0000e+00 - accuracy: 0.4984 - val_loss: 0.0000e+00 - val_accuracy: 0.5015\n",
            "Epoch 36/100\n",
            "181/181 [==============================] - 1s 3ms/step - loss: 0.0000e+00 - accuracy: 0.4995 - val_loss: 0.0000e+00 - val_accuracy: 0.5015\n",
            "Epoch 37/100\n",
            "181/181 [==============================] - 1s 3ms/step - loss: 0.0000e+00 - accuracy: 0.4946 - val_loss: 0.0000e+00 - val_accuracy: 0.5014\n",
            "Epoch 38/100\n",
            "181/181 [==============================] - 1s 3ms/step - loss: 0.0000e+00 - accuracy: 0.4976 - val_loss: 0.0000e+00 - val_accuracy: 0.5013\n",
            "Epoch 39/100\n",
            "181/181 [==============================] - 1s 4ms/step - loss: 0.0000e+00 - accuracy: 0.5020 - val_loss: 0.0000e+00 - val_accuracy: 0.5014\n",
            "Epoch 40/100\n",
            "181/181 [==============================] - 1s 3ms/step - loss: 0.0000e+00 - accuracy: 0.5008 - val_loss: 0.0000e+00 - val_accuracy: 0.5014\n",
            "Epoch 41/100\n",
            "181/181 [==============================] - 1s 3ms/step - loss: 0.0000e+00 - accuracy: 0.5001 - val_loss: 0.0000e+00 - val_accuracy: 0.5014\n",
            "Epoch 42/100\n",
            "181/181 [==============================] - 1s 3ms/step - loss: 0.0000e+00 - accuracy: 0.5011 - val_loss: 0.0000e+00 - val_accuracy: 0.5016\n",
            "Epoch 43/100\n",
            "181/181 [==============================] - 1s 3ms/step - loss: 0.0000e+00 - accuracy: 0.4992 - val_loss: 0.0000e+00 - val_accuracy: 0.5016\n",
            "Epoch 44/100\n",
            "181/181 [==============================] - 1s 3ms/step - loss: 0.0000e+00 - accuracy: 0.5002 - val_loss: 0.0000e+00 - val_accuracy: 0.5015\n",
            "Epoch 45/100\n",
            "181/181 [==============================] - 1s 3ms/step - loss: 0.0000e+00 - accuracy: 0.4987 - val_loss: 0.0000e+00 - val_accuracy: 0.5016\n",
            "Epoch 46/100\n",
            "181/181 [==============================] - 1s 3ms/step - loss: 0.0000e+00 - accuracy: 0.5008 - val_loss: 0.0000e+00 - val_accuracy: 0.5015\n",
            "Epoch 47/100\n",
            "181/181 [==============================] - 1s 3ms/step - loss: 0.0000e+00 - accuracy: 0.5013 - val_loss: 0.0000e+00 - val_accuracy: 0.5015\n",
            "Epoch 48/100\n",
            "181/181 [==============================] - 1s 3ms/step - loss: 0.0000e+00 - accuracy: 0.4973 - val_loss: 0.0000e+00 - val_accuracy: 0.5016\n",
            "Epoch 49/100\n",
            "181/181 [==============================] - 1s 3ms/step - loss: 0.0000e+00 - accuracy: 0.4984 - val_loss: 0.0000e+00 - val_accuracy: 0.5012\n",
            "Epoch 50/100\n",
            "181/181 [==============================] - 1s 3ms/step - loss: 0.0000e+00 - accuracy: 0.5024 - val_loss: 0.0000e+00 - val_accuracy: 0.5016\n",
            "Epoch 51/100\n",
            "181/181 [==============================] - 1s 3ms/step - loss: 0.0000e+00 - accuracy: 0.5014 - val_loss: 0.0000e+00 - val_accuracy: 0.5014\n",
            "Epoch 52/100\n",
            "181/181 [==============================] - 1s 4ms/step - loss: 0.0000e+00 - accuracy: 0.4988 - val_loss: 0.0000e+00 - val_accuracy: 0.5015\n",
            "Epoch 53/100\n",
            "181/181 [==============================] - 1s 4ms/step - loss: 0.0000e+00 - accuracy: 0.4976 - val_loss: 0.0000e+00 - val_accuracy: 0.5013\n",
            "Epoch 54/100\n",
            "181/181 [==============================] - 1s 4ms/step - loss: 0.0000e+00 - accuracy: 0.4980 - val_loss: 0.0000e+00 - val_accuracy: 0.5013\n",
            "Epoch 55/100\n",
            "181/181 [==============================] - 1s 3ms/step - loss: 0.0000e+00 - accuracy: 0.4969 - val_loss: 0.0000e+00 - val_accuracy: 0.5016\n",
            "Epoch 56/100\n",
            "181/181 [==============================] - 1s 3ms/step - loss: 0.0000e+00 - accuracy: 0.5003 - val_loss: 0.0000e+00 - val_accuracy: 0.5016\n",
            "Epoch 57/100\n",
            "181/181 [==============================] - 1s 4ms/step - loss: 0.0000e+00 - accuracy: 0.4967 - val_loss: 0.0000e+00 - val_accuracy: 0.5016\n",
            "Epoch 58/100\n",
            "181/181 [==============================] - 1s 4ms/step - loss: 0.0000e+00 - accuracy: 0.4997 - val_loss: 0.0000e+00 - val_accuracy: 0.5014\n",
            "Epoch 59/100\n",
            "181/181 [==============================] - 1s 3ms/step - loss: 0.0000e+00 - accuracy: 0.4975 - val_loss: 0.0000e+00 - val_accuracy: 0.5016\n",
            "Epoch 60/100\n",
            "181/181 [==============================] - 1s 3ms/step - loss: 0.0000e+00 - accuracy: 0.4996 - val_loss: 0.0000e+00 - val_accuracy: 0.5017\n",
            "Epoch 61/100\n",
            "181/181 [==============================] - 1s 3ms/step - loss: 0.0000e+00 - accuracy: 0.5028 - val_loss: 0.0000e+00 - val_accuracy: 0.5017\n",
            "Epoch 62/100\n",
            "181/181 [==============================] - 1s 3ms/step - loss: 0.0000e+00 - accuracy: 0.4985 - val_loss: 0.0000e+00 - val_accuracy: 0.5017\n",
            "Epoch 63/100\n",
            "181/181 [==============================] - 1s 3ms/step - loss: 0.0000e+00 - accuracy: 0.4988 - val_loss: 0.0000e+00 - val_accuracy: 0.5016\n",
            "Epoch 64/100\n",
            "181/181 [==============================] - 1s 3ms/step - loss: 0.0000e+00 - accuracy: 0.4998 - val_loss: 0.0000e+00 - val_accuracy: 0.5015\n",
            "Epoch 65/100\n",
            "181/181 [==============================] - 1s 3ms/step - loss: 0.0000e+00 - accuracy: 0.4971 - val_loss: 0.0000e+00 - val_accuracy: 0.5014\n",
            "Epoch 66/100\n",
            "181/181 [==============================] - 1s 3ms/step - loss: 0.0000e+00 - accuracy: 0.4992 - val_loss: 0.0000e+00 - val_accuracy: 0.5016\n",
            "Epoch 67/100\n",
            "181/181 [==============================] - 1s 3ms/step - loss: 0.0000e+00 - accuracy: 0.4988 - val_loss: 0.0000e+00 - val_accuracy: 0.5016\n",
            "Epoch 68/100\n",
            "181/181 [==============================] - 1s 3ms/step - loss: 0.0000e+00 - accuracy: 0.4992 - val_loss: 0.0000e+00 - val_accuracy: 0.5016\n",
            "Epoch 69/100\n",
            "181/181 [==============================] - 1s 3ms/step - loss: 0.0000e+00 - accuracy: 0.5013 - val_loss: 0.0000e+00 - val_accuracy: 0.5014\n",
            "Epoch 70/100\n",
            "181/181 [==============================] - 1s 4ms/step - loss: 0.0000e+00 - accuracy: 0.4963 - val_loss: 0.0000e+00 - val_accuracy: 0.5014\n",
            "Epoch 71/100\n",
            "181/181 [==============================] - 1s 3ms/step - loss: 0.0000e+00 - accuracy: 0.4993 - val_loss: 0.0000e+00 - val_accuracy: 0.5014\n",
            "Epoch 72/100\n",
            "181/181 [==============================] - 1s 3ms/step - loss: 0.0000e+00 - accuracy: 0.4994 - val_loss: 0.0000e+00 - val_accuracy: 0.5015\n",
            "Epoch 73/100\n",
            "181/181 [==============================] - 1s 4ms/step - loss: 0.0000e+00 - accuracy: 0.5001 - val_loss: 0.0000e+00 - val_accuracy: 0.5016\n",
            "Epoch 74/100\n",
            "181/181 [==============================] - 1s 3ms/step - loss: 0.0000e+00 - accuracy: 0.4965 - val_loss: 0.0000e+00 - val_accuracy: 0.5015\n",
            "Epoch 75/100\n",
            "181/181 [==============================] - 1s 3ms/step - loss: 0.0000e+00 - accuracy: 0.5025 - val_loss: 0.0000e+00 - val_accuracy: 0.5016\n",
            "Epoch 76/100\n",
            "181/181 [==============================] - 1s 3ms/step - loss: 0.0000e+00 - accuracy: 0.5027 - val_loss: 0.0000e+00 - val_accuracy: 0.5014\n",
            "Epoch 77/100\n",
            "181/181 [==============================] - 1s 3ms/step - loss: 0.0000e+00 - accuracy: 0.4999 - val_loss: 0.0000e+00 - val_accuracy: 0.5016\n",
            "Epoch 78/100\n",
            "181/181 [==============================] - 1s 3ms/step - loss: 0.0000e+00 - accuracy: 0.4995 - val_loss: 0.0000e+00 - val_accuracy: 0.5014\n",
            "Epoch 79/100\n",
            "181/181 [==============================] - 1s 3ms/step - loss: 0.0000e+00 - accuracy: 0.4956 - val_loss: 0.0000e+00 - val_accuracy: 0.5016\n",
            "Epoch 80/100\n",
            "181/181 [==============================] - 1s 3ms/step - loss: 0.0000e+00 - accuracy: 0.4985 - val_loss: 0.0000e+00 - val_accuracy: 0.5016\n",
            "Epoch 81/100\n",
            "181/181 [==============================] - 1s 3ms/step - loss: 0.0000e+00 - accuracy: 0.4989 - val_loss: 0.0000e+00 - val_accuracy: 0.5014\n",
            "Epoch 82/100\n",
            "181/181 [==============================] - 1s 3ms/step - loss: 0.0000e+00 - accuracy: 0.4995 - val_loss: 0.0000e+00 - val_accuracy: 0.5015\n",
            "Epoch 83/100\n",
            "181/181 [==============================] - 1s 4ms/step - loss: 0.0000e+00 - accuracy: 0.5000 - val_loss: 0.0000e+00 - val_accuracy: 0.5017\n",
            "Epoch 84/100\n",
            "181/181 [==============================] - 1s 3ms/step - loss: 0.0000e+00 - accuracy: 0.4988 - val_loss: 0.0000e+00 - val_accuracy: 0.5015\n",
            "Epoch 85/100\n",
            "181/181 [==============================] - 1s 3ms/step - loss: 0.0000e+00 - accuracy: 0.4999 - val_loss: 0.0000e+00 - val_accuracy: 0.5015\n",
            "Epoch 86/100\n",
            "181/181 [==============================] - 1s 3ms/step - loss: 0.0000e+00 - accuracy: 0.4962 - val_loss: 0.0000e+00 - val_accuracy: 0.5016\n",
            "Epoch 87/100\n",
            "181/181 [==============================] - 1s 4ms/step - loss: 0.0000e+00 - accuracy: 0.4978 - val_loss: 0.0000e+00 - val_accuracy: 0.5017\n",
            "Epoch 88/100\n",
            "181/181 [==============================] - 1s 3ms/step - loss: 0.0000e+00 - accuracy: 0.4948 - val_loss: 0.0000e+00 - val_accuracy: 0.5016\n",
            "Epoch 89/100\n",
            "181/181 [==============================] - 1s 3ms/step - loss: 0.0000e+00 - accuracy: 0.5005 - val_loss: 0.0000e+00 - val_accuracy: 0.5016\n",
            "Epoch 90/100\n",
            "181/181 [==============================] - 1s 3ms/step - loss: 0.0000e+00 - accuracy: 0.4980 - val_loss: 0.0000e+00 - val_accuracy: 0.5016\n",
            "Epoch 91/100\n",
            "181/181 [==============================] - 1s 3ms/step - loss: 0.0000e+00 - accuracy: 0.5041 - val_loss: 0.0000e+00 - val_accuracy: 0.5014\n",
            "Epoch 92/100\n",
            "181/181 [==============================] - 1s 3ms/step - loss: 0.0000e+00 - accuracy: 0.4973 - val_loss: 0.0000e+00 - val_accuracy: 0.5015\n",
            "Epoch 93/100\n",
            "181/181 [==============================] - 1s 3ms/step - loss: 0.0000e+00 - accuracy: 0.4996 - val_loss: 0.0000e+00 - val_accuracy: 0.5016\n",
            "Epoch 94/100\n",
            "181/181 [==============================] - 1s 4ms/step - loss: 0.0000e+00 - accuracy: 0.5009 - val_loss: 0.0000e+00 - val_accuracy: 0.5016\n",
            "Epoch 95/100\n",
            "181/181 [==============================] - 1s 3ms/step - loss: 0.0000e+00 - accuracy: 0.4977 - val_loss: 0.0000e+00 - val_accuracy: 0.5017\n",
            "Epoch 96/100\n",
            "181/181 [==============================] - 1s 3ms/step - loss: 0.0000e+00 - accuracy: 0.5021 - val_loss: 0.0000e+00 - val_accuracy: 0.5016\n",
            "Epoch 97/100\n",
            "181/181 [==============================] - 1s 3ms/step - loss: 0.0000e+00 - accuracy: 0.4975 - val_loss: 0.0000e+00 - val_accuracy: 0.5015\n",
            "Epoch 98/100\n",
            "181/181 [==============================] - 1s 3ms/step - loss: 0.0000e+00 - accuracy: 0.5023 - val_loss: 0.0000e+00 - val_accuracy: 0.5015\n",
            "Epoch 99/100\n",
            "181/181 [==============================] - 1s 3ms/step - loss: 0.0000e+00 - accuracy: 0.4976 - val_loss: 0.0000e+00 - val_accuracy: 0.5016\n",
            "Epoch 100/100\n",
            "181/181 [==============================] - 1s 3ms/step - loss: 0.0000e+00 - accuracy: 0.5000 - val_loss: 0.0000e+00 - val_accuracy: 0.5013\n"
          ],
          "name": "stdout"
        }
      ]
    },
    {
      "cell_type": "code",
      "metadata": {
        "id": "9HNGrB--Cqfi"
      },
      "source": [
        "l1=[]\r\n",
        "for i in test['City_Code']:\r\n",
        "  l1.append(int(i.lstrip('C')))\r\n",
        "test['City_Code']=l1"
      ],
      "execution_count": 159,
      "outputs": []
    },
    {
      "cell_type": "code",
      "metadata": {
        "id": "xxnq0vtJMI1G"
      },
      "source": [
        "test['Accomodation_Type']=list(map(lambda x:x.replace('Owned','1'),test['Accomodation_Type']))\r\n",
        "test['Accomodation_Type']=list(map(lambda x:x.replace('Rented','0'),test['Accomodation_Type']))\r\n",
        "test['Accomodation_Type']=list(map(lambda x: int(x),test['Accomodation_Type']))"
      ],
      "execution_count": 160,
      "outputs": []
    },
    {
      "cell_type": "code",
      "metadata": {
        "id": "P-_tbkmnMVzK"
      },
      "source": [
        "test['Reco_Insurance_Type']=list(map(lambda x:x.replace('Individual','1'),test['Reco_Insurance_Type']))\r\n",
        "test['Reco_Insurance_Type']=list(map(lambda x:x.replace('Joint','0'),test['Reco_Insurance_Type']))\r\n",
        "test['Reco_Insurance_Type']=list(map(lambda x: int(x),test['Reco_Insurance_Type']))"
      ],
      "execution_count": 161,
      "outputs": []
    },
    {
      "cell_type": "code",
      "metadata": {
        "id": "8nrR2DdcMiHg"
      },
      "source": [
        "test['Is_Spouse']=list(map(lambda x:x.replace('Yes','1'),test['Is_Spouse']))\r\n",
        "test['Is_Spouse']=list(map(lambda x:x.replace('No','0'),test['Is_Spouse']))\r\n",
        "test['Is_Spouse']=list(map(lambda x: int(x),test['Is_Spouse']))"
      ],
      "execution_count": 162,
      "outputs": []
    },
    {
      "cell_type": "code",
      "metadata": {
        "id": "Y07_DKdR-oLa"
      },
      "source": [
        "l=[]\r\n",
        "for i in test['Holding_Policy_Duration']:\r\n",
        "  if type(i)==float:\r\n",
        "    l.append(i)\r\n",
        "  elif (i=='14+'):\r\n",
        "    l.append(15.0)\r\n",
        "  else:\r\n",
        "     l.append(float(i))\r\n",
        "test['Holding_Policy_Duration']=l"
      ],
      "execution_count": 163,
      "outputs": []
    },
    {
      "cell_type": "code",
      "metadata": {
        "id": "GV2olXIn-6Hz"
      },
      "source": [
        "l6=[]\r\n",
        "for i in test['Health Indicator']:\r\n",
        "  if type(i)==float:\r\n",
        "    l6.append(i)\r\n",
        "  else:\r\n",
        "     l6.append(int(i.lstrip('X')))\r\n",
        "test['Health Indicator']=l6"
      ],
      "execution_count": 164,
      "outputs": []
    },
    {
      "cell_type": "code",
      "metadata": {
        "id": "VUgeaqT1_MRo",
        "colab": {
          "base_uri": "https://localhost:8080/",
          "height": 456
        },
        "outputId": "75770621-c65b-4111-8012-6042e97fc022"
      },
      "source": [
        "test"
      ],
      "execution_count": 165,
      "outputs": [
        {
          "output_type": "execute_result",
          "data": {
            "text/html": [
              "<div>\n",
              "<style scoped>\n",
              "    .dataframe tbody tr th:only-of-type {\n",
              "        vertical-align: middle;\n",
              "    }\n",
              "\n",
              "    .dataframe tbody tr th {\n",
              "        vertical-align: top;\n",
              "    }\n",
              "\n",
              "    .dataframe thead th {\n",
              "        text-align: right;\n",
              "    }\n",
              "</style>\n",
              "<table border=\"1\" class=\"dataframe\">\n",
              "  <thead>\n",
              "    <tr style=\"text-align: right;\">\n",
              "      <th></th>\n",
              "      <th>City_Code</th>\n",
              "      <th>Region_Code</th>\n",
              "      <th>Accomodation_Type</th>\n",
              "      <th>Reco_Insurance_Type</th>\n",
              "      <th>Upper_Age</th>\n",
              "      <th>Lower_Age</th>\n",
              "      <th>Is_Spouse</th>\n",
              "      <th>Health Indicator</th>\n",
              "      <th>Holding_Policy_Duration</th>\n",
              "      <th>Holding_Policy_Type</th>\n",
              "      <th>Reco_Policy_Cat</th>\n",
              "      <th>Reco_Policy_Premium</th>\n",
              "    </tr>\n",
              "  </thead>\n",
              "  <tbody>\n",
              "    <tr>\n",
              "      <th>0</th>\n",
              "      <td>1</td>\n",
              "      <td>156</td>\n",
              "      <td>1</td>\n",
              "      <td>1</td>\n",
              "      <td>30</td>\n",
              "      <td>30</td>\n",
              "      <td>0</td>\n",
              "      <td>NaN</td>\n",
              "      <td>6.0</td>\n",
              "      <td>3.0</td>\n",
              "      <td>5</td>\n",
              "      <td>11934.0</td>\n",
              "    </tr>\n",
              "    <tr>\n",
              "      <th>1</th>\n",
              "      <td>4</td>\n",
              "      <td>7</td>\n",
              "      <td>1</td>\n",
              "      <td>0</td>\n",
              "      <td>69</td>\n",
              "      <td>68</td>\n",
              "      <td>1</td>\n",
              "      <td>1.0</td>\n",
              "      <td>3.0</td>\n",
              "      <td>3.0</td>\n",
              "      <td>18</td>\n",
              "      <td>32204.8</td>\n",
              "    </tr>\n",
              "    <tr>\n",
              "      <th>2</th>\n",
              "      <td>1</td>\n",
              "      <td>564</td>\n",
              "      <td>0</td>\n",
              "      <td>1</td>\n",
              "      <td>28</td>\n",
              "      <td>28</td>\n",
              "      <td>0</td>\n",
              "      <td>3.0</td>\n",
              "      <td>2.0</td>\n",
              "      <td>4.0</td>\n",
              "      <td>17</td>\n",
              "      <td>9240.0</td>\n",
              "    </tr>\n",
              "    <tr>\n",
              "      <th>3</th>\n",
              "      <td>3</td>\n",
              "      <td>1177</td>\n",
              "      <td>0</td>\n",
              "      <td>1</td>\n",
              "      <td>23</td>\n",
              "      <td>23</td>\n",
              "      <td>0</td>\n",
              "      <td>3.0</td>\n",
              "      <td>3.0</td>\n",
              "      <td>3.0</td>\n",
              "      <td>18</td>\n",
              "      <td>9086.0</td>\n",
              "    </tr>\n",
              "    <tr>\n",
              "      <th>4</th>\n",
              "      <td>1</td>\n",
              "      <td>951</td>\n",
              "      <td>1</td>\n",
              "      <td>1</td>\n",
              "      <td>75</td>\n",
              "      <td>75</td>\n",
              "      <td>0</td>\n",
              "      <td>3.0</td>\n",
              "      <td>NaN</td>\n",
              "      <td>NaN</td>\n",
              "      <td>5</td>\n",
              "      <td>22534.0</td>\n",
              "    </tr>\n",
              "    <tr>\n",
              "      <th>...</th>\n",
              "      <td>...</td>\n",
              "      <td>...</td>\n",
              "      <td>...</td>\n",
              "      <td>...</td>\n",
              "      <td>...</td>\n",
              "      <td>...</td>\n",
              "      <td>...</td>\n",
              "      <td>...</td>\n",
              "      <td>...</td>\n",
              "      <td>...</td>\n",
              "      <td>...</td>\n",
              "      <td>...</td>\n",
              "    </tr>\n",
              "    <tr>\n",
              "      <th>21800</th>\n",
              "      <td>3</td>\n",
              "      <td>1044</td>\n",
              "      <td>1</td>\n",
              "      <td>1</td>\n",
              "      <td>45</td>\n",
              "      <td>45</td>\n",
              "      <td>0</td>\n",
              "      <td>1.0</td>\n",
              "      <td>4.0</td>\n",
              "      <td>1.0</td>\n",
              "      <td>18</td>\n",
              "      <td>15884.0</td>\n",
              "    </tr>\n",
              "    <tr>\n",
              "      <th>21801</th>\n",
              "      <td>4</td>\n",
              "      <td>266</td>\n",
              "      <td>1</td>\n",
              "      <td>1</td>\n",
              "      <td>59</td>\n",
              "      <td>59</td>\n",
              "      <td>0</td>\n",
              "      <td>5.0</td>\n",
              "      <td>6.0</td>\n",
              "      <td>3.0</td>\n",
              "      <td>18</td>\n",
              "      <td>21390.0</td>\n",
              "    </tr>\n",
              "    <tr>\n",
              "      <th>21802</th>\n",
              "      <td>12</td>\n",
              "      <td>2470</td>\n",
              "      <td>1</td>\n",
              "      <td>1</td>\n",
              "      <td>74</td>\n",
              "      <td>74</td>\n",
              "      <td>0</td>\n",
              "      <td>3.0</td>\n",
              "      <td>NaN</td>\n",
              "      <td>NaN</td>\n",
              "      <td>1</td>\n",
              "      <td>17836.0</td>\n",
              "    </tr>\n",
              "    <tr>\n",
              "      <th>21803</th>\n",
              "      <td>10</td>\n",
              "      <td>1676</td>\n",
              "      <td>0</td>\n",
              "      <td>1</td>\n",
              "      <td>25</td>\n",
              "      <td>25</td>\n",
              "      <td>0</td>\n",
              "      <td>4.0</td>\n",
              "      <td>3.0</td>\n",
              "      <td>1.0</td>\n",
              "      <td>19</td>\n",
              "      <td>11568.0</td>\n",
              "    </tr>\n",
              "    <tr>\n",
              "      <th>21804</th>\n",
              "      <td>2</td>\n",
              "      <td>3617</td>\n",
              "      <td>1</td>\n",
              "      <td>1</td>\n",
              "      <td>73</td>\n",
              "      <td>73</td>\n",
              "      <td>0</td>\n",
              "      <td>2.0</td>\n",
              "      <td>15.0</td>\n",
              "      <td>2.0</td>\n",
              "      <td>3</td>\n",
              "      <td>23040.0</td>\n",
              "    </tr>\n",
              "  </tbody>\n",
              "</table>\n",
              "<p>21805 rows × 12 columns</p>\n",
              "</div>"
            ],
            "text/plain": [
              "       City_Code  Region_Code  ...  Reco_Policy_Cat  Reco_Policy_Premium\n",
              "0              1          156  ...                5              11934.0\n",
              "1              4            7  ...               18              32204.8\n",
              "2              1          564  ...               17               9240.0\n",
              "3              3         1177  ...               18               9086.0\n",
              "4              1          951  ...                5              22534.0\n",
              "...          ...          ...  ...              ...                  ...\n",
              "21800          3         1044  ...               18              15884.0\n",
              "21801          4          266  ...               18              21390.0\n",
              "21802         12         2470  ...                1              17836.0\n",
              "21803         10         1676  ...               19              11568.0\n",
              "21804          2         3617  ...                3              23040.0\n",
              "\n",
              "[21805 rows x 12 columns]"
            ]
          },
          "metadata": {
            "tags": []
          },
          "execution_count": 165
        }
      ]
    },
    {
      "cell_type": "code",
      "metadata": {
        "colab": {
          "base_uri": "https://localhost:8080/"
        },
        "id": "jI3rUA3yE-4e",
        "outputId": "f23e7c77-1bb2-4ecc-dd11-010fecca0ca7"
      },
      "source": [
        "X_train"
      ],
      "execution_count": 146,
      "outputs": [
        {
          "output_type": "execute_result",
          "data": {
            "text/plain": [
              "array([[-0.71746828,  0.13845603,  0.90575934, ...,  0.07612208,\n",
              "        -0.80127166, -0.41573407],\n",
              "       [-0.90549764, -1.09811405, -1.10404602, ...,  1.52135913,\n",
              "         0.45497457, -0.67373949],\n",
              "       [-0.77868022,  0.36810842,  0.90575934, ...,  0.15671196,\n",
              "         0.2972608 ,  0.05463572],\n",
              "       ...,\n",
              "       [-0.90549764, -0.90876101,  0.90575934, ..., -1.40288481,\n",
              "         1.08582966, -0.20464507],\n",
              "       [-0.05159438,  0.54039629,  0.90575934, ..., -1.24367569,\n",
              "         0.64160231,  0.39966697],\n",
              "       [ 1.37721599, -0.91975174, -1.10404602, ...,  1.52135913,\n",
              "         0.61268834,  0.3253485 ]])"
            ]
          },
          "metadata": {
            "tags": []
          },
          "execution_count": 146
        }
      ]
    },
    {
      "cell_type": "code",
      "metadata": {
        "id": "6igDN9tW_Vgs"
      },
      "source": [
        "hackthon_test_data = knn_imputer.fit_transform(test)"
      ],
      "execution_count": 166,
      "outputs": []
    },
    {
      "cell_type": "code",
      "metadata": {
        "id": "URoHQp3jBa5Z",
        "colab": {
          "base_uri": "https://localhost:8080/"
        },
        "outputId": "63137aa7-9f81-4f7a-df9d-75b011ea38d1"
      },
      "source": [
        "hackthon_test_data"
      ],
      "execution_count": 167,
      "outputs": [
        {
          "output_type": "execute_result",
          "data": {
            "text/plain": [
              "array([[1.00000e+00, 1.56000e+02, 1.00000e+00, ..., 3.00000e+00,\n",
              "        5.00000e+00, 1.19340e+04],\n",
              "       [4.00000e+00, 7.00000e+00, 1.00000e+00, ..., 3.00000e+00,\n",
              "        1.80000e+01, 3.22048e+04],\n",
              "       [1.00000e+00, 5.64000e+02, 0.00000e+00, ..., 4.00000e+00,\n",
              "        1.70000e+01, 9.24000e+03],\n",
              "       ...,\n",
              "       [1.20000e+01, 2.47000e+03, 1.00000e+00, ..., 2.20000e+00,\n",
              "        1.00000e+00, 1.78360e+04],\n",
              "       [1.00000e+01, 1.67600e+03, 0.00000e+00, ..., 1.00000e+00,\n",
              "        1.90000e+01, 1.15680e+04],\n",
              "       [2.00000e+00, 3.61700e+03, 1.00000e+00, ..., 2.00000e+00,\n",
              "        3.00000e+00, 2.30400e+04]])"
            ]
          },
          "metadata": {
            "tags": []
          },
          "execution_count": 167
        }
      ]
    },
    {
      "cell_type": "code",
      "metadata": {
        "id": "4C2ohVox_rIV"
      },
      "source": [
        "df1=pd.DataFrame(hackthon_test_data)"
      ],
      "execution_count": 182,
      "outputs": []
    },
    {
      "cell_type": "code",
      "metadata": {
        "id": "DYpNybZxBMME",
        "colab": {
          "base_uri": "https://localhost:8080/",
          "height": 419
        },
        "outputId": "fed9fac1-5a52-4589-b2bf-99c6893e3381"
      },
      "source": [
        "df1"
      ],
      "execution_count": 169,
      "outputs": [
        {
          "output_type": "execute_result",
          "data": {
            "text/html": [
              "<div>\n",
              "<style scoped>\n",
              "    .dataframe tbody tr th:only-of-type {\n",
              "        vertical-align: middle;\n",
              "    }\n",
              "\n",
              "    .dataframe tbody tr th {\n",
              "        vertical-align: top;\n",
              "    }\n",
              "\n",
              "    .dataframe thead th {\n",
              "        text-align: right;\n",
              "    }\n",
              "</style>\n",
              "<table border=\"1\" class=\"dataframe\">\n",
              "  <thead>\n",
              "    <tr style=\"text-align: right;\">\n",
              "      <th></th>\n",
              "      <th>0</th>\n",
              "      <th>1</th>\n",
              "      <th>2</th>\n",
              "      <th>3</th>\n",
              "      <th>4</th>\n",
              "      <th>5</th>\n",
              "      <th>6</th>\n",
              "      <th>7</th>\n",
              "      <th>8</th>\n",
              "      <th>9</th>\n",
              "      <th>10</th>\n",
              "      <th>11</th>\n",
              "    </tr>\n",
              "  </thead>\n",
              "  <tbody>\n",
              "    <tr>\n",
              "      <th>0</th>\n",
              "      <td>1.0</td>\n",
              "      <td>156.0</td>\n",
              "      <td>1.0</td>\n",
              "      <td>1.0</td>\n",
              "      <td>30.0</td>\n",
              "      <td>30.0</td>\n",
              "      <td>0.0</td>\n",
              "      <td>2.8</td>\n",
              "      <td>6.0</td>\n",
              "      <td>3.0</td>\n",
              "      <td>5.0</td>\n",
              "      <td>11934.0</td>\n",
              "    </tr>\n",
              "    <tr>\n",
              "      <th>1</th>\n",
              "      <td>4.0</td>\n",
              "      <td>7.0</td>\n",
              "      <td>1.0</td>\n",
              "      <td>0.0</td>\n",
              "      <td>69.0</td>\n",
              "      <td>68.0</td>\n",
              "      <td>1.0</td>\n",
              "      <td>1.0</td>\n",
              "      <td>3.0</td>\n",
              "      <td>3.0</td>\n",
              "      <td>18.0</td>\n",
              "      <td>32204.8</td>\n",
              "    </tr>\n",
              "    <tr>\n",
              "      <th>2</th>\n",
              "      <td>1.0</td>\n",
              "      <td>564.0</td>\n",
              "      <td>0.0</td>\n",
              "      <td>1.0</td>\n",
              "      <td>28.0</td>\n",
              "      <td>28.0</td>\n",
              "      <td>0.0</td>\n",
              "      <td>3.0</td>\n",
              "      <td>2.0</td>\n",
              "      <td>4.0</td>\n",
              "      <td>17.0</td>\n",
              "      <td>9240.0</td>\n",
              "    </tr>\n",
              "    <tr>\n",
              "      <th>3</th>\n",
              "      <td>3.0</td>\n",
              "      <td>1177.0</td>\n",
              "      <td>0.0</td>\n",
              "      <td>1.0</td>\n",
              "      <td>23.0</td>\n",
              "      <td>23.0</td>\n",
              "      <td>0.0</td>\n",
              "      <td>3.0</td>\n",
              "      <td>3.0</td>\n",
              "      <td>3.0</td>\n",
              "      <td>18.0</td>\n",
              "      <td>9086.0</td>\n",
              "    </tr>\n",
              "    <tr>\n",
              "      <th>4</th>\n",
              "      <td>1.0</td>\n",
              "      <td>951.0</td>\n",
              "      <td>1.0</td>\n",
              "      <td>1.0</td>\n",
              "      <td>75.0</td>\n",
              "      <td>75.0</td>\n",
              "      <td>0.0</td>\n",
              "      <td>3.0</td>\n",
              "      <td>9.4</td>\n",
              "      <td>3.0</td>\n",
              "      <td>5.0</td>\n",
              "      <td>22534.0</td>\n",
              "    </tr>\n",
              "    <tr>\n",
              "      <th>...</th>\n",
              "      <td>...</td>\n",
              "      <td>...</td>\n",
              "      <td>...</td>\n",
              "      <td>...</td>\n",
              "      <td>...</td>\n",
              "      <td>...</td>\n",
              "      <td>...</td>\n",
              "      <td>...</td>\n",
              "      <td>...</td>\n",
              "      <td>...</td>\n",
              "      <td>...</td>\n",
              "      <td>...</td>\n",
              "    </tr>\n",
              "    <tr>\n",
              "      <th>21800</th>\n",
              "      <td>3.0</td>\n",
              "      <td>1044.0</td>\n",
              "      <td>1.0</td>\n",
              "      <td>1.0</td>\n",
              "      <td>45.0</td>\n",
              "      <td>45.0</td>\n",
              "      <td>0.0</td>\n",
              "      <td>1.0</td>\n",
              "      <td>4.0</td>\n",
              "      <td>1.0</td>\n",
              "      <td>18.0</td>\n",
              "      <td>15884.0</td>\n",
              "    </tr>\n",
              "    <tr>\n",
              "      <th>21801</th>\n",
              "      <td>4.0</td>\n",
              "      <td>266.0</td>\n",
              "      <td>1.0</td>\n",
              "      <td>1.0</td>\n",
              "      <td>59.0</td>\n",
              "      <td>59.0</td>\n",
              "      <td>0.0</td>\n",
              "      <td>5.0</td>\n",
              "      <td>6.0</td>\n",
              "      <td>3.0</td>\n",
              "      <td>18.0</td>\n",
              "      <td>21390.0</td>\n",
              "    </tr>\n",
              "    <tr>\n",
              "      <th>21802</th>\n",
              "      <td>12.0</td>\n",
              "      <td>2470.0</td>\n",
              "      <td>1.0</td>\n",
              "      <td>1.0</td>\n",
              "      <td>74.0</td>\n",
              "      <td>74.0</td>\n",
              "      <td>0.0</td>\n",
              "      <td>3.0</td>\n",
              "      <td>10.4</td>\n",
              "      <td>2.2</td>\n",
              "      <td>1.0</td>\n",
              "      <td>17836.0</td>\n",
              "    </tr>\n",
              "    <tr>\n",
              "      <th>21803</th>\n",
              "      <td>10.0</td>\n",
              "      <td>1676.0</td>\n",
              "      <td>0.0</td>\n",
              "      <td>1.0</td>\n",
              "      <td>25.0</td>\n",
              "      <td>25.0</td>\n",
              "      <td>0.0</td>\n",
              "      <td>4.0</td>\n",
              "      <td>3.0</td>\n",
              "      <td>1.0</td>\n",
              "      <td>19.0</td>\n",
              "      <td>11568.0</td>\n",
              "    </tr>\n",
              "    <tr>\n",
              "      <th>21804</th>\n",
              "      <td>2.0</td>\n",
              "      <td>3617.0</td>\n",
              "      <td>1.0</td>\n",
              "      <td>1.0</td>\n",
              "      <td>73.0</td>\n",
              "      <td>73.0</td>\n",
              "      <td>0.0</td>\n",
              "      <td>2.0</td>\n",
              "      <td>15.0</td>\n",
              "      <td>2.0</td>\n",
              "      <td>3.0</td>\n",
              "      <td>23040.0</td>\n",
              "    </tr>\n",
              "  </tbody>\n",
              "</table>\n",
              "<p>21805 rows × 12 columns</p>\n",
              "</div>"
            ],
            "text/plain": [
              "         0       1    2    3     4     5    6    7     8    9     10       11\n",
              "0       1.0   156.0  1.0  1.0  30.0  30.0  0.0  2.8   6.0  3.0   5.0  11934.0\n",
              "1       4.0     7.0  1.0  0.0  69.0  68.0  1.0  1.0   3.0  3.0  18.0  32204.8\n",
              "2       1.0   564.0  0.0  1.0  28.0  28.0  0.0  3.0   2.0  4.0  17.0   9240.0\n",
              "3       3.0  1177.0  0.0  1.0  23.0  23.0  0.0  3.0   3.0  3.0  18.0   9086.0\n",
              "4       1.0   951.0  1.0  1.0  75.0  75.0  0.0  3.0   9.4  3.0   5.0  22534.0\n",
              "...     ...     ...  ...  ...   ...   ...  ...  ...   ...  ...   ...      ...\n",
              "21800   3.0  1044.0  1.0  1.0  45.0  45.0  0.0  1.0   4.0  1.0  18.0  15884.0\n",
              "21801   4.0   266.0  1.0  1.0  59.0  59.0  0.0  5.0   6.0  3.0  18.0  21390.0\n",
              "21802  12.0  2470.0  1.0  1.0  74.0  74.0  0.0  3.0  10.4  2.2   1.0  17836.0\n",
              "21803  10.0  1676.0  0.0  1.0  25.0  25.0  0.0  4.0   3.0  1.0  19.0  11568.0\n",
              "21804   2.0  3617.0  1.0  1.0  73.0  73.0  0.0  2.0  15.0  2.0   3.0  23040.0\n",
              "\n",
              "[21805 rows x 12 columns]"
            ]
          },
          "metadata": {
            "tags": []
          },
          "execution_count": 169
        }
      ]
    },
    {
      "cell_type": "code",
      "metadata": {
        "id": "WJxV9LZzCM0t"
      },
      "source": [
        "sub_df=pd.read_csv('/content/drive/MyDrive/batch45/sample_submission_QrCyCoT.csv')"
      ],
      "execution_count": 173,
      "outputs": []
    },
    {
      "cell_type": "code",
      "metadata": {
        "id": "MaKJcjkwO0jy",
        "colab": {
          "base_uri": "https://localhost:8080/",
          "height": 419
        },
        "outputId": "f49dedd9-be65-4821-be24-d78c3b657665"
      },
      "source": [
        "sub_df"
      ],
      "execution_count": 179,
      "outputs": [
        {
          "output_type": "execute_result",
          "data": {
            "text/html": [
              "<div>\n",
              "<style scoped>\n",
              "    .dataframe tbody tr th:only-of-type {\n",
              "        vertical-align: middle;\n",
              "    }\n",
              "\n",
              "    .dataframe tbody tr th {\n",
              "        vertical-align: top;\n",
              "    }\n",
              "\n",
              "    .dataframe thead th {\n",
              "        text-align: right;\n",
              "    }\n",
              "</style>\n",
              "<table border=\"1\" class=\"dataframe\">\n",
              "  <thead>\n",
              "    <tr style=\"text-align: right;\">\n",
              "      <th></th>\n",
              "      <th>ID</th>\n",
              "      <th>Response</th>\n",
              "    </tr>\n",
              "  </thead>\n",
              "  <tbody>\n",
              "    <tr>\n",
              "      <th>0</th>\n",
              "      <td>50883</td>\n",
              "      <td>0</td>\n",
              "    </tr>\n",
              "    <tr>\n",
              "      <th>1</th>\n",
              "      <td>50884</td>\n",
              "      <td>0</td>\n",
              "    </tr>\n",
              "    <tr>\n",
              "      <th>2</th>\n",
              "      <td>50885</td>\n",
              "      <td>0</td>\n",
              "    </tr>\n",
              "    <tr>\n",
              "      <th>3</th>\n",
              "      <td>50886</td>\n",
              "      <td>0</td>\n",
              "    </tr>\n",
              "    <tr>\n",
              "      <th>4</th>\n",
              "      <td>50887</td>\n",
              "      <td>0</td>\n",
              "    </tr>\n",
              "    <tr>\n",
              "      <th>...</th>\n",
              "      <td>...</td>\n",
              "      <td>...</td>\n",
              "    </tr>\n",
              "    <tr>\n",
              "      <th>21800</th>\n",
              "      <td>72683</td>\n",
              "      <td>0</td>\n",
              "    </tr>\n",
              "    <tr>\n",
              "      <th>21801</th>\n",
              "      <td>72684</td>\n",
              "      <td>0</td>\n",
              "    </tr>\n",
              "    <tr>\n",
              "      <th>21802</th>\n",
              "      <td>72685</td>\n",
              "      <td>0</td>\n",
              "    </tr>\n",
              "    <tr>\n",
              "      <th>21803</th>\n",
              "      <td>72686</td>\n",
              "      <td>0</td>\n",
              "    </tr>\n",
              "    <tr>\n",
              "      <th>21804</th>\n",
              "      <td>72687</td>\n",
              "      <td>0</td>\n",
              "    </tr>\n",
              "  </tbody>\n",
              "</table>\n",
              "<p>21805 rows × 2 columns</p>\n",
              "</div>"
            ],
            "text/plain": [
              "          ID  Response\n",
              "0      50883         0\n",
              "1      50884         0\n",
              "2      50885         0\n",
              "3      50886         0\n",
              "4      50887         0\n",
              "...      ...       ...\n",
              "21800  72683         0\n",
              "21801  72684         0\n",
              "21802  72685         0\n",
              "21803  72686         0\n",
              "21804  72687         0\n",
              "\n",
              "[21805 rows x 2 columns]"
            ]
          },
          "metadata": {
            "tags": []
          },
          "execution_count": 179
        }
      ]
    },
    {
      "cell_type": "code",
      "metadata": {
        "id": "C8nIsM9NCZ9x"
      },
      "source": [
        "sub_df['Response']=pred"
      ],
      "execution_count": null,
      "outputs": []
    },
    {
      "cell_type": "code",
      "metadata": {
        "id": "R4T81CDmK9pI"
      },
      "source": [
        "df2=df1"
      ],
      "execution_count": 175,
      "outputs": []
    },
    {
      "cell_type": "code",
      "metadata": {
        "id": "lZp7QOSBWiog"
      },
      "source": [
        "df2=df2.insert(0,'ID',id_list)\r\n"
      ],
      "execution_count": 176,
      "outputs": []
    },
    {
      "cell_type": "code",
      "metadata": {
        "colab": {
          "base_uri": "https://localhost:8080/",
          "height": 419
        },
        "id": "2Qsjkz1eWkjJ",
        "outputId": "3cbce0d6-d02b-4d27-a54a-fde27e89a538"
      },
      "source": [
        "df1"
      ],
      "execution_count": 178,
      "outputs": [
        {
          "output_type": "execute_result",
          "data": {
            "text/html": [
              "<div>\n",
              "<style scoped>\n",
              "    .dataframe tbody tr th:only-of-type {\n",
              "        vertical-align: middle;\n",
              "    }\n",
              "\n",
              "    .dataframe tbody tr th {\n",
              "        vertical-align: top;\n",
              "    }\n",
              "\n",
              "    .dataframe thead th {\n",
              "        text-align: right;\n",
              "    }\n",
              "</style>\n",
              "<table border=\"1\" class=\"dataframe\">\n",
              "  <thead>\n",
              "    <tr style=\"text-align: right;\">\n",
              "      <th></th>\n",
              "      <th>ID</th>\n",
              "      <th>0</th>\n",
              "      <th>1</th>\n",
              "      <th>2</th>\n",
              "      <th>3</th>\n",
              "      <th>4</th>\n",
              "      <th>5</th>\n",
              "      <th>6</th>\n",
              "      <th>7</th>\n",
              "      <th>8</th>\n",
              "      <th>9</th>\n",
              "      <th>10</th>\n",
              "      <th>11</th>\n",
              "    </tr>\n",
              "  </thead>\n",
              "  <tbody>\n",
              "    <tr>\n",
              "      <th>0</th>\n",
              "      <td>50883</td>\n",
              "      <td>1.0</td>\n",
              "      <td>156.0</td>\n",
              "      <td>1.0</td>\n",
              "      <td>1.0</td>\n",
              "      <td>30.0</td>\n",
              "      <td>30.0</td>\n",
              "      <td>0.0</td>\n",
              "      <td>2.8</td>\n",
              "      <td>6.0</td>\n",
              "      <td>3.0</td>\n",
              "      <td>5.0</td>\n",
              "      <td>11934.0</td>\n",
              "    </tr>\n",
              "    <tr>\n",
              "      <th>1</th>\n",
              "      <td>50884</td>\n",
              "      <td>4.0</td>\n",
              "      <td>7.0</td>\n",
              "      <td>1.0</td>\n",
              "      <td>0.0</td>\n",
              "      <td>69.0</td>\n",
              "      <td>68.0</td>\n",
              "      <td>1.0</td>\n",
              "      <td>1.0</td>\n",
              "      <td>3.0</td>\n",
              "      <td>3.0</td>\n",
              "      <td>18.0</td>\n",
              "      <td>32204.8</td>\n",
              "    </tr>\n",
              "    <tr>\n",
              "      <th>2</th>\n",
              "      <td>50885</td>\n",
              "      <td>1.0</td>\n",
              "      <td>564.0</td>\n",
              "      <td>0.0</td>\n",
              "      <td>1.0</td>\n",
              "      <td>28.0</td>\n",
              "      <td>28.0</td>\n",
              "      <td>0.0</td>\n",
              "      <td>3.0</td>\n",
              "      <td>2.0</td>\n",
              "      <td>4.0</td>\n",
              "      <td>17.0</td>\n",
              "      <td>9240.0</td>\n",
              "    </tr>\n",
              "    <tr>\n",
              "      <th>3</th>\n",
              "      <td>50886</td>\n",
              "      <td>3.0</td>\n",
              "      <td>1177.0</td>\n",
              "      <td>0.0</td>\n",
              "      <td>1.0</td>\n",
              "      <td>23.0</td>\n",
              "      <td>23.0</td>\n",
              "      <td>0.0</td>\n",
              "      <td>3.0</td>\n",
              "      <td>3.0</td>\n",
              "      <td>3.0</td>\n",
              "      <td>18.0</td>\n",
              "      <td>9086.0</td>\n",
              "    </tr>\n",
              "    <tr>\n",
              "      <th>4</th>\n",
              "      <td>50887</td>\n",
              "      <td>1.0</td>\n",
              "      <td>951.0</td>\n",
              "      <td>1.0</td>\n",
              "      <td>1.0</td>\n",
              "      <td>75.0</td>\n",
              "      <td>75.0</td>\n",
              "      <td>0.0</td>\n",
              "      <td>3.0</td>\n",
              "      <td>9.4</td>\n",
              "      <td>3.0</td>\n",
              "      <td>5.0</td>\n",
              "      <td>22534.0</td>\n",
              "    </tr>\n",
              "    <tr>\n",
              "      <th>...</th>\n",
              "      <td>...</td>\n",
              "      <td>...</td>\n",
              "      <td>...</td>\n",
              "      <td>...</td>\n",
              "      <td>...</td>\n",
              "      <td>...</td>\n",
              "      <td>...</td>\n",
              "      <td>...</td>\n",
              "      <td>...</td>\n",
              "      <td>...</td>\n",
              "      <td>...</td>\n",
              "      <td>...</td>\n",
              "      <td>...</td>\n",
              "    </tr>\n",
              "    <tr>\n",
              "      <th>21800</th>\n",
              "      <td>72683</td>\n",
              "      <td>3.0</td>\n",
              "      <td>1044.0</td>\n",
              "      <td>1.0</td>\n",
              "      <td>1.0</td>\n",
              "      <td>45.0</td>\n",
              "      <td>45.0</td>\n",
              "      <td>0.0</td>\n",
              "      <td>1.0</td>\n",
              "      <td>4.0</td>\n",
              "      <td>1.0</td>\n",
              "      <td>18.0</td>\n",
              "      <td>15884.0</td>\n",
              "    </tr>\n",
              "    <tr>\n",
              "      <th>21801</th>\n",
              "      <td>72684</td>\n",
              "      <td>4.0</td>\n",
              "      <td>266.0</td>\n",
              "      <td>1.0</td>\n",
              "      <td>1.0</td>\n",
              "      <td>59.0</td>\n",
              "      <td>59.0</td>\n",
              "      <td>0.0</td>\n",
              "      <td>5.0</td>\n",
              "      <td>6.0</td>\n",
              "      <td>3.0</td>\n",
              "      <td>18.0</td>\n",
              "      <td>21390.0</td>\n",
              "    </tr>\n",
              "    <tr>\n",
              "      <th>21802</th>\n",
              "      <td>72685</td>\n",
              "      <td>12.0</td>\n",
              "      <td>2470.0</td>\n",
              "      <td>1.0</td>\n",
              "      <td>1.0</td>\n",
              "      <td>74.0</td>\n",
              "      <td>74.0</td>\n",
              "      <td>0.0</td>\n",
              "      <td>3.0</td>\n",
              "      <td>10.4</td>\n",
              "      <td>2.2</td>\n",
              "      <td>1.0</td>\n",
              "      <td>17836.0</td>\n",
              "    </tr>\n",
              "    <tr>\n",
              "      <th>21803</th>\n",
              "      <td>72686</td>\n",
              "      <td>10.0</td>\n",
              "      <td>1676.0</td>\n",
              "      <td>0.0</td>\n",
              "      <td>1.0</td>\n",
              "      <td>25.0</td>\n",
              "      <td>25.0</td>\n",
              "      <td>0.0</td>\n",
              "      <td>4.0</td>\n",
              "      <td>3.0</td>\n",
              "      <td>1.0</td>\n",
              "      <td>19.0</td>\n",
              "      <td>11568.0</td>\n",
              "    </tr>\n",
              "    <tr>\n",
              "      <th>21804</th>\n",
              "      <td>72687</td>\n",
              "      <td>2.0</td>\n",
              "      <td>3617.0</td>\n",
              "      <td>1.0</td>\n",
              "      <td>1.0</td>\n",
              "      <td>73.0</td>\n",
              "      <td>73.0</td>\n",
              "      <td>0.0</td>\n",
              "      <td>2.0</td>\n",
              "      <td>15.0</td>\n",
              "      <td>2.0</td>\n",
              "      <td>3.0</td>\n",
              "      <td>23040.0</td>\n",
              "    </tr>\n",
              "  </tbody>\n",
              "</table>\n",
              "<p>21805 rows × 13 columns</p>\n",
              "</div>"
            ],
            "text/plain": [
              "          ID     0       1    2    3     4  ...    6    7     8    9    10       11\n",
              "0      50883   1.0   156.0  1.0  1.0  30.0  ...  0.0  2.8   6.0  3.0   5.0  11934.0\n",
              "1      50884   4.0     7.0  1.0  0.0  69.0  ...  1.0  1.0   3.0  3.0  18.0  32204.8\n",
              "2      50885   1.0   564.0  0.0  1.0  28.0  ...  0.0  3.0   2.0  4.0  17.0   9240.0\n",
              "3      50886   3.0  1177.0  0.0  1.0  23.0  ...  0.0  3.0   3.0  3.0  18.0   9086.0\n",
              "4      50887   1.0   951.0  1.0  1.0  75.0  ...  0.0  3.0   9.4  3.0   5.0  22534.0\n",
              "...      ...   ...     ...  ...  ...   ...  ...  ...  ...   ...  ...   ...      ...\n",
              "21800  72683   3.0  1044.0  1.0  1.0  45.0  ...  0.0  1.0   4.0  1.0  18.0  15884.0\n",
              "21801  72684   4.0   266.0  1.0  1.0  59.0  ...  0.0  5.0   6.0  3.0  18.0  21390.0\n",
              "21802  72685  12.0  2470.0  1.0  1.0  74.0  ...  0.0  3.0  10.4  2.2   1.0  17836.0\n",
              "21803  72686  10.0  1676.0  0.0  1.0  25.0  ...  0.0  4.0   3.0  1.0  19.0  11568.0\n",
              "21804  72687   2.0  3617.0  1.0  1.0  73.0  ...  0.0  2.0  15.0  2.0   3.0  23040.0\n",
              "\n",
              "[21805 rows x 13 columns]"
            ]
          },
          "metadata": {
            "tags": []
          },
          "execution_count": 178
        }
      ]
    },
    {
      "cell_type": "code",
      "metadata": {
        "colab": {
          "base_uri": "https://localhost:8080/",
          "height": 323
        },
        "id": "1N35zGfiYhYw",
        "outputId": "43274451-9d4a-4fb7-adcd-1299a9c5aced"
      },
      "source": [
        "k=sub_df['Response']\r\n",
        "y_pred=xgboost12.predict(df1,k)"
      ],
      "execution_count": 184,
      "outputs": [
        {
          "output_type": "error",
          "ename": "ValueError",
          "evalue": "ignored",
          "traceback": [
            "\u001b[0;31m---------------------------------------------------------------------------\u001b[0m",
            "\u001b[0;31mValueError\u001b[0m                                Traceback (most recent call last)",
            "\u001b[0;32m<ipython-input-184-3f1f493ccb26>\u001b[0m in \u001b[0;36m<module>\u001b[0;34m()\u001b[0m\n\u001b[1;32m      1\u001b[0m \u001b[0mk\u001b[0m\u001b[0;34m=\u001b[0m\u001b[0msub_df\u001b[0m\u001b[0;34m[\u001b[0m\u001b[0;34m'Response'\u001b[0m\u001b[0;34m]\u001b[0m\u001b[0;34m\u001b[0m\u001b[0;34m\u001b[0m\u001b[0m\n\u001b[0;32m----> 2\u001b[0;31m \u001b[0my_pred\u001b[0m\u001b[0;34m=\u001b[0m\u001b[0mxgboost12\u001b[0m\u001b[0;34m.\u001b[0m\u001b[0mpredict\u001b[0m\u001b[0;34m(\u001b[0m\u001b[0mdf1\u001b[0m\u001b[0;34m,\u001b[0m\u001b[0mk\u001b[0m\u001b[0;34m)\u001b[0m\u001b[0;34m\u001b[0m\u001b[0;34m\u001b[0m\u001b[0m\n\u001b[0m",
            "\u001b[0;32m/usr/local/lib/python3.7/dist-packages/xgboost/sklearn.py\u001b[0m in \u001b[0;36mpredict\u001b[0;34m(self, data, output_margin, ntree_limit, validate_features)\u001b[0m\n\u001b[1;32m    789\u001b[0m                                                  \u001b[0moutput_margin\u001b[0m\u001b[0;34m=\u001b[0m\u001b[0moutput_margin\u001b[0m\u001b[0;34m,\u001b[0m\u001b[0;34m\u001b[0m\u001b[0;34m\u001b[0m\u001b[0m\n\u001b[1;32m    790\u001b[0m                                                  \u001b[0mntree_limit\u001b[0m\u001b[0;34m=\u001b[0m\u001b[0mntree_limit\u001b[0m\u001b[0;34m,\u001b[0m\u001b[0;34m\u001b[0m\u001b[0;34m\u001b[0m\u001b[0m\n\u001b[0;32m--> 791\u001b[0;31m                                                  validate_features=validate_features)\n\u001b[0m\u001b[1;32m    792\u001b[0m         \u001b[0;32mif\u001b[0m \u001b[0moutput_margin\u001b[0m\u001b[0;34m:\u001b[0m\u001b[0;34m\u001b[0m\u001b[0;34m\u001b[0m\u001b[0m\n\u001b[1;32m    793\u001b[0m             \u001b[0;31m# If output_margin is active, simply return the scores\u001b[0m\u001b[0;34m\u001b[0m\u001b[0;34m\u001b[0m\u001b[0;34m\u001b[0m\u001b[0m\n",
            "\u001b[0;32m/usr/local/lib/python3.7/dist-packages/xgboost/core.py\u001b[0m in \u001b[0;36mpredict\u001b[0;34m(self, data, output_margin, ntree_limit, pred_leaf, pred_contribs, approx_contribs, pred_interactions, validate_features)\u001b[0m\n\u001b[1;32m   1270\u001b[0m         \"\"\"\n\u001b[1;32m   1271\u001b[0m         \u001b[0moption_mask\u001b[0m \u001b[0;34m=\u001b[0m \u001b[0;36m0x00\u001b[0m\u001b[0;34m\u001b[0m\u001b[0;34m\u001b[0m\u001b[0m\n\u001b[0;32m-> 1272\u001b[0;31m         \u001b[0;32mif\u001b[0m \u001b[0moutput_margin\u001b[0m\u001b[0;34m:\u001b[0m\u001b[0;34m\u001b[0m\u001b[0;34m\u001b[0m\u001b[0m\n\u001b[0m\u001b[1;32m   1273\u001b[0m             \u001b[0moption_mask\u001b[0m \u001b[0;34m|=\u001b[0m \u001b[0;36m0x01\u001b[0m\u001b[0;34m\u001b[0m\u001b[0;34m\u001b[0m\u001b[0m\n\u001b[1;32m   1274\u001b[0m         \u001b[0;32mif\u001b[0m \u001b[0mpred_leaf\u001b[0m\u001b[0;34m:\u001b[0m\u001b[0;34m\u001b[0m\u001b[0;34m\u001b[0m\u001b[0m\n",
            "\u001b[0;32m/usr/local/lib/python3.7/dist-packages/pandas/core/generic.py\u001b[0m in \u001b[0;36m__nonzero__\u001b[0;34m(self)\u001b[0m\n\u001b[1;32m   1328\u001b[0m     \u001b[0;32mdef\u001b[0m \u001b[0m__nonzero__\u001b[0m\u001b[0;34m(\u001b[0m\u001b[0mself\u001b[0m\u001b[0;34m)\u001b[0m\u001b[0;34m:\u001b[0m\u001b[0;34m\u001b[0m\u001b[0;34m\u001b[0m\u001b[0m\n\u001b[1;32m   1329\u001b[0m         raise ValueError(\n\u001b[0;32m-> 1330\u001b[0;31m             \u001b[0;34mf\"The truth value of a {type(self).__name__} is ambiguous. \"\u001b[0m\u001b[0;34m\u001b[0m\u001b[0;34m\u001b[0m\u001b[0m\n\u001b[0m\u001b[1;32m   1331\u001b[0m             \u001b[0;34m\"Use a.empty, a.bool(), a.item(), a.any() or a.all().\"\u001b[0m\u001b[0;34m\u001b[0m\u001b[0;34m\u001b[0m\u001b[0m\n\u001b[1;32m   1332\u001b[0m         )\n",
            "\u001b[0;31mValueError\u001b[0m: The truth value of a Series is ambiguous. Use a.empty, a.bool(), a.item(), a.any() or a.all()."
          ]
        }
      ]
    },
    {
      "cell_type": "code",
      "metadata": {
        "colab": {
          "base_uri": "https://localhost:8080/"
        },
        "id": "wHBc94kZcjvv",
        "outputId": "b827cf2f-318c-4cca-883e-c913568b97ed"
      },
      "source": [
        "sub_df.info()"
      ],
      "execution_count": 181,
      "outputs": [
        {
          "output_type": "stream",
          "text": [
            "<class 'pandas.core.frame.DataFrame'>\n",
            "RangeIndex: 21805 entries, 0 to 21804\n",
            "Data columns (total 2 columns):\n",
            " #   Column    Non-Null Count  Dtype\n",
            "---  ------    --------------  -----\n",
            " 0   ID        21805 non-null  int64\n",
            " 1   Response  21805 non-null  int64\n",
            "dtypes: int64(2)\n",
            "memory usage: 340.8 KB\n"
          ],
          "name": "stdout"
        }
      ]
    },
    {
      "cell_type": "code",
      "metadata": {
        "id": "d-kNacIhcruz"
      },
      "source": [
        ""
      ],
      "execution_count": null,
      "outputs": []
    }
  ]
}