{
  "nbformat": 4,
  "nbformat_minor": 0,
  "metadata": {
    "kernelspec": {
      "display_name": "Python 3",
      "language": "python",
      "name": "python3"
    },
    "language_info": {
      "codemirror_mode": {
        "name": "ipython",
        "version": 3
      },
      "file_extension": ".py",
      "mimetype": "text/x-python",
      "name": "python",
      "nbconvert_exporter": "python",
      "pygments_lexer": "ipython3",
      "version": "3.8.5"
    },
    "colab": {
      "name": "day_10.ipynb",
      "provenance": [],
      "include_colab_link": true
    }
  },
  "cells": [
    {
      "cell_type": "markdown",
      "metadata": {
        "id": "view-in-github",
        "colab_type": "text"
      },
      "source": [
        "<a href=\"https://colab.research.google.com/github/Manikranthi/Innomatics_Internship/blob/main/day_10.ipynb\" target=\"_parent\"><img src=\"https://colab.research.google.com/assets/colab-badge.svg\" alt=\"Open In Colab\"/></a>"
      ]
    },
    {
      "cell_type": "markdown",
      "metadata": {
        "id": "2kxdyg5sxrId"
      },
      "source": [
        "## Importing Data"
      ]
    },
    {
      "cell_type": "code",
      "metadata": {
        "id": "J4KXj1v0xrIy"
      },
      "source": [
        "import pandas as pd\n",
        "import numpy as np\n"
      ],
      "execution_count": null,
      "outputs": []
    },
    {
      "cell_type": "code",
      "metadata": {
        "id": "iz4Ho9kexrI1"
      },
      "source": [
        "df=pd.read_csv('data.csv')"
      ],
      "execution_count": null,
      "outputs": []
    },
    {
      "cell_type": "code",
      "metadata": {
        "collapsed": true,
        "id": "cC-S8ZnaxrI2",
        "outputId": "8fecd8d6-fded-4073-f7f9-81cf10ed9753"
      },
      "source": [
        "df.head(5)"
      ],
      "execution_count": null,
      "outputs": [
        {
          "output_type": "execute_result",
          "data": {
            "text/html": [
              "<div>\n",
              "<style scoped>\n",
              "    .dataframe tbody tr th:only-of-type {\n",
              "        vertical-align: middle;\n",
              "    }\n",
              "\n",
              "    .dataframe tbody tr th {\n",
              "        vertical-align: top;\n",
              "    }\n",
              "\n",
              "    .dataframe thead th {\n",
              "        text-align: right;\n",
              "    }\n",
              "</style>\n",
              "<table border=\"1\" class=\"dataframe\">\n",
              "  <thead>\n",
              "    <tr style=\"text-align: right;\">\n",
              "      <th></th>\n",
              "      <th>Mthly_HH_Income</th>\n",
              "      <th>Mthly_HH_Expense</th>\n",
              "      <th>No_of_Fly_Members</th>\n",
              "      <th>Emi_or_Rent_Amt</th>\n",
              "      <th>Annual_HH_Income</th>\n",
              "      <th>Highest_Qualified_Member</th>\n",
              "      <th>No_of_Earning_Members</th>\n",
              "    </tr>\n",
              "  </thead>\n",
              "  <tbody>\n",
              "    <tr>\n",
              "      <th>0</th>\n",
              "      <td>5000</td>\n",
              "      <td>8000</td>\n",
              "      <td>3</td>\n",
              "      <td>2000</td>\n",
              "      <td>64200</td>\n",
              "      <td>Under-Graduate</td>\n",
              "      <td>1</td>\n",
              "    </tr>\n",
              "    <tr>\n",
              "      <th>1</th>\n",
              "      <td>6000</td>\n",
              "      <td>7000</td>\n",
              "      <td>2</td>\n",
              "      <td>3000</td>\n",
              "      <td>79920</td>\n",
              "      <td>Illiterate</td>\n",
              "      <td>1</td>\n",
              "    </tr>\n",
              "    <tr>\n",
              "      <th>2</th>\n",
              "      <td>10000</td>\n",
              "      <td>4500</td>\n",
              "      <td>2</td>\n",
              "      <td>0</td>\n",
              "      <td>112800</td>\n",
              "      <td>Under-Graduate</td>\n",
              "      <td>1</td>\n",
              "    </tr>\n",
              "    <tr>\n",
              "      <th>3</th>\n",
              "      <td>10000</td>\n",
              "      <td>2000</td>\n",
              "      <td>1</td>\n",
              "      <td>0</td>\n",
              "      <td>97200</td>\n",
              "      <td>Illiterate</td>\n",
              "      <td>1</td>\n",
              "    </tr>\n",
              "    <tr>\n",
              "      <th>4</th>\n",
              "      <td>12500</td>\n",
              "      <td>12000</td>\n",
              "      <td>2</td>\n",
              "      <td>3000</td>\n",
              "      <td>147000</td>\n",
              "      <td>Graduate</td>\n",
              "      <td>1</td>\n",
              "    </tr>\n",
              "  </tbody>\n",
              "</table>\n",
              "</div>"
            ],
            "text/plain": [
              "   Mthly_HH_Income  Mthly_HH_Expense  No_of_Fly_Members  Emi_or_Rent_Amt  \\\n",
              "0             5000              8000                  3             2000   \n",
              "1             6000              7000                  2             3000   \n",
              "2            10000              4500                  2                0   \n",
              "3            10000              2000                  1                0   \n",
              "4            12500             12000                  2             3000   \n",
              "\n",
              "   Annual_HH_Income Highest_Qualified_Member  No_of_Earning_Members  \n",
              "0             64200           Under-Graduate                      1  \n",
              "1             79920               Illiterate                      1  \n",
              "2            112800           Under-Graduate                      1  \n",
              "3             97200               Illiterate                      1  \n",
              "4            147000                 Graduate                      1  "
            ]
          },
          "metadata": {
            "tags": []
          },
          "execution_count": 47
        }
      ]
    },
    {
      "cell_type": "code",
      "metadata": {
        "collapsed": true,
        "id": "m1K-UERTxrI5",
        "outputId": "388c4c31-2a33-48ed-d22e-a65788f3b0e0"
      },
      "source": [
        "df.describe()"
      ],
      "execution_count": null,
      "outputs": [
        {
          "output_type": "execute_result",
          "data": {
            "text/html": [
              "<div>\n",
              "<style scoped>\n",
              "    .dataframe tbody tr th:only-of-type {\n",
              "        vertical-align: middle;\n",
              "    }\n",
              "\n",
              "    .dataframe tbody tr th {\n",
              "        vertical-align: top;\n",
              "    }\n",
              "\n",
              "    .dataframe thead th {\n",
              "        text-align: right;\n",
              "    }\n",
              "</style>\n",
              "<table border=\"1\" class=\"dataframe\">\n",
              "  <thead>\n",
              "    <tr style=\"text-align: right;\">\n",
              "      <th></th>\n",
              "      <th>Mthly_HH_Income</th>\n",
              "      <th>Mthly_HH_Expense</th>\n",
              "      <th>No_of_Fly_Members</th>\n",
              "      <th>Emi_or_Rent_Amt</th>\n",
              "      <th>Annual_HH_Income</th>\n",
              "      <th>No_of_Earning_Members</th>\n",
              "    </tr>\n",
              "  </thead>\n",
              "  <tbody>\n",
              "    <tr>\n",
              "      <th>count</th>\n",
              "      <td>50.000000</td>\n",
              "      <td>50.000000</td>\n",
              "      <td>50.000000</td>\n",
              "      <td>50.000000</td>\n",
              "      <td>5.000000e+01</td>\n",
              "      <td>50.000000</td>\n",
              "    </tr>\n",
              "    <tr>\n",
              "      <th>mean</th>\n",
              "      <td>41558.000000</td>\n",
              "      <td>18818.000000</td>\n",
              "      <td>4.060000</td>\n",
              "      <td>3060.000000</td>\n",
              "      <td>4.900190e+05</td>\n",
              "      <td>1.460000</td>\n",
              "    </tr>\n",
              "    <tr>\n",
              "      <th>std</th>\n",
              "      <td>26097.908979</td>\n",
              "      <td>12090.216824</td>\n",
              "      <td>1.517382</td>\n",
              "      <td>6241.434948</td>\n",
              "      <td>3.201358e+05</td>\n",
              "      <td>0.734291</td>\n",
              "    </tr>\n",
              "    <tr>\n",
              "      <th>min</th>\n",
              "      <td>5000.000000</td>\n",
              "      <td>2000.000000</td>\n",
              "      <td>1.000000</td>\n",
              "      <td>0.000000</td>\n",
              "      <td>6.420000e+04</td>\n",
              "      <td>1.000000</td>\n",
              "    </tr>\n",
              "    <tr>\n",
              "      <th>25%</th>\n",
              "      <td>23550.000000</td>\n",
              "      <td>10000.000000</td>\n",
              "      <td>3.000000</td>\n",
              "      <td>0.000000</td>\n",
              "      <td>2.587500e+05</td>\n",
              "      <td>1.000000</td>\n",
              "    </tr>\n",
              "    <tr>\n",
              "      <th>50%</th>\n",
              "      <td>35000.000000</td>\n",
              "      <td>15500.000000</td>\n",
              "      <td>4.000000</td>\n",
              "      <td>0.000000</td>\n",
              "      <td>4.474200e+05</td>\n",
              "      <td>1.000000</td>\n",
              "    </tr>\n",
              "    <tr>\n",
              "      <th>75%</th>\n",
              "      <td>50375.000000</td>\n",
              "      <td>25000.000000</td>\n",
              "      <td>5.000000</td>\n",
              "      <td>3500.000000</td>\n",
              "      <td>5.947200e+05</td>\n",
              "      <td>2.000000</td>\n",
              "    </tr>\n",
              "    <tr>\n",
              "      <th>max</th>\n",
              "      <td>100000.000000</td>\n",
              "      <td>50000.000000</td>\n",
              "      <td>7.000000</td>\n",
              "      <td>35000.000000</td>\n",
              "      <td>1.404000e+06</td>\n",
              "      <td>4.000000</td>\n",
              "    </tr>\n",
              "  </tbody>\n",
              "</table>\n",
              "</div>"
            ],
            "text/plain": [
              "       Mthly_HH_Income  Mthly_HH_Expense  No_of_Fly_Members  Emi_or_Rent_Amt  \\\n",
              "count        50.000000         50.000000          50.000000        50.000000   \n",
              "mean      41558.000000      18818.000000           4.060000      3060.000000   \n",
              "std       26097.908979      12090.216824           1.517382      6241.434948   \n",
              "min        5000.000000       2000.000000           1.000000         0.000000   \n",
              "25%       23550.000000      10000.000000           3.000000         0.000000   \n",
              "50%       35000.000000      15500.000000           4.000000         0.000000   \n",
              "75%       50375.000000      25000.000000           5.000000      3500.000000   \n",
              "max      100000.000000      50000.000000           7.000000     35000.000000   \n",
              "\n",
              "       Annual_HH_Income  No_of_Earning_Members  \n",
              "count      5.000000e+01              50.000000  \n",
              "mean       4.900190e+05               1.460000  \n",
              "std        3.201358e+05               0.734291  \n",
              "min        6.420000e+04               1.000000  \n",
              "25%        2.587500e+05               1.000000  \n",
              "50%        4.474200e+05               1.000000  \n",
              "75%        5.947200e+05               2.000000  \n",
              "max        1.404000e+06               4.000000  "
            ]
          },
          "metadata": {
            "tags": []
          },
          "execution_count": 48
        }
      ]
    },
    {
      "cell_type": "markdown",
      "metadata": {
        "id": "olOPBuFgxrI7"
      },
      "source": [
        "# Mean"
      ]
    },
    {
      "cell_type": "markdown",
      "metadata": {
        "id": "F-RVUB5-xrI8"
      },
      "source": [
        "The mean (average) of a data set is found by adding all numbers in the data set and then dividing by the number of values in the set."
      ]
    },
    {
      "cell_type": "markdown",
      "metadata": {
        "id": "BbxtLUUrxrI9"
      },
      "source": [
        "![OIP%5B1%5D.jpg](attachment:OIP%5B1%5D.jpg)"
      ]
    },
    {
      "cell_type": "markdown",
      "metadata": {
        "id": "zpwYMHUexrI9"
      },
      "source": [
        "$$\n",
        "Arithmetic Mean : \\mu = \\frac {\\sum_{i=1}^{n} x_{i}}{n}\n",
        "$$"
      ]
    },
    {
      "cell_type": "code",
      "metadata": {
        "id": "Wrq2YH-OxrI-"
      },
      "source": [
        "numeric_columns=[]\n",
        "for col in df.columns:\n",
        "    if (df[col].dtype !='O'):\n",
        "        numeric_columns.append(col)\n",
        "           "
      ],
      "execution_count": null,
      "outputs": []
    },
    {
      "cell_type": "code",
      "metadata": {
        "id": "nc_gZkxgxrI_"
      },
      "source": [
        "def mean_fun(a):\n",
        "    sum=0\n",
        "    n=0\n",
        "    for j in a:\n",
        "        sum=sum+j\n",
        "        n=n+1\n",
        "    return (sum/n)   "
      ],
      "execution_count": null,
      "outputs": []
    },
    {
      "cell_type": "code",
      "metadata": {
        "collapsed": true,
        "id": "J3qd7dcbxrJA",
        "outputId": "a0121a81-394c-4b06-dd27-1003a401a3b8"
      },
      "source": [
        "for i in numeric_columns:    \n",
        "    print( i +\"mean is \",mean_fun(df[i]))"
      ],
      "execution_count": null,
      "outputs": [
        {
          "output_type": "stream",
          "text": [
            "Mthly_HH_Incomemean is  41558.0\n",
            "Mthly_HH_Expensemean is  18818.0\n",
            "No_of_Fly_Membersmean is  4.06\n",
            "Emi_or_Rent_Amtmean is  3060.0\n",
            "Annual_HH_Incomemean is  490019.04\n",
            "No_of_Earning_Membersmean is  1.46\n"
          ],
          "name": "stdout"
        }
      ]
    },
    {
      "cell_type": "markdown",
      "metadata": {
        "id": "Bxw1wnvSxrJC"
      },
      "source": [
        "# Mode"
      ]
    },
    {
      "cell_type": "markdown",
      "metadata": {
        "id": "6hurmaPlxrJD"
      },
      "source": [
        "The mode is the value that appears most often in a set of data values"
      ]
    },
    {
      "cell_type": "markdown",
      "metadata": {
        "id": "KqpSZOhLxrJE"
      },
      "source": [
        "![mode.jpg](attachment:mode.jpg)"
      ]
    },
    {
      "cell_type": "code",
      "metadata": {
        "id": "WnQHYDFOxrJF",
        "outputId": "93abd7b1-d2ea-412f-8554-8c533a2f78a8"
      },
      "source": [
        "for col in numeric_columns:\n",
        "    key=dict(df[col].value_counts())\n",
        "    print(col+\"  Mode  is\",list(key.keys())[0])\n",
        "    "
      ],
      "execution_count": null,
      "outputs": [
        {
          "output_type": "stream",
          "text": [
            "Mthly_HH_Income  Mode  is 45000\n",
            "Mthly_HH_Expense  Mode  is 25000\n",
            "No_of_Fly_Members  Mode  is 4\n",
            "Emi_or_Rent_Amt  Mode  is 0\n",
            "Annual_HH_Income  Mode  is 590400\n",
            "No_of_Earning_Members  Mode  is 1\n"
          ],
          "name": "stdout"
        }
      ]
    },
    {
      "cell_type": "code",
      "metadata": {
        "id": "lk8_RU4ixrJG"
      },
      "source": [
        "from scipy import stats"
      ],
      "execution_count": null,
      "outputs": []
    },
    {
      "cell_type": "code",
      "metadata": {
        "id": "A0mzCToexrJH",
        "outputId": "d62cbf33-b491-44dc-a653-bc9f4c00f2e6"
      },
      "source": [
        "stats.mode(df['Mthly_HH_Income'])\n"
      ],
      "execution_count": null,
      "outputs": [
        {
          "output_type": "execute_result",
          "data": {
            "text/plain": [
              "ModeResult(mode=array([45000], dtype=int64), count=array([4]))"
            ]
          },
          "metadata": {
            "tags": []
          },
          "execution_count": 8
        }
      ]
    },
    {
      "cell_type": "markdown",
      "metadata": {
        "id": "fvmf5El2xrJI"
      },
      "source": [
        "# Median"
      ]
    },
    {
      "cell_type": "markdown",
      "metadata": {
        "id": "MASao9TQxrJI"
      },
      "source": [
        "The median is the middle value when a data set is ordered from least to greatest."
      ]
    },
    {
      "cell_type": "markdown",
      "metadata": {
        "id": "BvsQnkWOxrJJ"
      },
      "source": [
        "![median.jpg](attachment:median.jpg)"
      ]
    },
    {
      "cell_type": "code",
      "metadata": {
        "id": "U9naLXP8xrJK"
      },
      "source": [
        "def median_fun(a):\n",
        "    if (len(a)%2==0):\n",
        "        s_l=sorted(list(a),reverse=True)\n",
        "        m=(s_l[int(k)-1]+s_l[int(k)])/2\n",
        "        return (m)\n",
        "\n"
      ],
      "execution_count": null,
      "outputs": []
    },
    {
      "cell_type": "code",
      "metadata": {
        "id": "DL4VOFbJxrJK",
        "outputId": "9db9def2-9da5-4634-ecbb-905b2265a33e"
      },
      "source": [
        "for i in numeric_columns:\n",
        "    print (i + \"  Median is \",median_fun(df[i]))"
      ],
      "execution_count": null,
      "outputs": [
        {
          "output_type": "stream",
          "text": [
            "Mthly_HH_Income  Median is  35000.0\n",
            "Mthly_HH_Expense  Median is  15500.0\n",
            "No_of_Fly_Members  Median is  4.0\n",
            "Emi_or_Rent_Amt  Median is  0.0\n",
            "Annual_HH_Income  Median is  447420.0\n",
            "No_of_Earning_Members  Median is  1.0\n"
          ],
          "name": "stdout"
        }
      ]
    },
    {
      "cell_type": "code",
      "metadata": {
        "id": "iKLU6wHwxrJL",
        "outputId": "a2c68cbe-eb6b-4453-c321-ba068abd3664"
      },
      "source": [
        "np.median(df['Mthly_HH_Expense'])"
      ],
      "execution_count": null,
      "outputs": [
        {
          "output_type": "execute_result",
          "data": {
            "text/plain": [
              "15500.0"
            ]
          },
          "metadata": {
            "tags": []
          },
          "execution_count": 120
        }
      ]
    },
    {
      "cell_type": "markdown",
      "metadata": {
        "id": "ny6FpJjZxrJM"
      },
      "source": [
        "# Variance"
      ]
    },
    {
      "cell_type": "markdown",
      "metadata": {
        "id": "jW3ngEAvxrJN"
      },
      "source": [
        " variance measures variability from the average or mean. The average of the squared differences from the Mean."
      ]
    },
    {
      "cell_type": "markdown",
      "metadata": {
        "id": "rp5tjRvGxrJO"
      },
      "source": [
        "$$\n",
        "variance: \\sigma ^2  = \\frac {\\sum_{i=1}^{n} (x_{i}-\\mu)^2}{n}\n",
        "$$"
      ]
    },
    {
      "cell_type": "markdown",
      "metadata": {
        "id": "9EzbawpKxrJO"
      },
      "source": [
        "![var.jpg](attachment:var.jpg)"
      ]
    },
    {
      "cell_type": "code",
      "metadata": {
        "id": "NzliI6VGxrJP"
      },
      "source": [
        "def var_fun(a):\n",
        "    sum=0\n",
        "    b=mean_fun(a)\n",
        "    for j in a:\n",
        "        sum=sum+((j-b)**2)\n",
        "    return ((sum/len(df)))\n",
        "\n",
        "    "
      ],
      "execution_count": null,
      "outputs": []
    },
    {
      "cell_type": "code",
      "metadata": {
        "collapsed": true,
        "id": "YQSDU25XxrJQ",
        "outputId": "f4c83b09-60da-4c5a-e1e4-0996ca46a803"
      },
      "source": [
        "for i in numeric_columns:\n",
        "    print(i+\"  Variance is  \",var_fun(df[i]))"
      ],
      "execution_count": null,
      "outputs": [
        {
          "output_type": "stream",
          "text": [
            "Mthly_HH_Income  Variance is   667478836.0\n",
            "Mthly_HH_Expense  Variance is   143249876.0\n",
            "No_of_Fly_Members  Variance is   2.2564\n",
            "Emi_or_Rent_Amt  Variance is   38176400.0\n",
            "Annual_HH_Income  Variance is   100437186889.95831\n",
            "No_of_Earning_Members  Variance is   0.5284\n"
          ],
          "name": "stdout"
        }
      ]
    },
    {
      "cell_type": "code",
      "metadata": {
        "id": "a0RvjF8vxrJR"
      },
      "source": [
        "import statistics"
      ],
      "execution_count": null,
      "outputs": []
    },
    {
      "cell_type": "code",
      "metadata": {
        "id": "esI8sYQqxrJS"
      },
      "source": [
        "import math"
      ],
      "execution_count": null,
      "outputs": []
    },
    {
      "cell_type": "code",
      "metadata": {
        "id": "eOSZlp2HxrJS",
        "outputId": "36c843b2-cfe4-452c-f726-262a56b194f1"
      },
      "source": [
        "statistics.variance(df['Mthly_HH_Income'])"
      ],
      "execution_count": null,
      "outputs": [
        {
          "output_type": "execute_result",
          "data": {
            "text/plain": [
              "681100853.0612245"
            ]
          },
          "metadata": {
            "tags": []
          },
          "execution_count": 186
        }
      ]
    },
    {
      "cell_type": "markdown",
      "metadata": {
        "id": "InbVmFSXxrJT"
      },
      "source": [
        "# Standard Deviation "
      ]
    },
    {
      "cell_type": "markdown",
      "metadata": {
        "id": "_T3JougRxrJU"
      },
      "source": [
        "The Standard Deviation is a measure of how spread out numbers are,it is the square root of the Variance."
      ]
    },
    {
      "cell_type": "markdown",
      "metadata": {
        "id": "xpAC1y8WxrJV"
      },
      "source": [
        "![standard_deviation.jpg](attachment:standard_deviation.jpg)"
      ]
    },
    {
      "cell_type": "markdown",
      "metadata": {
        "id": "YafOE6-sxrJV"
      },
      "source": [
        "$$\n",
        "standard deviation: S = \\sqrt\\frac {\\sum_{i=1}^{n} (x_{i}-\\mu)^2}{n}\n",
        "$$"
      ]
    },
    {
      "cell_type": "code",
      "metadata": {
        "id": "2Qpjnk53xrJW"
      },
      "source": [
        "def std_fun(a):\n",
        "    sum=0\n",
        "    b=mean_fun(a)\n",
        "    for j in a:\n",
        "        sum=sum+((j-b)**2)\n",
        "    return (math.sqrt(sum/len(df)))\n"
      ],
      "execution_count": null,
      "outputs": []
    },
    {
      "cell_type": "code",
      "metadata": {
        "collapsed": true,
        "id": "XgXSRxM-xrJX",
        "outputId": "58e44686-38e1-4729-8388-ccf4b53739a4"
      },
      "source": [
        "for col in numeric_columns:\n",
        "    print(col+\"   standard deviation is\",std_fun(df[col]))\n",
        "    "
      ],
      "execution_count": null,
      "outputs": [
        {
          "output_type": "stream",
          "text": [
            "Mthly_HH_Income   standard deviation is 25835.611779092826\n",
            "Mthly_HH_Expense   standard deviation is 11968.704023410388\n",
            "No_of_Fly_Members   standard deviation is 1.502131818450032\n",
            "Emi_or_Rent_Amt   standard deviation is 6178.705366013175\n",
            "Annual_HH_Income   standard deviation is 316918.26531451027\n",
            "No_of_Earning_Members   standard deviation is 0.72691127381545\n"
          ],
          "name": "stdout"
        }
      ]
    },
    {
      "cell_type": "code",
      "metadata": {
        "id": "8tkxhvdtxrJZ",
        "outputId": "283ee249-6305-4c79-8d80-c12d7ab80b8a"
      },
      "source": [
        "np.std(df['Mthly_HH_Income'])"
      ],
      "execution_count": null,
      "outputs": [
        {
          "output_type": "execute_result",
          "data": {
            "text/plain": [
              "25835.611779092826"
            ]
          },
          "metadata": {
            "tags": []
          },
          "execution_count": 73
        }
      ]
    },
    {
      "cell_type": "markdown",
      "metadata": {
        "id": "idSJ9RhQxrJa"
      },
      "source": [
        "# Correlation"
      ]
    },
    {
      "cell_type": "markdown",
      "metadata": {
        "id": "MszLntfKxrJb"
      },
      "source": [
        "Correlation is used to test relationships between quantitative variables or categorical variables.It's a measure of how things are related.\n"
      ]
    },
    {
      "cell_type": "markdown",
      "metadata": {
        "id": "092NABDkxrJb"
      },
      "source": [
        "$$\n",
        "covariance= \\frac{\\sum_{i=1}^{n}(x_i-x_\\mu)(y_i-y_\\mu)}{n}\n",
        "$$\n",
        "$$\n",
        "Correlation=\\frac{covariance  (x,y)}{\\sigma_x \\sigma_y}\n",
        "$$"
      ]
    },
    {
      "cell_type": "code",
      "metadata": {
        "id": "PwdxlRtXxrJc"
      },
      "source": [
        "def cov_fun(a,b):\n",
        "    sum=0\n",
        "    x=mean_fun(a)\n",
        "    y=mean_fun(b)\n",
        "    for i in range(len(a)):\n",
        "        sum=sum+((a[i]-x)*(b[i]-y))\n",
        "    return sum/len(a)"
      ],
      "execution_count": null,
      "outputs": []
    },
    {
      "cell_type": "code",
      "metadata": {
        "id": "i6xxSAERxrJd"
      },
      "source": [
        "def corr_fun(a,b):\n",
        "    return cov_fun(a,b)/(std_fun(a)*std_fun(b))\n",
        "    "
      ],
      "execution_count": null,
      "outputs": []
    },
    {
      "cell_type": "code",
      "metadata": {
        "collapsed": true,
        "id": "jUteRI7gxrJe",
        "outputId": "2d91f8e1-6ff4-4cde-b651-3a5970b2c00c"
      },
      "source": [
        "a=numeric_columns[0]\n",
        "for i in numeric_columns:\n",
        "    if (a!=i):\n",
        "        print(\" Coorelation between \",a , i +\"is\",corr_fun(df[a],df[i]))\n",
        "    "
      ],
      "execution_count": null,
      "outputs": [
        {
          "output_type": "stream",
          "text": [
            " Coorelation between  Mthly_HH_Income Mthly_HH_Expenseis 0.6492152549316462\n",
            " Coorelation between  Mthly_HH_Income No_of_Fly_Membersis 0.4483173135943263\n",
            " Coorelation between  Mthly_HH_Income Emi_or_Rent_Amtis 0.03697611093890592\n",
            " Coorelation between  Mthly_HH_Income Annual_HH_Incomeis 0.9703154166603717\n",
            " Coorelation between  Mthly_HH_Income No_of_Earning_Membersis 0.34788345602238374\n"
          ],
          "name": "stdout"
        }
      ]
    },
    {
      "cell_type": "markdown",
      "metadata": {
        "id": "c_BRG52FxrJf"
      },
      "source": [
        "# Normal Distribution"
      ]
    },
    {
      "cell_type": "markdown",
      "metadata": {
        "id": "zHuXtfzAxrJf"
      },
      "source": [
        "The normal distribution is a continuous probability distribution that is symmetrical on both sides of the mean, so the right side of the center is a mirror image of the left side.\n",
        "\n",
        "The area under the normal distribution curve represents probability and the total area under the curve sums to one.\n"
      ]
    },
    {
      "cell_type": "markdown",
      "metadata": {
        "id": "U2qve86vxrJg"
      },
      "source": [
        "<svg xmlns:xlink=\"http://www.w3.org/1999/xlink\" width=\"24.446ex\" height=\"6.676ex\" style=\"vertical-align: -2.838ex;\" viewBox=\"0 -1652.5 10525.4 2874.4\" role=\"img\" focusable=\"false\" xmlns=\"http://www.w3.org/2000/svg\" aria-labelledby=\"MathJax-SVG-1-Title\">\n",
        "<title id=\"MathJax-SVG-1-Title\">{\\displaystyle f(x)={\\frac {1}{\\sigma {\\sqrt {2\\pi }}}}e^{-{\\frac {1}{2}}\\left({\\frac {x-\\mu }{\\sigma }}\\right)^{2}}}</title>\n",
        "<defs aria-hidden=\"true\">\n",
        "<path stroke-width=\"1\" id=\"E1-MJMATHI-66\" d=\"M118 -162Q120 -162 124 -164T135 -167T147 -168Q160 -168 171 -155T187 -126Q197 -99 221 27T267 267T289 382V385H242Q195 385 192 387Q188 390 188 397L195 425Q197 430 203 430T250 431Q298 431 298 432Q298 434 307 482T319 540Q356 705 465 705Q502 703 526 683T550 630Q550 594 529 578T487 561Q443 561 443 603Q443 622 454 636T478 657L487 662Q471 668 457 668Q445 668 434 658T419 630Q412 601 403 552T387 469T380 433Q380 431 435 431Q480 431 487 430T498 424Q499 420 496 407T491 391Q489 386 482 386T428 385H372L349 263Q301 15 282 -47Q255 -132 212 -173Q175 -205 139 -205Q107 -205 81 -186T55 -132Q55 -95 76 -78T118 -61Q162 -61 162 -103Q162 -122 151 -136T127 -157L118 -162Z\"></path>\n",
        "<path stroke-width=\"1\" id=\"E1-MJMAIN-28\" d=\"M94 250Q94 319 104 381T127 488T164 576T202 643T244 695T277 729T302 750H315H319Q333 750 333 741Q333 738 316 720T275 667T226 581T184 443T167 250T184 58T225 -81T274 -167T316 -220T333 -241Q333 -250 318 -250H315H302L274 -226Q180 -141 137 -14T94 250Z\"></path>\n",
        "<path stroke-width=\"1\" id=\"E1-MJMATHI-78\" d=\"M52 289Q59 331 106 386T222 442Q257 442 286 424T329 379Q371 442 430 442Q467 442 494 420T522 361Q522 332 508 314T481 292T458 288Q439 288 427 299T415 328Q415 374 465 391Q454 404 425 404Q412 404 406 402Q368 386 350 336Q290 115 290 78Q290 50 306 38T341 26Q378 26 414 59T463 140Q466 150 469 151T485 153H489Q504 153 504 145Q504 144 502 134Q486 77 440 33T333 -11Q263 -11 227 52Q186 -10 133 -10H127Q78 -10 57 16T35 71Q35 103 54 123T99 143Q142 143 142 101Q142 81 130 66T107 46T94 41L91 40Q91 39 97 36T113 29T132 26Q168 26 194 71Q203 87 217 139T245 247T261 313Q266 340 266 352Q266 380 251 392T217 404Q177 404 142 372T93 290Q91 281 88 280T72 278H58Q52 284 52 289Z\"></path>\n",
        "<path stroke-width=\"1\" id=\"E1-MJMAIN-29\" d=\"M60 749L64 750Q69 750 74 750H86L114 726Q208 641 251 514T294 250Q294 182 284 119T261 12T224 -76T186 -143T145 -194T113 -227T90 -246Q87 -249 86 -250H74Q66 -250 63 -250T58 -247T55 -238Q56 -237 66 -225Q221 -64 221 250T66 725Q56 737 55 738Q55 746 60 749Z\"></path>\n",
        "<path stroke-width=\"1\" id=\"E1-MJMAIN-3D\" d=\"M56 347Q56 360 70 367H707Q722 359 722 347Q722 336 708 328L390 327H72Q56 332 56 347ZM56 153Q56 168 72 173H708Q722 163 722 153Q722 140 707 133H70Q56 140 56 153Z\"></path>\n",
        "<path stroke-width=\"1\" id=\"E1-MJMAIN-31\" d=\"M213 578L200 573Q186 568 160 563T102 556H83V602H102Q149 604 189 617T245 641T273 663Q275 666 285 666Q294 666 302 660V361L303 61Q310 54 315 52T339 48T401 46H427V0H416Q395 3 257 3Q121 3 100 0H88V46H114Q136 46 152 46T177 47T193 50T201 52T207 57T213 61V578Z\"></path>\n",
        "<path stroke-width=\"1\" id=\"E1-MJMATHI-3C3\" d=\"M184 -11Q116 -11 74 34T31 147Q31 247 104 333T274 430Q275 431 414 431H552Q553 430 555 429T559 427T562 425T565 422T567 420T569 416T570 412T571 407T572 401Q572 357 507 357Q500 357 490 357T476 358H416L421 348Q439 310 439 263Q439 153 359 71T184 -11ZM361 278Q361 358 276 358Q152 358 115 184Q114 180 114 178Q106 141 106 117Q106 67 131 47T188 26Q242 26 287 73Q316 103 334 153T356 233T361 278Z\"></path>\n",
        "<path stroke-width=\"1\" id=\"E1-MJMAIN-32\" d=\"M109 429Q82 429 66 447T50 491Q50 562 103 614T235 666Q326 666 387 610T449 465Q449 422 429 383T381 315T301 241Q265 210 201 149L142 93L218 92Q375 92 385 97Q392 99 409 186V189H449V186Q448 183 436 95T421 3V0H50V19V31Q50 38 56 46T86 81Q115 113 136 137Q145 147 170 174T204 211T233 244T261 278T284 308T305 340T320 369T333 401T340 431T343 464Q343 527 309 573T212 619Q179 619 154 602T119 569T109 550Q109 549 114 549Q132 549 151 535T170 489Q170 464 154 447T109 429Z\"></path>\n",
        "<path stroke-width=\"1\" id=\"E1-MJMATHI-3C0\" d=\"M132 -11Q98 -11 98 22V33L111 61Q186 219 220 334L228 358H196Q158 358 142 355T103 336Q92 329 81 318T62 297T53 285Q51 284 38 284Q19 284 19 294Q19 300 38 329T93 391T164 429Q171 431 389 431Q549 431 553 430Q573 423 573 402Q573 371 541 360Q535 358 472 358H408L405 341Q393 269 393 222Q393 170 402 129T421 65T431 37Q431 20 417 5T381 -10Q370 -10 363 -7T347 17T331 77Q330 86 330 121Q330 170 339 226T357 318T367 358H269L268 354Q268 351 249 275T206 114T175 17Q164 -11 132 -11Z\"></path>\n",
        "<path stroke-width=\"1\" id=\"E1-MJMAIN-221A\" d=\"M95 178Q89 178 81 186T72 200T103 230T169 280T207 309Q209 311 212 311H213Q219 311 227 294T281 177Q300 134 312 108L397 -77Q398 -77 501 136T707 565T814 786Q820 800 834 800Q841 800 846 794T853 782V776L620 293L385 -193Q381 -200 366 -200Q357 -200 354 -197Q352 -195 256 15L160 225L144 214Q129 202 113 190T95 178Z\"></path>\n",
        "<path stroke-width=\"1\" id=\"E1-MJMATHI-65\" d=\"M39 168Q39 225 58 272T107 350T174 402T244 433T307 442H310Q355 442 388 420T421 355Q421 265 310 237Q261 224 176 223Q139 223 138 221Q138 219 132 186T125 128Q125 81 146 54T209 26T302 45T394 111Q403 121 406 121Q410 121 419 112T429 98T420 82T390 55T344 24T281 -1T205 -11Q126 -11 83 42T39 168ZM373 353Q367 405 305 405Q272 405 244 391T199 357T170 316T154 280T149 261Q149 260 169 260Q282 260 327 284T373 353Z\"></path>\n",
        "<path stroke-width=\"1\" id=\"E1-MJMAIN-2212\" d=\"M84 237T84 250T98 270H679Q694 262 694 250T679 230H98Q84 237 84 250Z\"></path>\n",
        "<path stroke-width=\"1\" id=\"E1-MJMATHI-3BC\" d=\"M58 -216Q44 -216 34 -208T23 -186Q23 -176 96 116T173 414Q186 442 219 442Q231 441 239 435T249 423T251 413Q251 401 220 279T187 142Q185 131 185 107V99Q185 26 252 26Q261 26 270 27T287 31T302 38T315 45T327 55T338 65T348 77T356 88T365 100L372 110L408 253Q444 395 448 404Q461 431 491 431Q504 431 512 424T523 412T525 402L449 84Q448 79 448 68Q448 43 455 35T476 26Q485 27 496 35Q517 55 537 131Q543 151 547 152Q549 153 557 153H561Q580 153 580 144Q580 138 575 117T555 63T523 13Q510 0 491 -8Q483 -10 467 -10Q446 -10 429 -4T402 11T385 29T376 44T374 51L368 45Q362 39 350 30T324 12T288 -4T246 -11Q199 -11 153 12L129 -85Q108 -167 104 -180T92 -202Q76 -216 58 -216Z\"></path>\n",
        "<path stroke-width=\"1\" id=\"E1-MJSZ2-28\" d=\"M180 96T180 250T205 541T266 770T353 944T444 1069T527 1150H555Q561 1144 561 1141Q561 1137 545 1120T504 1072T447 995T386 878T330 721T288 513T272 251Q272 133 280 56Q293 -87 326 -209T399 -405T475 -531T536 -609T561 -640Q561 -643 555 -649H527Q483 -612 443 -568T353 -443T266 -270T205 -41Z\"></path>\n",
        "<path stroke-width=\"1\" id=\"E1-MJSZ2-29\" d=\"M35 1138Q35 1150 51 1150H56H69Q113 1113 153 1069T243 944T330 771T391 541T416 250T391 -40T330 -270T243 -443T152 -568T69 -649H56Q43 -649 39 -647T35 -637Q65 -607 110 -548Q283 -316 316 56Q324 133 324 251Q324 368 316 445Q278 877 48 1123Q36 1137 35 1138Z\"></path>\n",
        "</defs>\n",
        "<g stroke=\"currentColor\" fill=\"currentColor\" stroke-width=\"0\" transform=\"matrix(1 0 0 -1 0 0)\" aria-hidden=\"true\">\n",
        " <use xlink:href=\"#E1-MJMATHI-66\" x=\"0\" y=\"0\"></use>\n",
        " <use xlink:href=\"#E1-MJMAIN-28\" x=\"550\" y=\"0\"></use>\n",
        " <use xlink:href=\"#E1-MJMATHI-78\" x=\"940\" y=\"0\"></use>\n",
        " <use xlink:href=\"#E1-MJMAIN-29\" x=\"1512\" y=\"0\"></use>\n",
        " <use xlink:href=\"#E1-MJMAIN-3D\" x=\"2179\" y=\"0\"></use>\n",
        "<g transform=\"translate(3236,0)\">\n",
        "<g transform=\"translate(120,0)\">\n",
        "<rect stroke=\"none\" width=\"2600\" height=\"60\" x=\"0\" y=\"220\"></rect>\n",
        " <use xlink:href=\"#E1-MJMAIN-31\" x=\"1049\" y=\"676\"></use>\n",
        "<g transform=\"translate(60,-915)\">\n",
        " <use xlink:href=\"#E1-MJMATHI-3C3\" x=\"0\" y=\"0\"></use>\n",
        "<g transform=\"translate(572,0)\">\n",
        " <use xlink:href=\"#E1-MJMAIN-221A\" x=\"0\" y=\"33\"></use>\n",
        "<rect stroke=\"none\" width=\"1074\" height=\"60\" x=\"833\" y=\"774\"></rect>\n",
        "<g transform=\"translate(833,0)\">\n",
        " <use xlink:href=\"#E1-MJMAIN-32\" x=\"0\" y=\"0\"></use>\n",
        " <use xlink:href=\"#E1-MJMATHI-3C0\" x=\"500\" y=\"0\"></use>\n",
        "</g>\n",
        "</g>\n",
        "</g>\n",
        "</g>\n",
        "</g>\n",
        "<g transform=\"translate(6076,0)\">\n",
        " <use xlink:href=\"#E1-MJMATHI-65\" x=\"0\" y=\"0\"></use>\n",
        "<g transform=\"translate(466,567)\">\n",
        " <use transform=\"scale(0.707)\" xlink:href=\"#E1-MJMAIN-2212\" x=\"0\" y=\"0\"></use>\n",
        "<g transform=\"translate(550,0)\">\n",
        "<g transform=\"translate(120,0)\">\n",
        "<rect stroke=\"none\" width=\"407\" height=\"60\" x=\"0\" y=\"146\"></rect>\n",
        " <use transform=\"scale(0.574)\" xlink:href=\"#E1-MJMAIN-31\" x=\"104\" y=\"647\"></use>\n",
        " <use transform=\"scale(0.574)\" xlink:href=\"#E1-MJMAIN-32\" x=\"104\" y=\"-698\"></use>\n",
        "</g>\n",
        "</g>\n",
        "<g transform=\"translate(1197,0)\">\n",
        " <use transform=\"scale(0.707)\" xlink:href=\"#E1-MJSZ2-28\"></use>\n",
        "<g transform=\"translate(422,0)\">\n",
        "<g transform=\"translate(120,0)\">\n",
        "<rect stroke=\"none\" width=\"1242\" height=\"60\" x=\"0\" y=\"146\"></rect>\n",
        "<g transform=\"translate(60,495)\">\n",
        " <use transform=\"scale(0.574)\" xlink:href=\"#E1-MJMATHI-78\" x=\"0\" y=\"0\"></use>\n",
        " <use transform=\"scale(0.574)\" xlink:href=\"#E1-MJMAIN-2212\" x=\"572\" y=\"0\"></use>\n",
        " <use transform=\"scale(0.574)\" xlink:href=\"#E1-MJMATHI-3BC\" x=\"1351\" y=\"0\"></use>\n",
        "</g>\n",
        " <use transform=\"scale(0.574)\" xlink:href=\"#E1-MJMATHI-3C3\" x=\"795\" y=\"-463\"></use>\n",
        "</g>\n",
        "</g>\n",
        " <use transform=\"scale(0.707)\" xlink:href=\"#E1-MJSZ2-29\" x=\"2693\" y=\"-1\"></use>\n",
        " <use transform=\"scale(0.574)\" xlink:href=\"#E1-MJMAIN-32\" x=\"4053\" y=\"1061\"></use>\n",
        "</g>\n",
        "</g>\n",
        "</g>\n",
        "</g>\n",
        "</svg>"
      ]
    },
    {
      "cell_type": "markdown",
      "metadata": {
        "id": "UukymzdoxrJy"
      },
      "source": [
        "$$\n",
        "X_{norm}=\\frac {x-x_{min}}{x_{max}-x_{min}}\n",
        "$$"
      ]
    },
    {
      "cell_type": "code",
      "metadata": {
        "id": "wSNucLfdxrKA"
      },
      "source": [
        "def normalization_fun(a):\n",
        "    maximum=max(a)\n",
        "    minimum=min(a)\n",
        "    norm_list=[]\n",
        "    for i in a:\n",
        "        value=(i-minimum)/(maximum-minimum)\n",
        "        norm_list.append(value)\n",
        "    return (norm_list)"
      ],
      "execution_count": null,
      "outputs": []
    },
    {
      "cell_type": "code",
      "metadata": {
        "id": "bfZQTN1XxrKB"
      },
      "source": [
        "import seaborn as sns\n",
        "import matplotlib.pyplot as plt\n",
        "%matplotlib inline"
      ],
      "execution_count": null,
      "outputs": []
    },
    {
      "cell_type": "code",
      "metadata": {
        "collapsed": true,
        "id": "giKThpEOxrKB",
        "outputId": "fc33cb98-6dd3-4da1-80dc-8c1465388caf"
      },
      "source": [
        "for i in numeric_columns:\n",
        "\n",
        "    sns.distplot(normalization_fun(df[i]))\n",
        "    plt.show()"
      ],
      "execution_count": null,
      "outputs": [
        {
          "output_type": "stream",
          "text": [
            "C:\\Users\\admin\\anaconda3\\lib\\site-packages\\seaborn\\distributions.py:2551: FutureWarning: `distplot` is a deprecated function and will be removed in a future version. Please adapt your code to use either `displot` (a figure-level function with similar flexibility) or `histplot` (an axes-level function for histograms).\n",
            "  warnings.warn(msg, FutureWarning)\n"
          ],
          "name": "stderr"
        },
        {
          "output_type": "display_data",
          "data": {
            "image/png": "[encoded data removed]",
            "text/plain": [
              "<Figure size 432x288 with 1 Axes>"
            ]
          },
          "metadata": {
            "tags": [],
            "needs_background": "light"
          }
        },
        {
          "output_type": "stream",
          "text": [
            "C:\\Users\\admin\\anaconda3\\lib\\site-packages\\seaborn\\distributions.py:2551: FutureWarning: `distplot` is a deprecated function and will be removed in a future version. Please adapt your code to use either `displot` (a figure-level function with similar flexibility) or `histplot` (an axes-level function for histograms).\n",
            "  warnings.warn(msg, FutureWarning)\n"
          ],
          "name": "stderr"
        },
        {
          "output_type": "display_data",
          "data": {
            "image/png": "[encoded data removed]",
            "text/plain": [
              "<Figure size 432x288 with 1 Axes>"
            ]
          },
          "metadata": {
            "tags": [],
            "needs_background": "light"
          }
        },
        {
          "output_type": "stream",
          "text": [
            "C:\\Users\\admin\\anaconda3\\lib\\site-packages\\seaborn\\distributions.py:2551: FutureWarning: `distplot` is a deprecated function and will be removed in a future version. Please adapt your code to use either `displot` (a figure-level function with similar flexibility) or `histplot` (an axes-level function for histograms).\n",
            "  warnings.warn(msg, FutureWarning)\n"
          ],
          "name": "stderr"
        },
        {
          "output_type": "display_data",
          "data": {
            "image/png": "[encoded data removed]",
            "text/plain": [
              "<Figure size 432x288 with 1 Axes>"
            ]
          },
          "metadata": {
            "tags": [],
            "needs_background": "light"
          }
        },
        {
          "output_type": "stream",
          "text": [
            "C:\\Users\\admin\\anaconda3\\lib\\site-packages\\seaborn\\distributions.py:2551: FutureWarning: `distplot` is a deprecated function and will be removed in a future version. Please adapt your code to use either `displot` (a figure-level function with similar flexibility) or `histplot` (an axes-level function for histograms).\n",
            "  warnings.warn(msg, FutureWarning)\n"
          ],
          "name": "stderr"
        },
        {
          "output_type": "display_data",
          "data": {
            "image/png": "[encoded data removed]",
            "text/plain": [
              "<Figure size 432x288 with 1 Axes>"
            ]
          },
          "metadata": {
            "tags": [],
            "needs_background": "light"
          }
        },
        {
          "output_type": "stream",
          "text": [
            "C:\\Users\\admin\\anaconda3\\lib\\site-packages\\seaborn\\distributions.py:2551: FutureWarning: `distplot` is a deprecated function and will be removed in a future version. Please adapt your code to use either `displot` (a figure-level function with similar flexibility) or `histplot` (an axes-level function for histograms).\n",
            "  warnings.warn(msg, FutureWarning)\n"
          ],
          "name": "stderr"
        },
        {
          "output_type": "display_data",
          "data": {
            "image/png": "[encoded data removed]",
            "text/plain": [
              "<Figure size 432x288 with 1 Axes>"
            ]
          },
          "metadata": {
            "tags": [],
            "needs_background": "light"
          }
        },
        {
          "output_type": "stream",
          "text": [
            "C:\\Users\\admin\\anaconda3\\lib\\site-packages\\seaborn\\distributions.py:2551: FutureWarning: `distplot` is a deprecated function and will be removed in a future version. Please adapt your code to use either `displot` (a figure-level function with similar flexibility) or `histplot` (an axes-level function for histograms).\n",
            "  warnings.warn(msg, FutureWarning)\n"
          ],
          "name": "stderr"
        },
        {
          "output_type": "display_data",
          "data": {
            "image/png": "[encoded data removed]",
            "text/plain": [
              "<Figure size 432x288 with 1 Axes>"
            ]
          },
          "metadata": {
            "tags": [],
            "needs_background": "light"
          }
        }
      ]
    },
    {
      "cell_type": "markdown",
      "metadata": {
        "id": "z6Y1BtG_xrKD"
      },
      "source": [
        "# Features of Normal Distribution"
      ]
    },
    {
      "cell_type": "markdown",
      "metadata": {
        "id": "KINYrUKcxrKD"
      },
      "source": [
        "\n",
        "   The normal distribution is the most important probability distribution in statistics because many continuous data in nature and psychology displays this bell-shaped curve when compiled and graphed.\n",
        "   \n",
        "The most powerful (parametric) statistical tests used by psychologists require data to be normally distributed. If the data does not resemble a bell curve researchers may have to use a less powerful type of statistical test, called non-parametric statistics.\n",
        "\n",
        "We can standardized the values (raw scores) of a normal distribution by converting them into z-scores.\n",
        "\n",
        "This procedure allows researchers to determine the proportion of the values that fall within a specified number of standard deviations from the mean (i.e. calculate the empirical rule).\n",
        "\n",
        "The empirical rule in statistics allows researchers to determine the proportion of values that fall within certain distances from the mean. The empirical rule is often referred to as the three-sigma rule or the 68-95-99.7 rule"
      ]
    },
    {
      "cell_type": "markdown",
      "metadata": {
        "id": "eF4nf4_uxrKE"
      },
      "source": [
        "1.The mean, mode and median are all equal.\n",
        "\n",
        "2.The curve is symmetric at the center (i.e. around the mean, μ).\n",
        "\n",
        "3.Exactly half of the values are to the left of center and exactly half the values are to the right.\n",
        "\n",
        "4.The total area under the curve is 1."
      ]
    },
    {
      "cell_type": "markdown",
      "metadata": {
        "id": "HFOiqqwExrKF"
      },
      "source": [
        "# Positively Skewed & Negatively Skewed Normal Distribution"
      ]
    },
    {
      "cell_type": "markdown",
      "metadata": {
        "id": "-byS5gfXxrKG"
      },
      "source": [
        "Besides positive and negative skew, distributions can also be said to have zero or undefined skew. In the curve of a distribution, the data on the right side of the curve may taper differently from the data on the left side. These taperings are known as \"tails.\" Negative skew refers to a longer or fatter tail on the left side of the distribution, while positive skew refers to a longer or fatter tail on the right."
      ]
    },
    {
      "cell_type": "markdown",
      "metadata": {
        "id": "SWhIkG5rxrKH"
      },
      "source": [
        "![p_nskewness.png](attachment:p_nskewness.png)"
      ]
    },
    {
      "cell_type": "markdown",
      "metadata": {
        "id": "uTVAFD26xrKH"
      },
      "source": [
        "![p_n.png](attachment:p_n.png)"
      ]
    },
    {
      "cell_type": "markdown",
      "metadata": {
        "id": "Gclx1pbexrKI"
      },
      "source": [
        "$$\n",
        " skewness = \\frac{3(mean-median)}{standarddeviation}\n",
        "$$"
      ]
    },
    {
      "cell_type": "code",
      "metadata": {
        "id": "aOCA2UCtxrKI"
      },
      "source": [
        "def  skewness_fun(a):\n",
        "    a=(3*(mean_fun(a)-median_fun(a)))/std_fun(a)\n",
        "    return a"
      ],
      "execution_count": null,
      "outputs": []
    },
    {
      "cell_type": "code",
      "metadata": {
        "collapsed": true,
        "id": "XTsQEv26xrKJ",
        "outputId": "3f825493-1ab2-42c5-cb64-328c71c51581"
      },
      "source": [
        "for i in numeric_columns:\n",
        "    print(i+\"  Skewness is \",skewness_fun(df[i]))"
      ],
      "execution_count": null,
      "outputs": [
        {
          "output_type": "stream",
          "text": [
            "Mthly_HH_Income  Skewness is  0.761507030227206\n",
            "Mthly_HH_Expense  Skewness is  0.8316689911063309\n",
            "No_of_Fly_Members  Skewness is  0.11982969656133842\n",
            "Emi_or_Rent_Amt  Skewness is  1.4857481391645346\n",
            "Annual_HH_Income  Skewness is  0.40324946204401896\n",
            "No_of_Earning_Members  Skewness is  1.8984435235906902\n"
          ],
          "name": "stdout"
        }
      ]
    },
    {
      "cell_type": "code",
      "metadata": {
        "collapsed": true,
        "id": "56K6UVs0xrKJ",
        "outputId": "6cc9dd8f-4302-42f1-9472-f6e174b85156"
      },
      "source": [
        "for i in numeric_columns:\n",
        "    print(df[i].skew())"
      ],
      "execution_count": null,
      "outputs": [
        {
          "output_type": "stream",
          "text": [
            "0.9246148763777229\n",
            "1.1994608030097127\n",
            "0.11367415455857431\n",
            "3.403679844103547\n",
            "1.1929490975818218\n",
            "1.5933009869600223\n"
          ],
          "name": "stdout"
        }
      ]
    },
    {
      "cell_type": "markdown",
      "metadata": {
        "id": "wi0dY7M3xrKK"
      },
      "source": [
        "# Effect on Mean, Median and Mode due to Skewness"
      ]
    },
    {
      "cell_type": "markdown",
      "metadata": {
        "id": "tRw0mP7zxrKK"
      },
      "source": [
        "If the mean is greater than the median, the distribution is positively skewed.\n"
      ]
    },
    {
      "cell_type": "markdown",
      "metadata": {
        "id": "fnGdSPLRxrKL"
      },
      "source": [
        "![p_s_i.jpg](attachment:p_s_i.jpg)"
      ]
    },
    {
      "cell_type": "markdown",
      "metadata": {
        "id": "qbLP21zRxrKL"
      },
      "source": [
        "$$\n",
        "Mode  <  Median  < Mean\n",
        "$$\n"
      ]
    },
    {
      "cell_type": "code",
      "metadata": {
        "id": "ofKHjIWFxrKM"
      },
      "source": [
        " If the mean is less than the median, the distribution is negatively skewed."
      ],
      "execution_count": null,
      "outputs": []
    },
    {
      "cell_type": "markdown",
      "metadata": {
        "id": "3KaGBIwuxrKM"
      },
      "source": [
        "![n_n.png](attachment:n_n.png)"
      ]
    },
    {
      "cell_type": "markdown",
      "metadata": {
        "id": "djKu-r_hxrKN"
      },
      "source": [
        "$$\n",
        "Mode  <  Median  < Mean\n",
        "$$"
      ]
    },
    {
      "cell_type": "code",
      "metadata": {
        "id": "ODEFweRdxrKN"
      },
      "source": [
        ""
      ],
      "execution_count": null,
      "outputs": []
    }
  ]
}